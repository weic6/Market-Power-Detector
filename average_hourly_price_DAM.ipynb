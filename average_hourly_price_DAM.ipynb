{
 "cells": [
  {
   "cell_type": "markdown",
   "metadata": {},
   "source": [
    "# Run this jupyter notebook to get hourly average prices (LMP, MCC, MCE, MCL) for a given time range"
   ]
  },
  {
   "cell_type": "code",
   "execution_count": 1,
   "metadata": {},
   "outputs": [],
   "source": [
    "import os\n",
    "from glob import glob\n",
    "import pandas as pd\n",
    "import sys\n",
    "\n",
    "sys.path.append(os.getcwd())"
   ]
  },
  {
   "cell_type": "markdown",
   "metadata": {},
   "source": [
    "## Scrape LMP (along with MCL, MCE, MCC) in DAM"
   ]
  },
  {
   "cell_type": "code",
   "execution_count": 2,
   "metadata": {},
   "outputs": [
    {
     "name": "stdout",
     "output_type": "stream",
     "text": [
      "Namespace(market='DAM', start_date='20230723', end_date='20230727', save_to_path='data/prices/zip')\n"
     ]
    },
    {
     "name": "stderr",
     "output_type": "stream",
     "text": [
      "Downloading: 20230727_20230727_DAM_LMP_GRP_N_N_v12_csv.zip: 100%|█| 5/5 [01:15<0"
     ]
    },
    {
     "name": "stdout",
     "output_type": "stream",
     "text": [
      "Successfully downloaded data from 20230723 to 20230727\n"
     ]
    },
    {
     "name": "stderr",
     "output_type": "stream",
     "text": [
      "\n"
     ]
    }
   ],
   "source": [
    "# replace the following variables with your own\n",
    "_market = \"DAM\"\n",
    "_start_date = \"20230723\"\n",
    "_end_date = \"20230727\"\n",
    "\n",
    "data_folder = \"data/LMP\" #just updated as LMP, instead of prices\n",
    "zip_data_folder = os.path.join(data_folder, \"raw\")\n",
    "%run -i 'scraper_CAISO_LMP.py' --market {_market} --start_date {_start_date} --end_date {_end_date} --save_to_path {zip_data_folder}"
   ]
  },
  {
   "cell_type": "markdown",
   "metadata": {},
   "source": [
    "## Unzip files"
   ]
  },
  {
   "cell_type": "code",
   "execution_count": 3,
   "metadata": {},
   "outputs": [
    {
     "name": "stderr",
     "output_type": "stream",
     "text": [
      "Extracting: 20230723_20230723_DAM_LMP_GRP_N_N_v12_csv.zip: 100%|█| 5/5 [00:00<00"
     ]
    },
    {
     "name": "stdout",
     "output_type": "stream",
     "text": [
      "Successfully extract files into data/prices/unzip\n"
     ]
    },
    {
     "name": "stderr",
     "output_type": "stream",
     "text": [
      "\n"
     ]
    }
   ],
   "source": [
    "from utils import unzip_files\n",
    "\n",
    "unzip_data_folder = os.path.join(data_folder, 'unzip')\n",
    "unzip_files(input_dir=zip_data_folder, output_dir=unzip_data_folder)"
   ]
  },
  {
   "cell_type": "markdown",
   "metadata": {},
   "source": [
    "## Prepare LMP, MCC, MCE, MCL files"
   ]
  },
  {
   "cell_type": "code",
   "execution_count": 4,
   "metadata": {},
   "outputs": [
    {
     "name": "stdout",
     "output_type": "stream",
     "text": [
      "===LMP===\n",
      "\n",
      "['20230723_20230723_PRC_LMP_DAM_LMP_v12.csv', '20230724_20230724_PRC_LMP_DAM_LMP_v12.csv', '20230725_20230725_PRC_LMP_DAM_LMP_v12.csv', '20230726_20230726_PRC_LMP_DAM_LMP_v12.csv', '20230727_20230727_PRC_LMP_DAM_LMP_v12.csv'] \n",
      "\n",
      "===MCC===\n",
      "\n",
      "['20230723_20230723_PRC_LMP_DAM_MCC_v12.csv', '20230724_20230724_PRC_LMP_DAM_MCC_v12.csv', '20230725_20230725_PRC_LMP_DAM_MCC_v12.csv', '20230726_20230726_PRC_LMP_DAM_MCC_v12.csv', '20230727_20230727_PRC_LMP_DAM_MCC_v12.csv'] \n",
      "\n",
      "===MCE===\n",
      "\n",
      "['20230723_20230723_PRC_LMP_DAM_MCE_v12.csv', '20230724_20230724_PRC_LMP_DAM_MCE_v12.csv', '20230725_20230725_PRC_LMP_DAM_MCE_v12.csv', '20230726_20230726_PRC_LMP_DAM_MCE_v12.csv', '20230727_20230727_PRC_LMP_DAM_MCE_v12.csv'] \n",
      "\n",
      "===MCL===\n",
      "\n",
      "['20230723_20230723_PRC_LMP_DAM_MCL_v12.csv', '20230724_20230724_PRC_LMP_DAM_MCL_v12.csv', '20230725_20230725_PRC_LMP_DAM_MCL_v12.csv', '20230726_20230726_PRC_LMP_DAM_MCL_v12.csv', '20230727_20230727_PRC_LMP_DAM_MCL_v12.csv'] \n",
      "\n"
     ]
    }
   ],
   "source": [
    "# load LMP csv files\n",
    "current_dir = os.getcwd() # use os.path.dirname(__file__) does not work in jupyter notebook\n",
    "data_dir = os.path.join(current_dir, unzip_data_folder)\n",
    "\n",
    "LMP_csv_files = sorted(glob(os.path.join(data_dir, '*_LMP_DAM_LMP_*.csv')))\n",
    "MCC_csv_files = sorted(glob(os.path.join(data_dir, '*_LMP_DAM_MCC_*.csv')))\n",
    "MCE_csv_files = sorted(glob(os.path.join(data_dir, '*_LMP_DAM_MCE_*.csv')))\n",
    "MCL_csv_files = sorted(glob(os.path.join(data_dir, '*_LMP_DAM_MCL_*.csv')))\n",
    "\n",
    "print(\"===LMP===\\n\")\n",
    "print([os.path.basename(file) for file in LMP_csv_files[:5]], \"\\n\")\n",
    "print(\"===MCC===\\n\")\n",
    "print([os.path.basename(file) for file in MCC_csv_files[:5]], \"\\n\")\n",
    "print(\"===MCE===\\n\")\n",
    "print([os.path.basename(file) for file in MCE_csv_files[:5]], \"\\n\")\n",
    "print(\"===MCL===\\n\")\n",
    "print([os.path.basename(file) for file in MCL_csv_files[:5]], \"\\n\")"
   ]
  },
  {
   "cell_type": "markdown",
   "metadata": {},
   "source": [
    "## Calculate hourly average price for LMP, MCC, MCE, MCL and save the results into separate csv files"
   ]
  },
  {
   "cell_type": "code",
   "execution_count": 5,
   "metadata": {},
   "outputs": [
    {
     "name": "stdout",
     "output_type": "stream",
     "text": [
      "Done.\n"
     ]
    }
   ],
   "source": [
    "from draw_avg_price import find_hourly_avg_price\n",
    "\n",
    "avg_price_folder = os.path.join(data_folder, 'avg_hourly_price')\n",
    "\n",
    "find_hourly_avg_price(\n",
    "    LMP_csv_files=LMP_csv_files,\n",
    "    MCC_csv_files=MCC_csv_files,\n",
    "    MCE_csv_files=MCE_csv_files,\n",
    "    MCL_csv_files=MCL_csv_files,\n",
    "    output_dir=avg_price_folder,\n",
    ")\n",
    "\n",
    "print('Done.')"
   ]
  },
  {
   "cell_type": "code",
   "execution_count": 6,
   "metadata": {},
   "outputs": [
    {
     "data": {
      "text/plain": [
       "['data/prices/avg_hourly_price/hourly_average_LMP.csv',\n",
       " 'data/prices/avg_hourly_price/hourly_average_MCC.csv',\n",
       " 'data/prices/avg_hourly_price/hourly_average_MCE.csv',\n",
       " 'data/prices/avg_hourly_price/hourly_average_MCL.csv']"
      ]
     },
     "execution_count": 6,
     "metadata": {},
     "output_type": "execute_result"
    }
   ],
   "source": [
    "sorted(glob(os.path.join(avg_price_folder, '*')))"
   ]
  },
  {
   "cell_type": "markdown",
   "metadata": {},
   "source": [
    "## Peek average prices"
   ]
  },
  {
   "cell_type": "code",
   "execution_count": 7,
   "metadata": {},
   "outputs": [
    {
     "name": "stdout",
     "output_type": "stream",
     "text": [
      "       INTERVALSTARTTIME_GMT         MW      OPR_DT LMP_TYPE\n",
      "0  2023-07-23T07:00:00-00:00  66.924758  2023-07-23      LMP\n",
      "1  2023-07-23T08:00:00-00:00  62.210409  2023-07-23      LMP\n",
      "2  2023-07-23T09:00:00-00:00  56.600809  2023-07-23      LMP\n",
      "3  2023-07-23T10:00:00-00:00  55.783114  2023-07-23      LMP\n",
      "4  2023-07-23T11:00:00-00:00  58.408803  2023-07-23      LMP\n",
      "       INTERVALSTARTTIME_GMT        MW      OPR_DT LMP_TYPE\n",
      "0  2023-07-23T07:00:00-00:00  0.201228  2023-07-23      MCC\n",
      "1  2023-07-23T08:00:00-00:00  0.104237  2023-07-23      MCC\n",
      "2  2023-07-23T09:00:00-00:00 -0.055910  2023-07-23      MCC\n",
      "3  2023-07-23T10:00:00-00:00 -0.170398  2023-07-23      MCC\n",
      "4  2023-07-23T11:00:00-00:00 -0.208846  2023-07-23      MCC\n",
      "       INTERVALSTARTTIME_GMT         MW      OPR_DT LMP_TYPE\n",
      "0  2023-07-23T07:00:00-00:00  68.672913  2023-07-23      MCE\n",
      "1  2023-07-23T08:00:00-00:00  63.908187  2023-07-23      MCE\n",
      "2  2023-07-23T09:00:00-00:00  58.131855  2023-07-23      MCE\n",
      "3  2023-07-23T10:00:00-00:00  57.339101  2023-07-23      MCE\n",
      "4  2023-07-23T11:00:00-00:00  60.128281  2023-07-23      MCE\n",
      "       INTERVALSTARTTIME_GMT        MW      OPR_DT LMP_TYPE\n",
      "0  2023-07-23T07:00:00-00:00 -1.949385  2023-07-23      MCL\n",
      "1  2023-07-23T08:00:00-00:00 -1.802021  2023-07-23      MCL\n",
      "2  2023-07-23T09:00:00-00:00 -1.475133  2023-07-23      MCL\n",
      "3  2023-07-23T10:00:00-00:00 -1.385592  2023-07-23      MCL\n",
      "4  2023-07-23T11:00:00-00:00 -1.510630  2023-07-23      MCL\n"
     ]
    }
   ],
   "source": [
    "for file in sorted(glob(os.path.join(current_dir, avg_price_folder, '*'))):\n",
    "    df = pd.read_csv(file, low_memory=False)\n",
    "    print(df.head())"
   ]
  },
  {
   "cell_type": "code",
   "execution_count": null,
   "metadata": {},
   "outputs": [],
   "source": []
  }
 ],
 "metadata": {
  "kernelspec": {
   "display_name": "Python 3 (ipykernel)",
   "language": "python",
   "name": "python3"
  },
  "language_info": {
   "codemirror_mode": {
    "name": "ipython",
    "version": 3
   },
   "file_extension": ".py",
   "mimetype": "text/x-python",
   "name": "python",
   "nbconvert_exporter": "python",
   "pygments_lexer": "ipython3",
   "version": "3.11.8"
  }
 },
 "nbformat": 4,
 "nbformat_minor": 2
}
