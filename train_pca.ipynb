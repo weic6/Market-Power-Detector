{
 "cells": [
  {
   "cell_type": "code",
   "execution_count": 1,
   "metadata": {},
   "outputs": [],
   "source": [
    "import numpy as np\n",
    "import pandas as pd\n",
    "from sklearn.cluster import KMeans\n",
    "from scipy.spatial import distance_matrix\n",
    "import matplotlib.pyplot as plt\n",
    "import sys"
   ]
  },
  {
   "cell_type": "markdown",
   "metadata": {},
   "source": [
    "```python\n",
    "\n",
    "    # Load the dataset\n",
    "    # Preprocess the data \n",
    "    # Perform feature scaling\n",
    "    # Calculate the distance matrix from input features\n",
    "    train_dist_mat = distance_matrix(data, data)\n",
    "\n",
    "    # Initialize the unsupervised learning model\n",
    "    model = KMeans(n_clusters=3)  # Specify the number of clusters\n",
    "    # Fit the model to the distance matrix\n",
    "    model.fit(distance_matrix)\n",
    "    # Get the predicted labels for the data points\n",
    "    labels = model.labels_\n",
    "    # Perform further analysis or visualization with the obtained labels\n",
    "\n",
    "    # ...\n",
    "\n",
    "    # Evaluate the performance of the model (if applicable)\n",
    "    # ...\n",
    "\n",
    "    # Save the model (if needed)\n",
    "    # ...\n",
    "\n",
    "    pass\n",
    "```"
   ]
  },
  {
   "cell_type": "markdown",
   "metadata": {},
   "source": [
    "## Helper Function"
   ]
  },
  {
   "cell_type": "code",
   "execution_count": 2,
   "metadata": {},
   "outputs": [],
   "source": [
    "def printStats(df, shape=True, type=True, stats=True, topFewRow=True):\n",
    "    '''\n",
    "    print the following statistics of the dataframes: \n",
    "    shape, type of each column, statistics of each column, top few rows.\n",
    "    \n",
    "    Parameters:\n",
    "    df: pandas dataframe\n",
    "    shape: bool, default=True\n",
    "        print the shape of the dataframe\n",
    "    type: bool, default=False\n",
    "        print the type of each column in the dataframe\n",
    "    stats: bool, default=False  \n",
    "        print the statistics of each column in the dataframe\n",
    "    topFewRow: bool, default=False\n",
    "        print the top few rows of the dataframe\n",
    "    Returns:\n",
    "    None\n",
    "    '''\n",
    "    \n",
    "    if shape:\n",
    "        print(\"=====================================================\")\n",
    "        print(f\"size of data is: {df.shape}\")\n",
    "\n",
    "    if type:\n",
    "        print(\"=====================================================\")\n",
    "        print(f\"type of each column is:\\n{df.dtypes}\")\n",
    "\n",
    "    if stats:\n",
    "        print(\"=====================================================\")\n",
    "        print(f\"Statistics in data:\\n {df.describe()}\")\n",
    "        \n",
    "    if topFewRow:\n",
    "        print(\"=====================================================\")\n",
    "        print(f\"Top few rows in data:\\n{df.head()}\")   \n",
    "        \n",
    "def filter_data(df, HOUR=None, RESOURCEBID_SEQ=None):\n",
    "    '''\n",
    "    filter data to specific hour and and specific resourcebid_seq\n",
    "    '''\n",
    "    df[\"hr_start\"] = df[\"SCH_BID_TIMEINTERVALSTART\"].dt.hour\n",
    "    df[\"hr_stop\"] = df[\"SCH_BID_TIMEINTERVALSTOP\"].dt.hour\n",
    "    df.loc[\n",
    "        df[\"hr_stop\"] == 0,\n",
    "        \"hr_stop\",\n",
    "    ] = 24\n",
    "\n",
    "    if RESOURCEBID_SEQ is not None:\n",
    "        df = df[df[\"RESOURCEBID_SEQ\"] == RESOURCEBID_SEQ]\n",
    "\n",
    "    if HOUR is not None:\n",
    "        df = df[\n",
    "            (df[\"hr_start\"] <= HOUR) & (df[\"hr_stop\"] > HOUR)\n",
    "        ].copy()\n",
    "        \n",
    "    df.sort_values(\n",
    "        by=[\n",
    "            \"SCH_BID_TIMEINTERVALSTART\",\n",
    "            \"SCH_BID_TIMEINTERVALSTOP\",\n",
    "            \"SCH_BID_XAXISDATA\",\n",
    "        ],\n",
    "        inplace=True,\n",
    "    )\n",
    "    return df\n",
    "\n",
    "def extract_feat(df_data):\n",
    "    '''\n",
    "    extract features from the data\n",
    "    '''\n",
    "    matrices = {}\n",
    "    grouped = df_data.groupby('SCH_BID_TIMEINTERVALSTART')\n",
    "\n",
    "    for start_time, group in grouped:\n",
    "        # For each group, select SCH_BID_XAXISDATA and SCH_BID_Y1AXISDATA and convert to a list of lists\n",
    "        matrix = group[['SCH_BID_XAXISDATA', 'SCH_BID_Y1AXISDATA']].values.tolist()\n",
    "        matrices[start_time] = matrix\n",
    "\n",
    "    # print(matrices)\n",
    "\n",
    "    # for start_time, matrix in matrices.items():\n",
    "    #     print(f\"Start Time: {start_time}, Matrix:\\n{matrix}\\n\")\n",
    "        \n",
    "    features = {}\n",
    "    for start_time, matrix in matrices.items():\n",
    "        # Extract all bidding prices for the current date\n",
    "        prices = [row[1] for row in matrix]\n",
    "        # print(prices)\n",
    "        # Calculate max, min, and range of prices\n",
    "        max_price = max(prices)\n",
    "        min_price = min(prices)\n",
    "        avg_price = np.mean(prices)\n",
    "        price_range = max_price - min_price\n",
    "        # Save the features for the current date\n",
    "        features[start_time] = {\n",
    "            'max_price': max_price,\n",
    "            'min_price': min_price,\n",
    "            'avg_price': avg_price,\n",
    "            'price_range': price_range,\n",
    "            'num_steps': len(prices)\n",
    "        }\n",
    "        \n",
    "    # for date, feature in features.items():\n",
    "    #     print(f'Date: {date}, Features: {feature}')\n",
    "\n",
    "    # print(f'features:\\n{features}')\n",
    "    df_train_feat = pd.DataFrame.from_dict(features, orient='index')\n",
    "    return df_train_feat\n",
    "\n",
    "def draw_distribution(feature):\n",
    "    '''\n",
    "    draw the distribution of the feature\n",
    "    '''\n",
    "    \n",
    "    import matplotlib.pyplot as plt\n",
    "    import numpy as np\n",
    "\n",
    "    # Assuming df_train_feat is your DataFrame with the data you are plotting\n",
    "    max_value = feature.max().max()  # This will get the maximum value across all columns\n",
    "    bins = np.arange(-1.5, max_value + 1.5)  # +1.5 to include the rightmost edge of the last integer\n",
    "\n",
    "    # hist is a 2D numpy array of Axes objects\n",
    "    hist = feature.hist(bins=bins, figsize=(10, 8), linewidth=2, color='red')\n",
    "\n",
    "    for axis_array in hist:\n",
    "        for axis in axis_array:\n",
    "            axis.set_xlabel('Quantity')\n",
    "            axis.set_ylabel('Frequency')\n",
    "            axis.grid(False)\n",
    "\n",
    "    plt.tight_layout()\n",
    "    plt.show()\n",
    "    \n",
    "def scale_feat(df):\n",
    "    '''\n",
    "    scale the features\n",
    "    '''\n",
    "    from sklearn.preprocessing import StandardScaler\n",
    "\n",
    "    scaler = StandardScaler()\n",
    "    features_scaled = scaler.fit_transform(df)\n",
    "    df_scaled = pd.DataFrame(features_scaled, index=df.index, columns=df.columns)\n",
    "    return df_scaled\n",
    "\n",
    "def plot_dist_mat(df):\n",
    "    '''\n",
    "    plot the distance matrix of the dataframe\n",
    "    '''\n",
    "    \n",
    "    from sklearn.metrics import pairwise_distances\n",
    "    dist_mat = pairwise_distances(df, metric='euclidean')\n",
    "    import seaborn as sns\n",
    "    import matplotlib.pyplot as plt\n",
    "\n",
    "    # Heatmap of the distance matrix\n",
    "    ax = sns.heatmap(dist_mat, square=True, cmap='viridis')\n",
    "    plt.title('Distance Matrix Heatmap')\n",
    "    ax.set(xlabel=\"bid idx\", ylabel=\"bid idx\")\n",
    "    ax.xaxis.tick_top()\n",
    "\n",
    "    ax.set_xticklabels(ax.get_xticklabels(), rotation=90) #rotate x-axis labels\n",
    "    ax.xaxis.set_label_position('top')\n",
    "    plt.show()\n",
    "    "
   ]
  },
  {
   "cell_type": "markdown",
   "metadata": {},
   "source": [
    "## Prepare training data \n",
    "### filter data with hour = 18, RESOURCEBID_SEQ = 100651"
   ]
  },
  {
   "cell_type": "code",
   "execution_count": 3,
   "metadata": {},
   "outputs": [
    {
     "name": "stdout",
     "output_type": "stream",
     "text": [
      "=====================================================\n",
      "size of data is: (4999049, 22)\n",
      "=====================================================\n",
      "type of each column is:\n",
      "STARTTIME                                object\n",
      "STOPTIME                                 object\n",
      "RESOURCE_TYPE                            object\n",
      "SCHEDULINGCOORDINATOR_SEQ                 int64\n",
      "RESOURCEBID_SEQ                           int64\n",
      "TIMEINTERVALSTART                        object\n",
      "TIMEINTERVALEND                          object\n",
      "PRODUCTBID_DESC                         float64\n",
      "PRODUCTBID_MRID                         float64\n",
      "MARKETPRODUCT_DESC                      float64\n",
      "MARKETPRODUCTTYPE                        object\n",
      "SELFSCHEDMW                             float64\n",
      "SCH_BID_TIMEINTERVALSTART        datetime64[ns]\n",
      "SCH_BID_TIMEINTERVALSTOP         datetime64[ns]\n",
      "SCH_BID_TIMEINTERVALSTART_GMT            object\n",
      "SCH_BID_TIMEINTERVALSTOP_GMT             object\n",
      "SCH_BID_XAXISDATA                       float64\n",
      "SCH_BID_Y1AXISDATA                      float64\n",
      "SCH_BID_Y2AXISDATA                      float64\n",
      "SCH_BID_CURVETYPE                        object\n",
      "MINEOHSTATEOFCHARGE                     float64\n",
      "MAXEOHSTATEOFCHARGE                     float64\n",
      "dtype: object\n",
      "=====================================================\n",
      "Statistics in data:\n",
      "        SCHEDULINGCOORDINATOR_SEQ  RESOURCEBID_SEQ  PRODUCTBID_DESC  \\\n",
      "count               4.999049e+06     4.999049e+06              0.0   \n",
      "mean                4.006895e+05     4.191115e+05              NaN   \n",
      "min                 1.042980e+05     1.000310e+05              NaN   \n",
      "25%                 1.874960e+05     1.662180e+05              NaN   \n",
      "50%                 4.130870e+05     3.034200e+05              NaN   \n",
      "75%                 6.357500e+05     6.718970e+05              NaN   \n",
      "max                 9.879900e+05     9.989640e+05              NaN   \n",
      "std                 2.352639e+05     2.916411e+05              NaN   \n",
      "\n",
      "       PRODUCTBID_MRID  MARKETPRODUCT_DESC    SELFSCHEDMW  \\\n",
      "count              0.0                 0.0  649257.000000   \n",
      "mean               NaN                 NaN      34.164579   \n",
      "min                NaN                 NaN    -230.000000   \n",
      "25%                NaN                 NaN       0.610000   \n",
      "50%                NaN                 NaN       2.000000   \n",
      "75%                NaN                 NaN      13.000000   \n",
      "max                NaN                 NaN    1147.300000   \n",
      "std                NaN                 NaN     138.599665   \n",
      "\n",
      "           SCH_BID_TIMEINTERVALSTART       SCH_BID_TIMEINTERVALSTOP  \\\n",
      "count                        4349656                        4349656   \n",
      "mean   2023-06-11 09:03:33.654137344  2023-06-11 11:26:16.962775040   \n",
      "min              2023-03-13 00:00:00            2023-03-13 01:00:00   \n",
      "25%              2023-04-28 21:00:00            2023-04-28 23:00:00   \n",
      "50%              2023-06-12 20:00:00            2023-06-12 23:00:00   \n",
      "75%              2023-07-24 14:00:00            2023-07-24 16:00:00   \n",
      "max              2023-09-05 23:00:00            2023-09-06 00:00:00   \n",
      "std                              NaN                            NaN   \n",
      "\n",
      "       SCH_BID_XAXISDATA  SCH_BID_Y1AXISDATA  SCH_BID_Y2AXISDATA  \\\n",
      "count       4.349656e+06        4.349656e+06                 0.0   \n",
      "mean        7.007438e+01        1.329194e+02                 NaN   \n",
      "min        -3.250000e+02       -1.500000e+02                 NaN   \n",
      "25%         0.000000e+00       -1.416000e+01                 NaN   \n",
      "50%         4.410000e+00        2.768000e+01                 NaN   \n",
      "75%         5.167000e+01        8.539000e+01                 NaN   \n",
      "max         8.800000e+02        1.000000e+03                 NaN   \n",
      "std         1.552227e+02        3.027142e+02                 NaN   \n",
      "\n",
      "       MINEOHSTATEOFCHARGE  MAXEOHSTATEOFCHARGE  \n",
      "count                  0.0                  0.0  \n",
      "mean                   NaN                  NaN  \n",
      "min                    NaN                  NaN  \n",
      "25%                    NaN                  NaN  \n",
      "50%                    NaN                  NaN  \n",
      "75%                    NaN                  NaN  \n",
      "max                    NaN                  NaN  \n",
      "std                    NaN                  NaN  \n",
      "=====================================================\n",
      "Top few rows in data:\n",
      "             STARTTIME             STOPTIME RESOURCE_TYPE  \\\n",
      "0  2023-03-13T00:00:00  2023-03-13T01:00:00     GENERATOR   \n",
      "1  2023-03-13T00:00:00  2023-03-13T01:00:00     GENERATOR   \n",
      "2  2023-03-13T00:00:00  2023-03-13T01:00:00     GENERATOR   \n",
      "3  2023-03-13T00:00:00  2023-03-13T01:00:00     GENERATOR   \n",
      "4  2023-03-13T00:00:00  2023-03-13T01:00:00     GENERATOR   \n",
      "\n",
      "   SCHEDULINGCOORDINATOR_SEQ  RESOURCEBID_SEQ TIMEINTERVALSTART  \\\n",
      "0                     660085           124064               NaN   \n",
      "1                     660085           124064               NaN   \n",
      "2                     660085           124064               NaN   \n",
      "3                     660085           124064               NaN   \n",
      "4                     660085           124064               NaN   \n",
      "\n",
      "  TIMEINTERVALEND  PRODUCTBID_DESC  PRODUCTBID_MRID  MARKETPRODUCT_DESC  ...  \\\n",
      "0             NaN              NaN              NaN                 NaN  ...   \n",
      "1             NaN              NaN              NaN                 NaN  ...   \n",
      "2             NaN              NaN              NaN                 NaN  ...   \n",
      "3             NaN              NaN              NaN                 NaN  ...   \n",
      "4             NaN              NaN              NaN                 NaN  ...   \n",
      "\n",
      "  SCH_BID_TIMEINTERVALSTART  SCH_BID_TIMEINTERVALSTOP  \\\n",
      "0                2023-03-13       2023-03-13 01:00:00   \n",
      "1                2023-03-13       2023-03-13 01:00:00   \n",
      "2                2023-03-13       2023-03-13 01:00:00   \n",
      "3                2023-03-13       2023-03-13 01:00:00   \n",
      "4                2023-03-13       2023-03-13 01:00:00   \n",
      "\n",
      "  SCH_BID_TIMEINTERVALSTART_GMT SCH_BID_TIMEINTERVALSTOP_GMT  \\\n",
      "0     2023-03-13T07:00:00-00:00    2023-03-13T08:00:00-00:00   \n",
      "1     2023-03-13T07:00:00-00:00    2023-03-13T08:00:00-00:00   \n",
      "2     2023-03-13T07:00:00-00:00    2023-03-13T08:00:00-00:00   \n",
      "3     2023-03-13T07:00:00-00:00    2023-03-13T08:00:00-00:00   \n",
      "4     2023-03-13T07:00:00-00:00    2023-03-13T08:00:00-00:00   \n",
      "\n",
      "  SCH_BID_XAXISDATA SCH_BID_Y1AXISDATA  SCH_BID_Y2AXISDATA  SCH_BID_CURVETYPE  \\\n",
      "0              62.0              68.49                 NaN           BIDPRICE   \n",
      "1             227.0              68.51                 NaN           BIDPRICE   \n",
      "2             228.0              68.52                 NaN           BIDPRICE   \n",
      "3             229.0              68.62                 NaN           BIDPRICE   \n",
      "4             253.0              68.62                 NaN           BIDPRICE   \n",
      "\n",
      "   MINEOHSTATEOFCHARGE MAXEOHSTATEOFCHARGE  \n",
      "0                  NaN                 NaN  \n",
      "1                  NaN                 NaN  \n",
      "2                  NaN                 NaN  \n",
      "3                  NaN                 NaN  \n",
      "4                  NaN                 NaN  \n",
      "\n",
      "[5 rows x 22 columns]\n"
     ]
    }
   ],
   "source": [
    "train_file = \"train_combined_pub_0313_0905.csv\" # train_file = \"train_combined.csv\"\n",
    "df = pd.read_csv(train_file, low_memory=False)\n",
    "df[\"SCH_BID_TIMEINTERVALSTART\"] = pd.to_datetime(df[\"SCH_BID_TIMEINTERVALSTART\"])\n",
    "df[\"SCH_BID_TIMEINTERVALSTOP\"] = pd.to_datetime(df[\"SCH_BID_TIMEINTERVALSTOP\"])\n",
    "\n",
    "printStats(df)"
   ]
  },
  {
   "cell_type": "markdown",
   "metadata": {},
   "source": [
    "## Preprocess the input (drop columns)"
   ]
  },
  {
   "cell_type": "code",
   "execution_count": 4,
   "metadata": {},
   "outputs": [
    {
     "name": "stdout",
     "output_type": "stream",
     "text": [
      "=====================================================\n",
      "size of data is: (4999049, 7)\n",
      "=====================================================\n",
      "type of each column is:\n",
      "SCHEDULINGCOORDINATOR_SEQ             int64\n",
      "RESOURCEBID_SEQ                       int64\n",
      "SELFSCHEDMW                         float64\n",
      "SCH_BID_TIMEINTERVALSTART    datetime64[ns]\n",
      "SCH_BID_TIMEINTERVALSTOP     datetime64[ns]\n",
      "SCH_BID_XAXISDATA                   float64\n",
      "SCH_BID_Y1AXISDATA                  float64\n",
      "dtype: object\n",
      "=====================================================\n",
      "Statistics in data:\n",
      "        SCHEDULINGCOORDINATOR_SEQ  RESOURCEBID_SEQ    SELFSCHEDMW  \\\n",
      "count               4.999049e+06     4.999049e+06  649257.000000   \n",
      "mean                4.006895e+05     4.191115e+05      34.164579   \n",
      "min                 1.042980e+05     1.000310e+05    -230.000000   \n",
      "25%                 1.874960e+05     1.662180e+05       0.610000   \n",
      "50%                 4.130870e+05     3.034200e+05       2.000000   \n",
      "75%                 6.357500e+05     6.718970e+05      13.000000   \n",
      "max                 9.879900e+05     9.989640e+05    1147.300000   \n",
      "std                 2.352639e+05     2.916411e+05     138.599665   \n",
      "\n",
      "           SCH_BID_TIMEINTERVALSTART       SCH_BID_TIMEINTERVALSTOP  \\\n",
      "count                        4349656                        4349656   \n",
      "mean   2023-06-11 09:03:33.654137344  2023-06-11 11:26:16.962775040   \n",
      "min              2023-03-13 00:00:00            2023-03-13 01:00:00   \n",
      "25%              2023-04-28 21:00:00            2023-04-28 23:00:00   \n",
      "50%              2023-06-12 20:00:00            2023-06-12 23:00:00   \n",
      "75%              2023-07-24 14:00:00            2023-07-24 16:00:00   \n",
      "max              2023-09-05 23:00:00            2023-09-06 00:00:00   \n",
      "std                              NaN                            NaN   \n",
      "\n",
      "       SCH_BID_XAXISDATA  SCH_BID_Y1AXISDATA  \n",
      "count       4.349656e+06        4.349656e+06  \n",
      "mean        7.007438e+01        1.329194e+02  \n",
      "min        -3.250000e+02       -1.500000e+02  \n",
      "25%         0.000000e+00       -1.416000e+01  \n",
      "50%         4.410000e+00        2.768000e+01  \n",
      "75%         5.167000e+01        8.539000e+01  \n",
      "max         8.800000e+02        1.000000e+03  \n",
      "std         1.552227e+02        3.027142e+02  \n",
      "=====================================================\n",
      "Top few rows in data:\n",
      "   SCHEDULINGCOORDINATOR_SEQ  RESOURCEBID_SEQ  SELFSCHEDMW  \\\n",
      "0                     660085           124064          NaN   \n",
      "1                     660085           124064          NaN   \n",
      "2                     660085           124064          NaN   \n",
      "3                     660085           124064          NaN   \n",
      "4                     660085           124064          NaN   \n",
      "\n",
      "  SCH_BID_TIMEINTERVALSTART SCH_BID_TIMEINTERVALSTOP  SCH_BID_XAXISDATA  \\\n",
      "0                2023-03-13      2023-03-13 01:00:00               62.0   \n",
      "1                2023-03-13      2023-03-13 01:00:00              227.0   \n",
      "2                2023-03-13      2023-03-13 01:00:00              228.0   \n",
      "3                2023-03-13      2023-03-13 01:00:00              229.0   \n",
      "4                2023-03-13      2023-03-13 01:00:00              253.0   \n",
      "\n",
      "   SCH_BID_Y1AXISDATA  \n",
      "0               68.49  \n",
      "1               68.51  \n",
      "2               68.52  \n",
      "3               68.62  \n",
      "4               68.62  \n"
     ]
    }
   ],
   "source": [
    "#drop columns\n",
    "drop_columns = ['MAXEOHSTATEOFCHARGE','PRODUCTBID_DESC','PRODUCTBID_MRID', 'MARKETPRODUCT_DESC', 'SCH_BID_Y2AXISDATA', 'MINEOHSTATEOFCHARGE', 'MAXEOHSTATEOFCHARGE', 'STARTTIME', 'STOPTIME', 'RESOURCE_TYPE', 'TIMEINTERVALSTART', 'TIMEINTERVALEND', 'MARKETPRODUCTTYPE', 'SCH_BID_TIMEINTERVALSTART_GMT', 'SCH_BID_TIMEINTERVALSTOP_GMT', 'SCH_BID_CURVETYPE']\n",
    "df_col_droped = df.drop(columns=drop_columns, axis='columns')\n",
    "\n",
    "printStats(df_col_droped)"
   ]
  },
  {
   "cell_type": "code",
   "execution_count": 5,
   "metadata": {},
   "outputs": [],
   "source": [
    "HOUR = 18\n",
    "RESOURCEBID_SEQ = 100651 #None\n",
    "df_train = filter_data(df_col_droped, HOUR, RESOURCEBID_SEQ)"
   ]
  },
  {
   "cell_type": "code",
   "execution_count": 6,
   "metadata": {},
   "outputs": [
    {
     "name": "stdout",
     "output_type": "stream",
     "text": [
      "For resource_id 100651 at hour 18:\n",
      "=====================================================\n",
      "size of data is: (519, 9)\n",
      "=====================================================\n",
      "Statistics in data:\n",
      "        SCHEDULINGCOORDINATOR_SEQ  RESOURCEBID_SEQ  SELFSCHEDMW  \\\n",
      "count                      519.0            519.0          0.0   \n",
      "mean                    917730.0         100651.0          NaN   \n",
      "min                     917730.0         100651.0          NaN   \n",
      "25%                     917730.0         100651.0          NaN   \n",
      "50%                     917730.0         100651.0          NaN   \n",
      "75%                     917730.0         100651.0          NaN   \n",
      "max                     917730.0         100651.0          NaN   \n",
      "std                          0.0              0.0          NaN   \n",
      "\n",
      "           SCH_BID_TIMEINTERVALSTART       SCH_BID_TIMEINTERVALSTOP  \\\n",
      "count                            519                            519   \n",
      "mean   2023-06-08 18:47:16.994219520  2023-06-09 13:01:09.364161792   \n",
      "min              2023-03-13 00:00:00            2023-03-14 00:00:00   \n",
      "25%              2023-04-25 00:00:00            2023-04-26 00:00:00   \n",
      "50%              2023-06-08 07:00:00            2023-06-08 22:00:00   \n",
      "75%              2023-07-24 00:00:00            2023-07-25 00:00:00   \n",
      "max              2023-09-05 00:00:00            2023-09-06 00:00:00   \n",
      "std                              NaN                            NaN   \n",
      "\n",
      "       SCH_BID_XAXISDATA  SCH_BID_Y1AXISDATA    hr_start     hr_stop  \n",
      "count         519.000000          519.000000  519.000000  519.000000  \n",
      "mean           30.177572          876.485241    4.545279   22.776493  \n",
      "min             0.000000           -5.000000    0.000000   19.000000  \n",
      "25%             0.000000          999.990000    0.000000   22.000000  \n",
      "50%             1.000000         1000.000000    0.000000   24.000000  \n",
      "75%            60.000000         1000.000000    7.000000   24.000000  \n",
      "max           107.000000         1000.000000   18.000000   24.000000  \n",
      "std            37.221097          313.028658    7.163923    1.874475  \n"
     ]
    }
   ],
   "source": [
    "print(f\"For resource_id {RESOURCEBID_SEQ} at hour {HOUR}:\")\n",
    "printStats(df_train, type=False, topFewRow=False)\n",
    "\n",
    "from draw_bid_curve import draw_bid_curves_for_multiple_days_2d\n",
    "# draw_bid_curves_for_multiple_days_2d(df_train, HOUR)"
   ]
  },
  {
   "cell_type": "markdown",
   "metadata": {},
   "source": [
    "## Create feature matrix\n",
    "\n",
    "\n",
    "$$\n",
    "feature\\ i:\\ x_i = \n",
    "\n",
    "\n",
    "\\begin{bmatrix}\n",
    "max\\_price \\\\\n",
    "min\\_price \\\\\n",
    "avg\\_price \\\\\n",
    "price\\_range \\\\\n",
    "num\\_steps\n",
    "\\end{bmatrix}\n",
    "$$"
   ]
  },
  {
   "cell_type": "code",
   "execution_count": 7,
   "metadata": {},
   "outputs": [
    {
     "name": "stdout",
     "output_type": "stream",
     "text": [
      "\n",
      "Statistics before scaling:\n",
      "=====================================================\n",
      "size of data is: (174, 5)\n",
      "=====================================================\n",
      "Statistics in data:\n",
      "          max_price    min_price    avg_price  price_range   num_steps\n",
      "count   174.000000   174.000000   174.000000   174.000000  174.000000\n",
      "mean    955.373563   710.395632   871.313391   244.977931    2.982759\n",
      "std     192.015725   435.098595   224.883847   414.681830    0.273579\n",
      "min      77.000000    -5.000000    77.000000     0.000000    2.000000\n",
      "25%    1000.000000   100.000000   692.083333     0.010000    3.000000\n",
      "50%    1000.000000   999.990000   999.996667     0.010000    3.000000\n",
      "75%    1000.000000   999.990000   999.996667   506.250000    3.000000\n",
      "max    1000.000000  1000.000000  1000.000000  1005.000000    4.000000\n",
      "=====================================================\n",
      "Top few rows in data:\n",
      "            max_price  min_price   avg_price  price_range  num_steps\n",
      "2023-03-13     1000.0     999.99  999.996667         0.01          3\n",
      "2023-03-14     1000.0     999.99  999.996667         0.01          3\n",
      "2023-03-15     1000.0     999.99  999.996667         0.01          3\n",
      "2023-03-16     1000.0     999.99  999.996667         0.01          3\n",
      "2023-03-17     1000.0     999.99  999.996667         0.01          3\n"
     ]
    }
   ],
   "source": [
    "df_train_feat = extract_feat(df_train)\n",
    "print(\"\\nStatistics before scaling:\")\n",
    "printStats(df_train_feat, type=False)\n"
   ]
  },
  {
   "cell_type": "markdown",
   "metadata": {},
   "source": [
    "## Feature scaling\n",
    "\n",
    "$$\n",
    "z_i = \\frac{x_i - \\mu}{\\sigma}\n",
    "$$\n",
    "\n",
    "\n",
    "where \n",
    " *  $z_i$ is the scaled value,\n",
    " *  $x_i$ is the original value,\n",
    " *  ${\\mu}$ is the mean of the feature,\n",
    " *  ${\\sigma}$ is the standard deviation of the feature $X$."
   ]
  },
  {
   "cell_type": "code",
   "execution_count": 8,
   "metadata": {},
   "outputs": [
    {
     "name": "stdout",
     "output_type": "stream",
     "text": [
      "\n",
      "Statistics after scaling:\n",
      "=====================================================\n",
      "size of data is: (174, 5)\n",
      "=====================================================\n",
      "Statistics in data:\n",
      "           max_price     min_price     avg_price   price_range     num_steps\n",
      "count  1.740000e+02  1.740000e+02  1.740000e+02  1.740000e+02  1.740000e+02\n",
      "mean  -6.125368e-17  1.633432e-16 -7.350442e-16 -2.450147e-16 -2.603282e-16\n",
      "std    1.002886e+00  1.002886e+00  1.002886e+00  1.002886e+00  1.002886e+00\n",
      "min   -4.587690e+00 -1.648960e+00 -3.542299e+00 -5.924661e-01 -3.602596e+00\n",
      "25%    2.330811e-01 -1.406939e+00 -7.992896e-01 -5.924419e-01  6.320343e-02\n",
      "50%    2.330811e-01  6.675042e-01  5.738725e-01 -5.924419e-01  6.320343e-02\n",
      "75%    2.330811e-01  6.675042e-01  5.738725e-01  6.318726e-01  6.320343e-02\n",
      "max    2.330811e-01  6.675272e-01  5.738874e-01  1.838073e+00  3.729002e+00\n",
      "=====================================================\n",
      "Top few rows in data:\n",
      "            max_price  min_price  avg_price  price_range  num_steps\n",
      "2023-03-13   0.233081   0.667504   0.573873    -0.592442   0.063203\n",
      "2023-03-14   0.233081   0.667504   0.573873    -0.592442   0.063203\n",
      "2023-03-15   0.233081   0.667504   0.573873    -0.592442   0.063203\n",
      "2023-03-16   0.233081   0.667504   0.573873    -0.592442   0.063203\n",
      "2023-03-17   0.233081   0.667504   0.573873    -0.592442   0.063203\n"
     ]
    }
   ],
   "source": [
    "df_train_feat_scaled = scale_feat(df_train_feat)\n",
    "print(\"\\nStatistics after scaling:\")\n",
    "printStats(df_train_feat_scaled, type=False)"
   ]
  },
  {
   "cell_type": "markdown",
   "metadata": {},
   "source": [
    "## Distribution"
   ]
  },
  {
   "cell_type": "code",
   "execution_count": 9,
   "metadata": {},
   "outputs": [
    {
     "data": {
      "image/png": "[encoded data removed]",
      "text/plain": [
       "<Figure size 1000x800 with 6 Axes>"
      ]
     },
     "metadata": {},
     "output_type": "display_data"
    },
    {
     "data": {
      "image/png": "[encoded data removed]",
      "text/plain": [
       "<Figure size 1000x800 with 6 Axes>"
      ]
     },
     "metadata": {},
     "output_type": "display_data"
    }
   ],
   "source": [
    "draw_distribution(df_train_feat)\n",
    "draw_distribution(df_train_feat_scaled)\n"
   ]
  },
  {
   "cell_type": "markdown",
   "metadata": {},
   "source": [
    "## PCA analysis (reduce dimension)"
   ]
  },
  {
   "cell_type": "code",
   "execution_count": 10,
   "metadata": {},
   "outputs": [
    {
     "data": {
      "text/html": [
       "<div>\n",
       "<style scoped>\n",
       "    .dataframe tbody tr th:only-of-type {\n",
       "        vertical-align: middle;\n",
       "    }\n",
       "\n",
       "    .dataframe tbody tr th {\n",
       "        vertical-align: top;\n",
       "    }\n",
       "\n",
       "    .dataframe thead th {\n",
       "        text-align: right;\n",
       "    }\n",
       "</style>\n",
       "<table border=\"1\" class=\"dataframe\">\n",
       "  <thead>\n",
       "    <tr style=\"text-align: right;\">\n",
       "      <th></th>\n",
       "      <th>max_price</th>\n",
       "      <th>min_price</th>\n",
       "      <th>avg_price</th>\n",
       "      <th>price_range</th>\n",
       "      <th>num_steps</th>\n",
       "    </tr>\n",
       "  </thead>\n",
       "  <tbody>\n",
       "    <tr>\n",
       "      <th>2023-03-13</th>\n",
       "      <td>0.233081</td>\n",
       "      <td>0.667504</td>\n",
       "      <td>0.573873</td>\n",
       "      <td>-0.592442</td>\n",
       "      <td>0.063203</td>\n",
       "    </tr>\n",
       "    <tr>\n",
       "      <th>2023-03-14</th>\n",
       "      <td>0.233081</td>\n",
       "      <td>0.667504</td>\n",
       "      <td>0.573873</td>\n",
       "      <td>-0.592442</td>\n",
       "      <td>0.063203</td>\n",
       "    </tr>\n",
       "    <tr>\n",
       "      <th>2023-03-15</th>\n",
       "      <td>0.233081</td>\n",
       "      <td>0.667504</td>\n",
       "      <td>0.573873</td>\n",
       "      <td>-0.592442</td>\n",
       "      <td>0.063203</td>\n",
       "    </tr>\n",
       "    <tr>\n",
       "      <th>2023-03-16</th>\n",
       "      <td>0.233081</td>\n",
       "      <td>0.667504</td>\n",
       "      <td>0.573873</td>\n",
       "      <td>-0.592442</td>\n",
       "      <td>0.063203</td>\n",
       "    </tr>\n",
       "    <tr>\n",
       "      <th>2023-03-17</th>\n",
       "      <td>0.233081</td>\n",
       "      <td>0.667504</td>\n",
       "      <td>0.573873</td>\n",
       "      <td>-0.592442</td>\n",
       "      <td>0.063203</td>\n",
       "    </tr>\n",
       "    <tr>\n",
       "      <th>...</th>\n",
       "      <td>...</td>\n",
       "      <td>...</td>\n",
       "      <td>...</td>\n",
       "      <td>...</td>\n",
       "      <td>...</td>\n",
       "    </tr>\n",
       "    <tr>\n",
       "      <th>2023-09-01</th>\n",
       "      <td>0.227858</td>\n",
       "      <td>0.665199</td>\n",
       "      <td>0.569413</td>\n",
       "      <td>-0.592442</td>\n",
       "      <td>0.063203</td>\n",
       "    </tr>\n",
       "    <tr>\n",
       "      <th>2023-09-02</th>\n",
       "      <td>0.227858</td>\n",
       "      <td>0.665199</td>\n",
       "      <td>0.569413</td>\n",
       "      <td>-0.592442</td>\n",
       "      <td>0.063203</td>\n",
       "    </tr>\n",
       "    <tr>\n",
       "      <th>2023-09-03</th>\n",
       "      <td>0.227858</td>\n",
       "      <td>0.665199</td>\n",
       "      <td>0.569413</td>\n",
       "      <td>-0.592442</td>\n",
       "      <td>0.063203</td>\n",
       "    </tr>\n",
       "    <tr>\n",
       "      <th>2023-09-04</th>\n",
       "      <td>0.227858</td>\n",
       "      <td>0.665199</td>\n",
       "      <td>0.569413</td>\n",
       "      <td>-0.592442</td>\n",
       "      <td>0.063203</td>\n",
       "    </tr>\n",
       "    <tr>\n",
       "      <th>2023-09-05</th>\n",
       "      <td>0.227858</td>\n",
       "      <td>0.665199</td>\n",
       "      <td>0.569413</td>\n",
       "      <td>-0.592442</td>\n",
       "      <td>0.063203</td>\n",
       "    </tr>\n",
       "  </tbody>\n",
       "</table>\n",
       "<p>174 rows × 5 columns</p>\n",
       "</div>"
      ],
      "text/plain": [
       "            max_price  min_price  avg_price  price_range  num_steps\n",
       "2023-03-13   0.233081   0.667504   0.573873    -0.592442   0.063203\n",
       "2023-03-14   0.233081   0.667504   0.573873    -0.592442   0.063203\n",
       "2023-03-15   0.233081   0.667504   0.573873    -0.592442   0.063203\n",
       "2023-03-16   0.233081   0.667504   0.573873    -0.592442   0.063203\n",
       "2023-03-17   0.233081   0.667504   0.573873    -0.592442   0.063203\n",
       "...               ...        ...        ...          ...        ...\n",
       "2023-09-01   0.227858   0.665199   0.569413    -0.592442   0.063203\n",
       "2023-09-02   0.227858   0.665199   0.569413    -0.592442   0.063203\n",
       "2023-09-03   0.227858   0.665199   0.569413    -0.592442   0.063203\n",
       "2023-09-04   0.227858   0.665199   0.569413    -0.592442   0.063203\n",
       "2023-09-05   0.227858   0.665199   0.569413    -0.592442   0.063203\n",
       "\n",
       "[174 rows x 5 columns]"
      ]
     },
     "execution_count": 10,
     "metadata": {},
     "output_type": "execute_result"
    }
   ],
   "source": [
    "df_train_feat_scaled"
   ]
  },
  {
   "cell_type": "code",
   "execution_count": 11,
   "metadata": {},
   "outputs": [
    {
     "name": "stdout",
     "output_type": "stream",
     "text": [
      "[5.51546854e-01 3.35816898e-01 1.12194464e-01 4.41783834e-04\n",
      " 1.23018961e-32]\n"
     ]
    },
    {
     "data": {
      "image/png": "[encoded data removed]",
      "text/plain": [
       "<Figure size 1000x500 with 1 Axes>"
      ]
     },
     "metadata": {},
     "output_type": "display_data"
    }
   ],
   "source": [
    "from sklearn.decomposition import PCA\n",
    "\n",
    "# Assuming df_train_feat_scaled is your scaled feature DataFrame\n",
    "pca = PCA()\n",
    "pca.fit(df_train_feat_scaled)\n",
    "\n",
    "explained_variance = pca.explained_variance_ratio_\n",
    "print(explained_variance)\n",
    "\n",
    "# Plotting the scree plot\n",
    "plt.figure(figsize=(10, 5))\n",
    "plt.bar(range(1, len(explained_variance)+1), explained_variance, alpha=0.5, align='center', label='Individual explained variance')\n",
    "plt.step(range(1, len(explained_variance)+1), np.cumsum(explained_variance), where='mid', label='Cumulative explained variance')\n",
    "plt.ylabel('Explained variance ratio')\n",
    "plt.xlabel('Principal components')\n",
    "plt.legend(loc='best')\n",
    "plt.tight_layout()\n",
    "plt.show()\n"
   ]
  },
  {
   "cell_type": "markdown",
   "metadata": {},
   "source": [
    "From the figure, we see that \n",
    "- 1st PC (Principle Component) represents over half of the variability in your data.\n",
    "- 2nd PC accounts for roughly 34.7% of the variance.\n",
    "\n",
    "Together with the first component, these two capture about 89.6% of the total variance.\n",
    "- 3rd PC: adds another 10.4% to the variance explained\n",
    "\n",
    "totaling around 100% when combined with the first 3 components.\n",
    "\n",
    "=> Select component=3"
   ]
  },
  {
   "cell_type": "code",
   "execution_count": 12,
   "metadata": {},
   "outputs": [
    {
     "data": {
      "text/html": [
       "<div>\n",
       "<style scoped>\n",
       "    .dataframe tbody tr th:only-of-type {\n",
       "        vertical-align: middle;\n",
       "    }\n",
       "\n",
       "    .dataframe tbody tr th {\n",
       "        vertical-align: top;\n",
       "    }\n",
       "\n",
       "    .dataframe thead th {\n",
       "        text-align: right;\n",
       "    }\n",
       "</style>\n",
       "<table border=\"1\" class=\"dataframe\">\n",
       "  <thead>\n",
       "    <tr style=\"text-align: right;\">\n",
       "      <th></th>\n",
       "      <th>max_price</th>\n",
       "      <th>min_price</th>\n",
       "      <th>avg_price</th>\n",
       "      <th>price_range</th>\n",
       "      <th>num_steps</th>\n",
       "    </tr>\n",
       "  </thead>\n",
       "  <tbody>\n",
       "    <tr>\n",
       "      <th>2023-03-13</th>\n",
       "      <td>0.233081</td>\n",
       "      <td>0.667504</td>\n",
       "      <td>0.573873</td>\n",
       "      <td>-0.592442</td>\n",
       "      <td>0.063203</td>\n",
       "    </tr>\n",
       "    <tr>\n",
       "      <th>2023-03-14</th>\n",
       "      <td>0.233081</td>\n",
       "      <td>0.667504</td>\n",
       "      <td>0.573873</td>\n",
       "      <td>-0.592442</td>\n",
       "      <td>0.063203</td>\n",
       "    </tr>\n",
       "    <tr>\n",
       "      <th>2023-03-15</th>\n",
       "      <td>0.233081</td>\n",
       "      <td>0.667504</td>\n",
       "      <td>0.573873</td>\n",
       "      <td>-0.592442</td>\n",
       "      <td>0.063203</td>\n",
       "    </tr>\n",
       "    <tr>\n",
       "      <th>2023-03-16</th>\n",
       "      <td>0.233081</td>\n",
       "      <td>0.667504</td>\n",
       "      <td>0.573873</td>\n",
       "      <td>-0.592442</td>\n",
       "      <td>0.063203</td>\n",
       "    </tr>\n",
       "    <tr>\n",
       "      <th>2023-03-17</th>\n",
       "      <td>0.233081</td>\n",
       "      <td>0.667504</td>\n",
       "      <td>0.573873</td>\n",
       "      <td>-0.592442</td>\n",
       "      <td>0.063203</td>\n",
       "    </tr>\n",
       "    <tr>\n",
       "      <th>...</th>\n",
       "      <td>...</td>\n",
       "      <td>...</td>\n",
       "      <td>...</td>\n",
       "      <td>...</td>\n",
       "      <td>...</td>\n",
       "    </tr>\n",
       "    <tr>\n",
       "      <th>2023-09-01</th>\n",
       "      <td>0.227858</td>\n",
       "      <td>0.665199</td>\n",
       "      <td>0.569413</td>\n",
       "      <td>-0.592442</td>\n",
       "      <td>0.063203</td>\n",
       "    </tr>\n",
       "    <tr>\n",
       "      <th>2023-09-02</th>\n",
       "      <td>0.227858</td>\n",
       "      <td>0.665199</td>\n",
       "      <td>0.569413</td>\n",
       "      <td>-0.592442</td>\n",
       "      <td>0.063203</td>\n",
       "    </tr>\n",
       "    <tr>\n",
       "      <th>2023-09-03</th>\n",
       "      <td>0.227858</td>\n",
       "      <td>0.665199</td>\n",
       "      <td>0.569413</td>\n",
       "      <td>-0.592442</td>\n",
       "      <td>0.063203</td>\n",
       "    </tr>\n",
       "    <tr>\n",
       "      <th>2023-09-04</th>\n",
       "      <td>0.227858</td>\n",
       "      <td>0.665199</td>\n",
       "      <td>0.569413</td>\n",
       "      <td>-0.592442</td>\n",
       "      <td>0.063203</td>\n",
       "    </tr>\n",
       "    <tr>\n",
       "      <th>2023-09-05</th>\n",
       "      <td>0.227858</td>\n",
       "      <td>0.665199</td>\n",
       "      <td>0.569413</td>\n",
       "      <td>-0.592442</td>\n",
       "      <td>0.063203</td>\n",
       "    </tr>\n",
       "  </tbody>\n",
       "</table>\n",
       "<p>174 rows × 5 columns</p>\n",
       "</div>"
      ],
      "text/plain": [
       "            max_price  min_price  avg_price  price_range  num_steps\n",
       "2023-03-13   0.233081   0.667504   0.573873    -0.592442   0.063203\n",
       "2023-03-14   0.233081   0.667504   0.573873    -0.592442   0.063203\n",
       "2023-03-15   0.233081   0.667504   0.573873    -0.592442   0.063203\n",
       "2023-03-16   0.233081   0.667504   0.573873    -0.592442   0.063203\n",
       "2023-03-17   0.233081   0.667504   0.573873    -0.592442   0.063203\n",
       "...               ...        ...        ...          ...        ...\n",
       "2023-09-01   0.227858   0.665199   0.569413    -0.592442   0.063203\n",
       "2023-09-02   0.227858   0.665199   0.569413    -0.592442   0.063203\n",
       "2023-09-03   0.227858   0.665199   0.569413    -0.592442   0.063203\n",
       "2023-09-04   0.227858   0.665199   0.569413    -0.592442   0.063203\n",
       "2023-09-05   0.227858   0.665199   0.569413    -0.592442   0.063203\n",
       "\n",
       "[174 rows x 5 columns]"
      ]
     },
     "execution_count": 12,
     "metadata": {},
     "output_type": "execute_result"
    }
   ],
   "source": [
    "df_train_feat_scaled"
   ]
  },
  {
   "cell_type": "code",
   "execution_count": 32,
   "metadata": {},
   "outputs": [
    {
     "name": "stdout",
     "output_type": "stream",
     "text": [
      "Original shape:  (174, 4)\n",
      "Transformed shape:  (174, 3)\n"
     ]
    }
   ],
   "source": [
    "pca = PCA(n_components=3)\n",
    "\n",
    "# fit PCA on the scaled data\n",
    "pca.fit(df_train_feat_scaled)\n",
    "\n",
    "# transform the scaled data to principal components\n",
    "X_pca = pca.transform(df_train_feat_scaled)\n",
    "print(\"Original shape: \", df_train_feat_scaled.shape)\n",
    "print(\"Transformed shape: \", X_pca.shape)"
   ]
  },
  {
   "cell_type": "code",
   "execution_count": 33,
   "metadata": {},
   "outputs": [
    {
     "data": {
      "application/vnd.plotly.v1+json": {
       "config": {
        "plotlyServerURL": "https://plot.ly"
       },
       "data": [
        {
         "marker": {
          "opacity": 0.8,
          "size": 5
         },
         "mode": "markers",
         "type": "scatter3d",
         "x": [
          -1.0591960809603729,
          -1.0591960809603729,
          -1.0591960809603729,
          -1.0591960809603729,
          -1.0591960809603729,
          -1.0591960809603729,
          -1.0591960809603729,
          -1.0591960809603729,
          -1.0591960809603729,
          -1.0591960809603729,
          -1.0591960809603729,
          -1.0591960809603729,
          -1.0591960809603729,
          -1.0591960809603729,
          -1.0591960809603729,
          -1.0591960809603729,
          -1.0591960809603729,
          -1.0591960809603729,
          -1.0591960809603729,
          -1.0591960809603729,
          -1.0591960809603729,
          -1.0591960809603729,
          -1.0591960809603729,
          -1.0591960809603729,
          -1.0591960809603729,
          -1.0591960809603729,
          -1.0591960809603729,
          -1.0591960809603729,
          -1.0591960809603729,
          -1.0591960809603729,
          -1.0591960809603729,
          -1.0591960809603729,
          -1.0591960809603729,
          -1.0591960809603729,
          -1.0591960809603729,
          -1.0591960809603729,
          -1.0591960809603729,
          -1.0591960809603729,
          -1.0591960809603729,
          -1.0591960809603729,
          -1.0591960809603729,
          -1.0591960809603729,
          -1.0591960809603729,
          -1.0591960809603729,
          -1.0591960809603729,
          -1.0591960809603729,
          -1.0591960809603729,
          -1.0591960809603729,
          -1.0591960809603729,
          -1.0591960809603729,
          -1.0591960809603729,
          -1.0591960809603729,
          -1.0591960809603729,
          -1.0591960809603729,
          -1.0591960809603729,
          -1.0591960809603729,
          -1.0591960809603729,
          -1.0591960809603729,
          -1.0591960809603729,
          -1.0591960809603729,
          -1.0591960809603729,
          -1.0591960809603729,
          -1.0591960809603729,
          -1.0591960809603729,
          -1.0591960809603729,
          -1.0591960809603729,
          -1.0591960809603729,
          -1.0591960809603729,
          -1.0591960809603729,
          -1.0591960809603729,
          -1.0591960809603729,
          -1.0591960809603729,
          -1.0591960809603729,
          -1.0591960809603729,
          -1.0591960809603729,
          -1.0591960809603729,
          -1.0591960809603729,
          -1.0591960809603729,
          -1.0591960809603729,
          2.054334785123684,
          -1.0591960809603729,
          -1.0591960809603729,
          -1.0591960809603729,
          -1.0591960809603729,
          2.1022357512784766,
          -1.0591960809603729,
          2.1022357512784766,
          2.1022357512784766,
          2.1022357512784766,
          2.1022357512784766,
          2.1022357512784766,
          2.1022357512784766,
          2.1022357512784766,
          2.1022357512784766,
          -0.5295374919053829,
          2.1182027399967405,
          2.1182027399967405,
          2.1182027399967405,
          2.1182027399967405,
          2.1182027399967405,
          2.1182027399967405,
          2.1501367174332686,
          2.1501367174332686,
          2.1501367174332686,
          2.1501367174332686,
          2.1501367174332686,
          2.1501367174332686,
          -0.5295374919053829,
          2.0064338189688917,
          -1.0591960809603729,
          1.8148299543497235,
          -0.5295374919053829,
          -1.0591960809603729,
          -1.0591960809603729,
          -1.0591960809603729,
          -1.0591960809603729,
          -1.0591960809603729,
          -1.0591960809603729,
          -1.0591960809603729,
          -1.0591960809603729,
          -1.0591960809603729,
          -1.0591960809603729,
          4.8620791380068695,
          4.8620791380068695,
          4.8620791380068695,
          4.8620791380068695,
          -1.0591960809603729,
          4.879660496582671,
          3.655451403377678,
          -1.0591960809603729,
          4.0818268020550645,
          -1.0591960809603729,
          -1.0591960809603729,
          -1.0591960809603729,
          -1.0591960809603729,
          3.575616459786358,
          -1.0591960809603729,
          3.788804159125051,
          -1.0591960809603729,
          -1.0591960809603729,
          -1.0533356281017725,
          1.6660032851790296,
          1.7669289881949313,
          1.8786979092227798,
          1.8786979092227798,
          1.8467639317862519,
          1.8148299543497235,
          1.942565864095836,
          -1.0533356281017725,
          1.942565864095836,
          1.8946648979410439,
          1.8946648979410439,
          0.37780096970595684,
          -1.2906293583768,
          -1.0533356281017725,
          -1.0533356281017725,
          -1.0533356281017725,
          -1.0533356281017725,
          -1.0533356281017725,
          1.926598875377572,
          1.974499841532364,
          1.9585328528141002,
          1.942565864095836,
          1.942565864095836,
          1.8786979092227798,
          1.6050867865076435,
          0.20154890894459068,
          1.64321655887961,
          1.8627309205045157,
          -1.0533356281017725,
          -1.0533356281017725,
          -1.0533356281017725,
          -1.0533356281017725,
          -1.0533356281017725
         ],
         "y": [
          0.2404898005644346,
          0.2404898005644346,
          0.2404898005644346,
          0.2404898005644346,
          0.2404898005644346,
          0.2404898005644346,
          0.2404898005644346,
          0.2404898005644346,
          0.2404898005644346,
          0.2404898005644346,
          0.2404898005644346,
          0.2404898005644346,
          0.2404898005644346,
          0.2404898005644346,
          0.2404898005644346,
          0.2404898005644346,
          0.2404898005644346,
          0.2404898005644346,
          0.2404898005644346,
          0.2404898005644346,
          0.2404898005644346,
          0.2404898005644346,
          0.2404898005644346,
          0.2404898005644346,
          0.2404898005644346,
          0.2404898005644346,
          0.2404898005644346,
          0.2404898005644346,
          0.2404898005644346,
          0.2404898005644346,
          0.2404898005644346,
          0.2404898005644346,
          0.2404898005644346,
          0.2404898005644346,
          0.2404898005644346,
          0.2404898005644346,
          0.2404898005644346,
          0.2404898005644346,
          0.2404898005644346,
          0.2404898005644346,
          0.2404898005644346,
          0.2404898005644346,
          0.2404898005644346,
          0.2404898005644346,
          0.2404898005644346,
          0.2404898005644346,
          0.2404898005644346,
          0.2404898005644346,
          0.2404898005644346,
          0.2404898005644346,
          0.2404898005644346,
          0.2404898005644346,
          0.2404898005644346,
          0.2404898005644346,
          0.2404898005644346,
          0.2404898005644346,
          0.2404898005644346,
          0.2404898005644346,
          0.2404898005644346,
          0.2404898005644346,
          0.2404898005644346,
          0.2404898005644346,
          0.2404898005644346,
          0.2404898005644346,
          0.2404898005644346,
          0.2404898005644346,
          0.2404898005644346,
          0.2404898005644346,
          0.2404898005644346,
          0.2404898005644346,
          0.2404898005644346,
          0.2404898005644346,
          0.2404898005644346,
          0.2404898005644346,
          0.2404898005644346,
          0.2404898005644346,
          0.2404898005644346,
          0.2404898005644346,
          0.2404898005644346,
          -1.3729233492722448,
          0.2404898005644346,
          0.2404898005644346,
          0.2404898005644346,
          0.2404898005644346,
          -1.3977453446235306,
          0.2404898005644346,
          -1.3977453446235306,
          -1.3977453446235306,
          -1.3977453446235306,
          -1.3977453446235306,
          -1.3977453446235306,
          -1.3977453446235306,
          -1.3977453446235306,
          -1.3977453446235306,
          2.416558281751848,
          -1.4060193430739594,
          -1.4060193430739594,
          -1.4060193430739594,
          -1.4060193430739594,
          -1.4060193430739594,
          -1.4060193430739594,
          -1.4225673399748167,
          -1.4225673399748167,
          -1.4225673399748167,
          -1.4225673399748167,
          -1.4225673399748167,
          -1.4225673399748167,
          2.416558281751848,
          -1.348101353920959,
          0.2404898005644346,
          -1.2488133725158157,
          2.416558281751848,
          0.2404898005644346,
          0.2404898005644346,
          0.2404898005644346,
          0.2404898005644346,
          0.2404898005644346,
          0.2404898005644346,
          0.2404898005644346,
          0.2404898005644346,
          0.2404898005644346,
          0.2404898005644346,
          5.014552889118278,
          5.014552889118278,
          5.014552889118278,
          5.014552889118278,
          0.2404898005644346,
          5.023024610664038,
          2.1929567659927875,
          0.2404898005644346,
          2.558087468689077,
          0.2404898005644346,
          0.2404898005644346,
          0.2404898005644346,
          0.2404898005644346,
          2.2343267582449307,
          0.2404898005644346,
          2.4168921095930753,
          0.2404898005644346,
          0.2404898005644346,
          0.2433137077463546,
          -3.342994488947186,
          -1.2239913771645297,
          -1.28190936631753,
          -1.28190936631753,
          -1.2653613694166728,
          -1.2488133725158157,
          -1.3150053601192444,
          0.2433137077463546,
          -1.3150053601192444,
          -1.2901833647679586,
          -1.2901833647679586,
          -0.50415351197724,
          -2.105550607327571,
          0.2433137077463546,
          0.2433137077463546,
          0.2433137077463546,
          0.2433137077463546,
          0.2433137077463546,
          -1.3067313616688159,
          -1.3315533570201017,
          -1.3232793585696732,
          -1.3150053601192444,
          -1.3150053601192444,
          -1.28190936631753,
          -3.4029142546215536,
          -2.7798241519534983,
          -3.3478927429413226,
          -1.2736353678671013,
          0.2433137077463546,
          0.2433137077463546,
          0.2433137077463546,
          0.2433137077463546,
          0.2433137077463546
         ],
         "z": [
          0.06682158248146741,
          0.06682158248146741,
          0.06682158248146741,
          0.06682158248146741,
          0.06682158248146741,
          0.06682158248146741,
          0.06682158248146741,
          0.06682158248146741,
          0.06682158248146741,
          0.06682158248146741,
          0.06682158248146741,
          0.06682158248146741,
          0.06682158248146741,
          0.06682158248146741,
          0.06682158248146741,
          0.06682158248146741,
          0.06682158248146741,
          0.06682158248146741,
          0.06682158248146741,
          0.06682158248146741,
          0.06682158248146741,
          0.06682158248146741,
          0.06682158248146741,
          0.06682158248146741,
          0.06682158248146741,
          0.06682158248146741,
          0.06682158248146741,
          0.06682158248146741,
          0.06682158248146741,
          0.06682158248146741,
          0.06682158248146741,
          0.06682158248146741,
          0.06682158248146741,
          0.06682158248146741,
          0.06682158248146741,
          0.06682158248146741,
          0.06682158248146741,
          0.06682158248146741,
          0.06682158248146741,
          0.06682158248146741,
          0.06682158248146741,
          0.06682158248146741,
          0.06682158248146741,
          0.06682158248146741,
          0.06682158248146741,
          0.06682158248146741,
          0.06682158248146741,
          0.06682158248146741,
          0.06682158248146741,
          0.06682158248146741,
          0.06682158248146741,
          0.06682158248146741,
          0.06682158248146741,
          0.06682158248146741,
          0.06682158248146741,
          0.06682158248146741,
          0.06682158248146741,
          0.06682158248146741,
          0.06682158248146741,
          0.06682158248146741,
          0.06682158248146741,
          0.06682158248146741,
          0.06682158248146741,
          0.06682158248146741,
          0.06682158248146741,
          0.06682158248146741,
          0.06682158248146741,
          0.06682158248146741,
          0.06682158248146741,
          0.06682158248146741,
          0.06682158248146741,
          0.06682158248146741,
          0.06682158248146741,
          0.06682158248146741,
          0.06682158248146741,
          0.06682158248146741,
          0.06682158248146741,
          0.06682158248146741,
          0.06682158248146741,
          -0.5762548287617886,
          0.06682158248146741,
          0.06682158248146741,
          0.06682158248146741,
          0.06682158248146741,
          -0.5861484134843487,
          0.06682158248146741,
          -0.5861484134843487,
          -0.5861484134843487,
          -0.5861484134843487,
          -0.5861484134843487,
          -0.5861484134843487,
          -0.5861484134843487,
          -0.5861484134843487,
          -0.5861484134843487,
          -2.8318541824802357,
          -0.5894462750585353,
          -0.5894462750585353,
          -0.5894462750585353,
          -0.5894462750585353,
          -0.5894462750585353,
          -0.5894462750585353,
          -0.5960419982069087,
          -0.5960419982069087,
          -0.5960419982069087,
          -0.5960419982069087,
          -0.5960419982069087,
          -0.5960419982069087,
          -2.8318541824802357,
          -0.5663612440392285,
          0.06682158248146741,
          -0.5267869051489882,
          -2.8318541824802357,
          0.06682158248146741,
          0.06682158248146741,
          0.06682158248146741,
          0.06682158248146741,
          0.06682158248146741,
          0.06682158248146741,
          0.06682158248146741,
          0.06682158248146741,
          0.06682158248146741,
          0.06682158248146741,
          0.09924409817826982,
          0.09924409817826982,
          0.09924409817826982,
          0.09924409817826982,
          0.06682158248146741,
          0.10880202735432995,
          2.3903532407359678,
          0.06682158248146741,
          2.7419294956798455,
          0.06682158248146741,
          0.06682158248146741,
          0.06682158248146741,
          0.06682158248146741,
          2.406842548606901,
          0.06682158248146741,
          2.58263067607884,
          0.06682158248146741,
          0.06682158248146741,
          0.07000755887348753,
          2.5272906454410338,
          -0.5168933204264281,
          -0.539978351445735,
          -0.539978351445735,
          -0.5333826282973615,
          -0.5267869051489882,
          -0.5531697977424817,
          0.07000755887348753,
          -0.5531697977424817,
          -0.5432762130199216,
          -0.5432762130199216,
          -0.22997936347218623,
          2.8909645134337665,
          0.07000755887348753,
          0.07000755887348753,
          0.07000755887348753,
          0.07000755887348753,
          0.07000755887348753,
          -0.5498719361682951,
          -0.5597655208908551,
          -0.5564676593166684,
          -0.5531697977424817,
          -0.5531697977424817,
          -0.539978351445735,
          2.4631862451867526,
          2.665720814169788,
          2.5179934973270495,
          -0.5366804898715483,
          0.07000755887348753,
          0.07000755887348753,
          0.07000755887348753,
          0.07000755887348753,
          0.07000755887348753
         ]
        }
       ],
       "layout": {
        "margin": {
         "b": 0,
         "l": 0,
         "r": 0,
         "t": 30
        },
        "scene": {
         "xaxis": {
          "title": {
           "text": "PC1"
          }
         },
         "yaxis": {
          "title": {
           "text": "PC2"
          }
         },
         "zaxis": {
          "title": {
           "text": "PC3"
          }
         }
        },
        "template": {
         "data": {
          "bar": [
           {
            "error_x": {
             "color": "#2a3f5f"
            },
            "error_y": {
             "color": "#2a3f5f"
            },
            "marker": {
             "line": {
              "color": "#E5ECF6",
              "width": 0.5
             },
             "pattern": {
              "fillmode": "overlay",
              "size": 10,
              "solidity": 0.2
             }
            },
            "type": "bar"
           }
          ],
          "barpolar": [
           {
            "marker": {
             "line": {
              "color": "#E5ECF6",
              "width": 0.5
             },
             "pattern": {
              "fillmode": "overlay",
              "size": 10,
              "solidity": 0.2
             }
            },
            "type": "barpolar"
           }
          ],
          "carpet": [
           {
            "aaxis": {
             "endlinecolor": "#2a3f5f",
             "gridcolor": "white",
             "linecolor": "white",
             "minorgridcolor": "white",
             "startlinecolor": "#2a3f5f"
            },
            "baxis": {
             "endlinecolor": "#2a3f5f",
             "gridcolor": "white",
             "linecolor": "white",
             "minorgridcolor": "white",
             "startlinecolor": "#2a3f5f"
            },
            "type": "carpet"
           }
          ],
          "choropleth": [
           {
            "colorbar": {
             "outlinewidth": 0,
             "ticks": ""
            },
            "type": "choropleth"
           }
          ],
          "contour": [
           {
            "colorbar": {
             "outlinewidth": 0,
             "ticks": ""
            },
            "colorscale": [
             [
              0,
              "#0d0887"
             ],
             [
              0.1111111111111111,
              "#46039f"
             ],
             [
              0.2222222222222222,
              "#7201a8"
             ],
             [
              0.3333333333333333,
              "#9c179e"
             ],
             [
              0.4444444444444444,
              "#bd3786"
             ],
             [
              0.5555555555555556,
              "#d8576b"
             ],
             [
              0.6666666666666666,
              "#ed7953"
             ],
             [
              0.7777777777777778,
              "#fb9f3a"
             ],
             [
              0.8888888888888888,
              "#fdca26"
             ],
             [
              1,
              "#f0f921"
             ]
            ],
            "type": "contour"
           }
          ],
          "contourcarpet": [
           {
            "colorbar": {
             "outlinewidth": 0,
             "ticks": ""
            },
            "type": "contourcarpet"
           }
          ],
          "heatmap": [
           {
            "colorbar": {
             "outlinewidth": 0,
             "ticks": ""
            },
            "colorscale": [
             [
              0,
              "#0d0887"
             ],
             [
              0.1111111111111111,
              "#46039f"
             ],
             [
              0.2222222222222222,
              "#7201a8"
             ],
             [
              0.3333333333333333,
              "#9c179e"
             ],
             [
              0.4444444444444444,
              "#bd3786"
             ],
             [
              0.5555555555555556,
              "#d8576b"
             ],
             [
              0.6666666666666666,
              "#ed7953"
             ],
             [
              0.7777777777777778,
              "#fb9f3a"
             ],
             [
              0.8888888888888888,
              "#fdca26"
             ],
             [
              1,
              "#f0f921"
             ]
            ],
            "type": "heatmap"
           }
          ],
          "heatmapgl": [
           {
            "colorbar": {
             "outlinewidth": 0,
             "ticks": ""
            },
            "colorscale": [
             [
              0,
              "#0d0887"
             ],
             [
              0.1111111111111111,
              "#46039f"
             ],
             [
              0.2222222222222222,
              "#7201a8"
             ],
             [
              0.3333333333333333,
              "#9c179e"
             ],
             [
              0.4444444444444444,
              "#bd3786"
             ],
             [
              0.5555555555555556,
              "#d8576b"
             ],
             [
              0.6666666666666666,
              "#ed7953"
             ],
             [
              0.7777777777777778,
              "#fb9f3a"
             ],
             [
              0.8888888888888888,
              "#fdca26"
             ],
             [
              1,
              "#f0f921"
             ]
            ],
            "type": "heatmapgl"
           }
          ],
          "histogram": [
           {
            "marker": {
             "pattern": {
              "fillmode": "overlay",
              "size": 10,
              "solidity": 0.2
             }
            },
            "type": "histogram"
           }
          ],
          "histogram2d": [
           {
            "colorbar": {
             "outlinewidth": 0,
             "ticks": ""
            },
            "colorscale": [
             [
              0,
              "#0d0887"
             ],
             [
              0.1111111111111111,
              "#46039f"
             ],
             [
              0.2222222222222222,
              "#7201a8"
             ],
             [
              0.3333333333333333,
              "#9c179e"
             ],
             [
              0.4444444444444444,
              "#bd3786"
             ],
             [
              0.5555555555555556,
              "#d8576b"
             ],
             [
              0.6666666666666666,
              "#ed7953"
             ],
             [
              0.7777777777777778,
              "#fb9f3a"
             ],
             [
              0.8888888888888888,
              "#fdca26"
             ],
             [
              1,
              "#f0f921"
             ]
            ],
            "type": "histogram2d"
           }
          ],
          "histogram2dcontour": [
           {
            "colorbar": {
             "outlinewidth": 0,
             "ticks": ""
            },
            "colorscale": [
             [
              0,
              "#0d0887"
             ],
             [
              0.1111111111111111,
              "#46039f"
             ],
             [
              0.2222222222222222,
              "#7201a8"
             ],
             [
              0.3333333333333333,
              "#9c179e"
             ],
             [
              0.4444444444444444,
              "#bd3786"
             ],
             [
              0.5555555555555556,
              "#d8576b"
             ],
             [
              0.6666666666666666,
              "#ed7953"
             ],
             [
              0.7777777777777778,
              "#fb9f3a"
             ],
             [
              0.8888888888888888,
              "#fdca26"
             ],
             [
              1,
              "#f0f921"
             ]
            ],
            "type": "histogram2dcontour"
           }
          ],
          "mesh3d": [
           {
            "colorbar": {
             "outlinewidth": 0,
             "ticks": ""
            },
            "type": "mesh3d"
           }
          ],
          "parcoords": [
           {
            "line": {
             "colorbar": {
              "outlinewidth": 0,
              "ticks": ""
             }
            },
            "type": "parcoords"
           }
          ],
          "pie": [
           {
            "automargin": true,
            "type": "pie"
           }
          ],
          "scatter": [
           {
            "fillpattern": {
             "fillmode": "overlay",
             "size": 10,
             "solidity": 0.2
            },
            "type": "scatter"
           }
          ],
          "scatter3d": [
           {
            "line": {
             "colorbar": {
              "outlinewidth": 0,
              "ticks": ""
             }
            },
            "marker": {
             "colorbar": {
              "outlinewidth": 0,
              "ticks": ""
             }
            },
            "type": "scatter3d"
           }
          ],
          "scattercarpet": [
           {
            "marker": {
             "colorbar": {
              "outlinewidth": 0,
              "ticks": ""
             }
            },
            "type": "scattercarpet"
           }
          ],
          "scattergeo": [
           {
            "marker": {
             "colorbar": {
              "outlinewidth": 0,
              "ticks": ""
             }
            },
            "type": "scattergeo"
           }
          ],
          "scattergl": [
           {
            "marker": {
             "colorbar": {
              "outlinewidth": 0,
              "ticks": ""
             }
            },
            "type": "scattergl"
           }
          ],
          "scattermapbox": [
           {
            "marker": {
             "colorbar": {
              "outlinewidth": 0,
              "ticks": ""
             }
            },
            "type": "scattermapbox"
           }
          ],
          "scatterpolar": [
           {
            "marker": {
             "colorbar": {
              "outlinewidth": 0,
              "ticks": ""
             }
            },
            "type": "scatterpolar"
           }
          ],
          "scatterpolargl": [
           {
            "marker": {
             "colorbar": {
              "outlinewidth": 0,
              "ticks": ""
             }
            },
            "type": "scatterpolargl"
           }
          ],
          "scatterternary": [
           {
            "marker": {
             "colorbar": {
              "outlinewidth": 0,
              "ticks": ""
             }
            },
            "type": "scatterternary"
           }
          ],
          "surface": [
           {
            "colorbar": {
             "outlinewidth": 0,
             "ticks": ""
            },
            "colorscale": [
             [
              0,
              "#0d0887"
             ],
             [
              0.1111111111111111,
              "#46039f"
             ],
             [
              0.2222222222222222,
              "#7201a8"
             ],
             [
              0.3333333333333333,
              "#9c179e"
             ],
             [
              0.4444444444444444,
              "#bd3786"
             ],
             [
              0.5555555555555556,
              "#d8576b"
             ],
             [
              0.6666666666666666,
              "#ed7953"
             ],
             [
              0.7777777777777778,
              "#fb9f3a"
             ],
             [
              0.8888888888888888,
              "#fdca26"
             ],
             [
              1,
              "#f0f921"
             ]
            ],
            "type": "surface"
           }
          ],
          "table": [
           {
            "cells": {
             "fill": {
              "color": "#EBF0F8"
             },
             "line": {
              "color": "white"
             }
            },
            "header": {
             "fill": {
              "color": "#C8D4E3"
             },
             "line": {
              "color": "white"
             }
            },
            "type": "table"
           }
          ]
         },
         "layout": {
          "annotationdefaults": {
           "arrowcolor": "#2a3f5f",
           "arrowhead": 0,
           "arrowwidth": 1
          },
          "autotypenumbers": "strict",
          "coloraxis": {
           "colorbar": {
            "outlinewidth": 0,
            "ticks": ""
           }
          },
          "colorscale": {
           "diverging": [
            [
             0,
             "#8e0152"
            ],
            [
             0.1,
             "#c51b7d"
            ],
            [
             0.2,
             "#de77ae"
            ],
            [
             0.3,
             "#f1b6da"
            ],
            [
             0.4,
             "#fde0ef"
            ],
            [
             0.5,
             "#f7f7f7"
            ],
            [
             0.6,
             "#e6f5d0"
            ],
            [
             0.7,
             "#b8e186"
            ],
            [
             0.8,
             "#7fbc41"
            ],
            [
             0.9,
             "#4d9221"
            ],
            [
             1,
             "#276419"
            ]
           ],
           "sequential": [
            [
             0,
             "#0d0887"
            ],
            [
             0.1111111111111111,
             "#46039f"
            ],
            [
             0.2222222222222222,
             "#7201a8"
            ],
            [
             0.3333333333333333,
             "#9c179e"
            ],
            [
             0.4444444444444444,
             "#bd3786"
            ],
            [
             0.5555555555555556,
             "#d8576b"
            ],
            [
             0.6666666666666666,
             "#ed7953"
            ],
            [
             0.7777777777777778,
             "#fb9f3a"
            ],
            [
             0.8888888888888888,
             "#fdca26"
            ],
            [
             1,
             "#f0f921"
            ]
           ],
           "sequentialminus": [
            [
             0,
             "#0d0887"
            ],
            [
             0.1111111111111111,
             "#46039f"
            ],
            [
             0.2222222222222222,
             "#7201a8"
            ],
            [
             0.3333333333333333,
             "#9c179e"
            ],
            [
             0.4444444444444444,
             "#bd3786"
            ],
            [
             0.5555555555555556,
             "#d8576b"
            ],
            [
             0.6666666666666666,
             "#ed7953"
            ],
            [
             0.7777777777777778,
             "#fb9f3a"
            ],
            [
             0.8888888888888888,
             "#fdca26"
            ],
            [
             1,
             "#f0f921"
            ]
           ]
          },
          "colorway": [
           "#636efa",
           "#EF553B",
           "#00cc96",
           "#ab63fa",
           "#FFA15A",
           "#19d3f3",
           "#FF6692",
           "#B6E880",
           "#FF97FF",
           "#FECB52"
          ],
          "font": {
           "color": "#2a3f5f"
          },
          "geo": {
           "bgcolor": "white",
           "lakecolor": "white",
           "landcolor": "#E5ECF6",
           "showlakes": true,
           "showland": true,
           "subunitcolor": "white"
          },
          "hoverlabel": {
           "align": "left"
          },
          "hovermode": "closest",
          "mapbox": {
           "style": "light"
          },
          "paper_bgcolor": "white",
          "plot_bgcolor": "#E5ECF6",
          "polar": {
           "angularaxis": {
            "gridcolor": "white",
            "linecolor": "white",
            "ticks": ""
           },
           "bgcolor": "#E5ECF6",
           "radialaxis": {
            "gridcolor": "white",
            "linecolor": "white",
            "ticks": ""
           }
          },
          "scene": {
           "xaxis": {
            "backgroundcolor": "#E5ECF6",
            "gridcolor": "white",
            "gridwidth": 2,
            "linecolor": "white",
            "showbackground": true,
            "ticks": "",
            "zerolinecolor": "white"
           },
           "yaxis": {
            "backgroundcolor": "#E5ECF6",
            "gridcolor": "white",
            "gridwidth": 2,
            "linecolor": "white",
            "showbackground": true,
            "ticks": "",
            "zerolinecolor": "white"
           },
           "zaxis": {
            "backgroundcolor": "#E5ECF6",
            "gridcolor": "white",
            "gridwidth": 2,
            "linecolor": "white",
            "showbackground": true,
            "ticks": "",
            "zerolinecolor": "white"
           }
          },
          "shapedefaults": {
           "line": {
            "color": "#2a3f5f"
           }
          },
          "ternary": {
           "aaxis": {
            "gridcolor": "white",
            "linecolor": "white",
            "ticks": ""
           },
           "baxis": {
            "gridcolor": "white",
            "linecolor": "white",
            "ticks": ""
           },
           "bgcolor": "#E5ECF6",
           "caxis": {
            "gridcolor": "white",
            "linecolor": "white",
            "ticks": ""
           }
          },
          "title": {
           "x": 0.05
          },
          "xaxis": {
           "automargin": true,
           "gridcolor": "white",
           "linecolor": "white",
           "ticks": "",
           "title": {
            "standoff": 15
           },
           "zerolinecolor": "white",
           "zerolinewidth": 2
          },
          "yaxis": {
           "automargin": true,
           "gridcolor": "white",
           "linecolor": "white",
           "ticks": "",
           "title": {
            "standoff": 15
           },
           "zerolinecolor": "white",
           "zerolinewidth": 2
          }
         }
        },
        "title": {
         "text": "3D Scatter Plot of PCA Components"
        }
       }
      }
     },
     "metadata": {},
     "output_type": "display_data"
    }
   ],
   "source": [
    "# 3D scatter plot\n",
    "import plotly.graph_objects as go\n",
    "\n",
    "fig = go.Figure(data=[go.Scatter3d(\n",
    "    x=df_train_feat_scaled['PC1'],\n",
    "    y=df_train_feat_scaled['PC2'],\n",
    "    z=df_train_feat_scaled['PC3'],\n",
    "    mode='markers',\n",
    "    marker=dict(\n",
    "        size=5,\n",
    "        opacity=0.8\n",
    "    ),\n",
    ")])\n",
    "\n",
    "# Set plot layout\n",
    "fig.update_layout(\n",
    "    title='3D Scatter Plot of PCA Components',\n",
    "    scene=dict(\n",
    "        xaxis_title='PC1',\n",
    "        yaxis_title='PC2',\n",
    "        zaxis_title='PC3'\n",
    "    ),\n",
    "    margin=dict(l=0, r=0, b=0, t=30)\n",
    ")\n",
    "\n",
    "# Show the plot\n",
    "fig.show()"
   ]
  },
  {
   "cell_type": "code",
   "execution_count": 14,
   "metadata": {},
   "outputs": [
    {
     "data": {
      "text/html": [
       "<div>\n",
       "<style scoped>\n",
       "    .dataframe tbody tr th:only-of-type {\n",
       "        vertical-align: middle;\n",
       "    }\n",
       "\n",
       "    .dataframe tbody tr th {\n",
       "        vertical-align: top;\n",
       "    }\n",
       "\n",
       "    .dataframe thead th {\n",
       "        text-align: right;\n",
       "    }\n",
       "</style>\n",
       "<table border=\"1\" class=\"dataframe\">\n",
       "  <thead>\n",
       "    <tr style=\"text-align: right;\">\n",
       "      <th></th>\n",
       "      <th>PC1</th>\n",
       "      <th>PC2</th>\n",
       "      <th>PC3</th>\n",
       "    </tr>\n",
       "  </thead>\n",
       "  <tbody>\n",
       "    <tr>\n",
       "      <th>2023-03-13</th>\n",
       "      <td>-1.059196</td>\n",
       "      <td>0.240490</td>\n",
       "      <td>0.066822</td>\n",
       "    </tr>\n",
       "    <tr>\n",
       "      <th>2023-03-14</th>\n",
       "      <td>-1.059196</td>\n",
       "      <td>0.240490</td>\n",
       "      <td>0.066822</td>\n",
       "    </tr>\n",
       "    <tr>\n",
       "      <th>2023-03-15</th>\n",
       "      <td>-1.059196</td>\n",
       "      <td>0.240490</td>\n",
       "      <td>0.066822</td>\n",
       "    </tr>\n",
       "    <tr>\n",
       "      <th>2023-03-16</th>\n",
       "      <td>-1.059196</td>\n",
       "      <td>0.240490</td>\n",
       "      <td>0.066822</td>\n",
       "    </tr>\n",
       "    <tr>\n",
       "      <th>2023-03-17</th>\n",
       "      <td>-1.059196</td>\n",
       "      <td>0.240490</td>\n",
       "      <td>0.066822</td>\n",
       "    </tr>\n",
       "    <tr>\n",
       "      <th>...</th>\n",
       "      <td>...</td>\n",
       "      <td>...</td>\n",
       "      <td>...</td>\n",
       "    </tr>\n",
       "    <tr>\n",
       "      <th>2023-09-01</th>\n",
       "      <td>-1.053336</td>\n",
       "      <td>0.243314</td>\n",
       "      <td>0.070008</td>\n",
       "    </tr>\n",
       "    <tr>\n",
       "      <th>2023-09-02</th>\n",
       "      <td>-1.053336</td>\n",
       "      <td>0.243314</td>\n",
       "      <td>0.070008</td>\n",
       "    </tr>\n",
       "    <tr>\n",
       "      <th>2023-09-03</th>\n",
       "      <td>-1.053336</td>\n",
       "      <td>0.243314</td>\n",
       "      <td>0.070008</td>\n",
       "    </tr>\n",
       "    <tr>\n",
       "      <th>2023-09-04</th>\n",
       "      <td>-1.053336</td>\n",
       "      <td>0.243314</td>\n",
       "      <td>0.070008</td>\n",
       "    </tr>\n",
       "    <tr>\n",
       "      <th>2023-09-05</th>\n",
       "      <td>-1.053336</td>\n",
       "      <td>0.243314</td>\n",
       "      <td>0.070008</td>\n",
       "    </tr>\n",
       "  </tbody>\n",
       "</table>\n",
       "<p>174 rows × 3 columns</p>\n",
       "</div>"
      ],
      "text/plain": [
       "                 PC1       PC2       PC3\n",
       "2023-03-13 -1.059196  0.240490  0.066822\n",
       "2023-03-14 -1.059196  0.240490  0.066822\n",
       "2023-03-15 -1.059196  0.240490  0.066822\n",
       "2023-03-16 -1.059196  0.240490  0.066822\n",
       "2023-03-17 -1.059196  0.240490  0.066822\n",
       "...              ...       ...       ...\n",
       "2023-09-01 -1.053336  0.243314  0.070008\n",
       "2023-09-02 -1.053336  0.243314  0.070008\n",
       "2023-09-03 -1.053336  0.243314  0.070008\n",
       "2023-09-04 -1.053336  0.243314  0.070008\n",
       "2023-09-05 -1.053336  0.243314  0.070008\n",
       "\n",
       "[174 rows x 3 columns]"
      ]
     },
     "execution_count": 14,
     "metadata": {},
     "output_type": "execute_result"
    }
   ],
   "source": [
    "df_pca = pd.DataFrame(data = X_pca, columns = ['PC1', 'PC2', 'PC3'], index=df_train_feat_scaled.index)\n",
    "# printStats(df_pca)\n",
    "df_pca"
   ]
  },
  {
   "cell_type": "markdown",
   "metadata": {},
   "source": [
    "## Visualization of distance matrix for scaled features"
   ]
  },
  {
   "cell_type": "code",
   "execution_count": 15,
   "metadata": {},
   "outputs": [
    {
     "data": {
      "image/png": "[encoded data removed]",
      "text/plain": [
       "<Figure size 640x480 with 2 Axes>"
      ]
     },
     "metadata": {},
     "output_type": "display_data"
    }
   ],
   "source": [
    "plot_dist_mat(df_pca)"
   ]
  },
  {
   "cell_type": "code",
   "execution_count": 16,
   "metadata": {},
   "outputs": [],
   "source": [
    "df_train_feat_scaled = df_pca"
   ]
  },
  {
   "cell_type": "markdown",
   "metadata": {},
   "source": [
    "## Clustering"
   ]
  },
  {
   "cell_type": "code",
   "execution_count": 17,
   "metadata": {},
   "outputs": [
    {
     "data": {
      "application/vnd.plotly.v1+json": {
       "config": {
        "plotlyServerURL": "https://plot.ly"
       },
       "data": [
        {
         "mode": "lines+markers",
         "name": "Intra-cluster error (Sum of Squared Distances)",
         "type": "scatter",
         "x": [
          2,
          3,
          4,
          5,
          6,
          7,
          8,
          9,
          10,
          11,
          12,
          13,
          14,
          15,
          16,
          17,
          18,
          19
         ],
         "y": [
          414.7622121760537,
          140.28908773365146,
          82.7227444348956,
          51.17663959135298,
          11.928052557638766,
          5.100337411179056,
          2.8751859110438662,
          1.0510476812268423,
          0.4261830327997955,
          0.1794017538496495,
          0.1138144975365433,
          0.054702675536881136,
          0.048509068516429624,
          0.03273617514061426,
          0.028557679264997225,
          0.025310059415003767,
          0.013771712849379416,
          0.00761798228056001
         ]
        },
        {
         "mode": "lines+markers",
         "name": "Inter-cluster error (Sum of Squared Distances Between Centroids)",
         "type": "scatter",
         "x": [
          2,
          3,
          4,
          5,
          6,
          7,
          8,
          9,
          10,
          11,
          12,
          13,
          14,
          15,
          16,
          17,
          18,
          19
         ],
         "y": [
          12.341259604638708,
          92.35034926151076,
          188.1704463675424,
          353.315795683698,
          544.9032964186235,
          782.9647071436286,
          922.2266406172482,
          1168.93076997461,
          1338.382683160361,
          1637.2406068012656,
          1956.3385782250025,
          2178.728427152232,
          2544.038560058895,
          2777.3493582519054,
          3139.101851744853,
          3394.4506700633997,
          3663.1622304113416,
          3927.1207246483036
         ]
        }
       ],
       "layout": {
        "hovermode": "x",
        "template": {
         "data": {
          "bar": [
           {
            "error_x": {
             "color": "#2a3f5f"
            },
            "error_y": {
             "color": "#2a3f5f"
            },
            "marker": {
             "line": {
              "color": "#E5ECF6",
              "width": 0.5
             },
             "pattern": {
              "fillmode": "overlay",
              "size": 10,
              "solidity": 0.2
             }
            },
            "type": "bar"
           }
          ],
          "barpolar": [
           {
            "marker": {
             "line": {
              "color": "#E5ECF6",
              "width": 0.5
             },
             "pattern": {
              "fillmode": "overlay",
              "size": 10,
              "solidity": 0.2
             }
            },
            "type": "barpolar"
           }
          ],
          "carpet": [
           {
            "aaxis": {
             "endlinecolor": "#2a3f5f",
             "gridcolor": "white",
             "linecolor": "white",
             "minorgridcolor": "white",
             "startlinecolor": "#2a3f5f"
            },
            "baxis": {
             "endlinecolor": "#2a3f5f",
             "gridcolor": "white",
             "linecolor": "white",
             "minorgridcolor": "white",
             "startlinecolor": "#2a3f5f"
            },
            "type": "carpet"
           }
          ],
          "choropleth": [
           {
            "colorbar": {
             "outlinewidth": 0,
             "ticks": ""
            },
            "type": "choropleth"
           }
          ],
          "contour": [
           {
            "colorbar": {
             "outlinewidth": 0,
             "ticks": ""
            },
            "colorscale": [
             [
              0,
              "#0d0887"
             ],
             [
              0.1111111111111111,
              "#46039f"
             ],
             [
              0.2222222222222222,
              "#7201a8"
             ],
             [
              0.3333333333333333,
              "#9c179e"
             ],
             [
              0.4444444444444444,
              "#bd3786"
             ],
             [
              0.5555555555555556,
              "#d8576b"
             ],
             [
              0.6666666666666666,
              "#ed7953"
             ],
             [
              0.7777777777777778,
              "#fb9f3a"
             ],
             [
              0.8888888888888888,
              "#fdca26"
             ],
             [
              1,
              "#f0f921"
             ]
            ],
            "type": "contour"
           }
          ],
          "contourcarpet": [
           {
            "colorbar": {
             "outlinewidth": 0,
             "ticks": ""
            },
            "type": "contourcarpet"
           }
          ],
          "heatmap": [
           {
            "colorbar": {
             "outlinewidth": 0,
             "ticks": ""
            },
            "colorscale": [
             [
              0,
              "#0d0887"
             ],
             [
              0.1111111111111111,
              "#46039f"
             ],
             [
              0.2222222222222222,
              "#7201a8"
             ],
             [
              0.3333333333333333,
              "#9c179e"
             ],
             [
              0.4444444444444444,
              "#bd3786"
             ],
             [
              0.5555555555555556,
              "#d8576b"
             ],
             [
              0.6666666666666666,
              "#ed7953"
             ],
             [
              0.7777777777777778,
              "#fb9f3a"
             ],
             [
              0.8888888888888888,
              "#fdca26"
             ],
             [
              1,
              "#f0f921"
             ]
            ],
            "type": "heatmap"
           }
          ],
          "heatmapgl": [
           {
            "colorbar": {
             "outlinewidth": 0,
             "ticks": ""
            },
            "colorscale": [
             [
              0,
              "#0d0887"
             ],
             [
              0.1111111111111111,
              "#46039f"
             ],
             [
              0.2222222222222222,
              "#7201a8"
             ],
             [
              0.3333333333333333,
              "#9c179e"
             ],
             [
              0.4444444444444444,
              "#bd3786"
             ],
             [
              0.5555555555555556,
              "#d8576b"
             ],
             [
              0.6666666666666666,
              "#ed7953"
             ],
             [
              0.7777777777777778,
              "#fb9f3a"
             ],
             [
              0.8888888888888888,
              "#fdca26"
             ],
             [
              1,
              "#f0f921"
             ]
            ],
            "type": "heatmapgl"
           }
          ],
          "histogram": [
           {
            "marker": {
             "pattern": {
              "fillmode": "overlay",
              "size": 10,
              "solidity": 0.2
             }
            },
            "type": "histogram"
           }
          ],
          "histogram2d": [
           {
            "colorbar": {
             "outlinewidth": 0,
             "ticks": ""
            },
            "colorscale": [
             [
              0,
              "#0d0887"
             ],
             [
              0.1111111111111111,
              "#46039f"
             ],
             [
              0.2222222222222222,
              "#7201a8"
             ],
             [
              0.3333333333333333,
              "#9c179e"
             ],
             [
              0.4444444444444444,
              "#bd3786"
             ],
             [
              0.5555555555555556,
              "#d8576b"
             ],
             [
              0.6666666666666666,
              "#ed7953"
             ],
             [
              0.7777777777777778,
              "#fb9f3a"
             ],
             [
              0.8888888888888888,
              "#fdca26"
             ],
             [
              1,
              "#f0f921"
             ]
            ],
            "type": "histogram2d"
           }
          ],
          "histogram2dcontour": [
           {
            "colorbar": {
             "outlinewidth": 0,
             "ticks": ""
            },
            "colorscale": [
             [
              0,
              "#0d0887"
             ],
             [
              0.1111111111111111,
              "#46039f"
             ],
             [
              0.2222222222222222,
              "#7201a8"
             ],
             [
              0.3333333333333333,
              "#9c179e"
             ],
             [
              0.4444444444444444,
              "#bd3786"
             ],
             [
              0.5555555555555556,
              "#d8576b"
             ],
             [
              0.6666666666666666,
              "#ed7953"
             ],
             [
              0.7777777777777778,
              "#fb9f3a"
             ],
             [
              0.8888888888888888,
              "#fdca26"
             ],
             [
              1,
              "#f0f921"
             ]
            ],
            "type": "histogram2dcontour"
           }
          ],
          "mesh3d": [
           {
            "colorbar": {
             "outlinewidth": 0,
             "ticks": ""
            },
            "type": "mesh3d"
           }
          ],
          "parcoords": [
           {
            "line": {
             "colorbar": {
              "outlinewidth": 0,
              "ticks": ""
             }
            },
            "type": "parcoords"
           }
          ],
          "pie": [
           {
            "automargin": true,
            "type": "pie"
           }
          ],
          "scatter": [
           {
            "fillpattern": {
             "fillmode": "overlay",
             "size": 10,
             "solidity": 0.2
            },
            "type": "scatter"
           }
          ],
          "scatter3d": [
           {
            "line": {
             "colorbar": {
              "outlinewidth": 0,
              "ticks": ""
             }
            },
            "marker": {
             "colorbar": {
              "outlinewidth": 0,
              "ticks": ""
             }
            },
            "type": "scatter3d"
           }
          ],
          "scattercarpet": [
           {
            "marker": {
             "colorbar": {
              "outlinewidth": 0,
              "ticks": ""
             }
            },
            "type": "scattercarpet"
           }
          ],
          "scattergeo": [
           {
            "marker": {
             "colorbar": {
              "outlinewidth": 0,
              "ticks": ""
             }
            },
            "type": "scattergeo"
           }
          ],
          "scattergl": [
           {
            "marker": {
             "colorbar": {
              "outlinewidth": 0,
              "ticks": ""
             }
            },
            "type": "scattergl"
           }
          ],
          "scattermapbox": [
           {
            "marker": {
             "colorbar": {
              "outlinewidth": 0,
              "ticks": ""
             }
            },
            "type": "scattermapbox"
           }
          ],
          "scatterpolar": [
           {
            "marker": {
             "colorbar": {
              "outlinewidth": 0,
              "ticks": ""
             }
            },
            "type": "scatterpolar"
           }
          ],
          "scatterpolargl": [
           {
            "marker": {
             "colorbar": {
              "outlinewidth": 0,
              "ticks": ""
             }
            },
            "type": "scatterpolargl"
           }
          ],
          "scatterternary": [
           {
            "marker": {
             "colorbar": {
              "outlinewidth": 0,
              "ticks": ""
             }
            },
            "type": "scatterternary"
           }
          ],
          "surface": [
           {
            "colorbar": {
             "outlinewidth": 0,
             "ticks": ""
            },
            "colorscale": [
             [
              0,
              "#0d0887"
             ],
             [
              0.1111111111111111,
              "#46039f"
             ],
             [
              0.2222222222222222,
              "#7201a8"
             ],
             [
              0.3333333333333333,
              "#9c179e"
             ],
             [
              0.4444444444444444,
              "#bd3786"
             ],
             [
              0.5555555555555556,
              "#d8576b"
             ],
             [
              0.6666666666666666,
              "#ed7953"
             ],
             [
              0.7777777777777778,
              "#fb9f3a"
             ],
             [
              0.8888888888888888,
              "#fdca26"
             ],
             [
              1,
              "#f0f921"
             ]
            ],
            "type": "surface"
           }
          ],
          "table": [
           {
            "cells": {
             "fill": {
              "color": "#EBF0F8"
             },
             "line": {
              "color": "white"
             }
            },
            "header": {
             "fill": {
              "color": "#C8D4E3"
             },
             "line": {
              "color": "white"
             }
            },
            "type": "table"
           }
          ]
         },
         "layout": {
          "annotationdefaults": {
           "arrowcolor": "#2a3f5f",
           "arrowhead": 0,
           "arrowwidth": 1
          },
          "autotypenumbers": "strict",
          "coloraxis": {
           "colorbar": {
            "outlinewidth": 0,
            "ticks": ""
           }
          },
          "colorscale": {
           "diverging": [
            [
             0,
             "#8e0152"
            ],
            [
             0.1,
             "#c51b7d"
            ],
            [
             0.2,
             "#de77ae"
            ],
            [
             0.3,
             "#f1b6da"
            ],
            [
             0.4,
             "#fde0ef"
            ],
            [
             0.5,
             "#f7f7f7"
            ],
            [
             0.6,
             "#e6f5d0"
            ],
            [
             0.7,
             "#b8e186"
            ],
            [
             0.8,
             "#7fbc41"
            ],
            [
             0.9,
             "#4d9221"
            ],
            [
             1,
             "#276419"
            ]
           ],
           "sequential": [
            [
             0,
             "#0d0887"
            ],
            [
             0.1111111111111111,
             "#46039f"
            ],
            [
             0.2222222222222222,
             "#7201a8"
            ],
            [
             0.3333333333333333,
             "#9c179e"
            ],
            [
             0.4444444444444444,
             "#bd3786"
            ],
            [
             0.5555555555555556,
             "#d8576b"
            ],
            [
             0.6666666666666666,
             "#ed7953"
            ],
            [
             0.7777777777777778,
             "#fb9f3a"
            ],
            [
             0.8888888888888888,
             "#fdca26"
            ],
            [
             1,
             "#f0f921"
            ]
           ],
           "sequentialminus": [
            [
             0,
             "#0d0887"
            ],
            [
             0.1111111111111111,
             "#46039f"
            ],
            [
             0.2222222222222222,
             "#7201a8"
            ],
            [
             0.3333333333333333,
             "#9c179e"
            ],
            [
             0.4444444444444444,
             "#bd3786"
            ],
            [
             0.5555555555555556,
             "#d8576b"
            ],
            [
             0.6666666666666666,
             "#ed7953"
            ],
            [
             0.7777777777777778,
             "#fb9f3a"
            ],
            [
             0.8888888888888888,
             "#fdca26"
            ],
            [
             1,
             "#f0f921"
            ]
           ]
          },
          "colorway": [
           "#636efa",
           "#EF553B",
           "#00cc96",
           "#ab63fa",
           "#FFA15A",
           "#19d3f3",
           "#FF6692",
           "#B6E880",
           "#FF97FF",
           "#FECB52"
          ],
          "font": {
           "color": "#2a3f5f"
          },
          "geo": {
           "bgcolor": "white",
           "lakecolor": "white",
           "landcolor": "#E5ECF6",
           "showlakes": true,
           "showland": true,
           "subunitcolor": "white"
          },
          "hoverlabel": {
           "align": "left"
          },
          "hovermode": "closest",
          "mapbox": {
           "style": "light"
          },
          "paper_bgcolor": "white",
          "plot_bgcolor": "#E5ECF6",
          "polar": {
           "angularaxis": {
            "gridcolor": "white",
            "linecolor": "white",
            "ticks": ""
           },
           "bgcolor": "#E5ECF6",
           "radialaxis": {
            "gridcolor": "white",
            "linecolor": "white",
            "ticks": ""
           }
          },
          "scene": {
           "xaxis": {
            "backgroundcolor": "#E5ECF6",
            "gridcolor": "white",
            "gridwidth": 2,
            "linecolor": "white",
            "showbackground": true,
            "ticks": "",
            "zerolinecolor": "white"
           },
           "yaxis": {
            "backgroundcolor": "#E5ECF6",
            "gridcolor": "white",
            "gridwidth": 2,
            "linecolor": "white",
            "showbackground": true,
            "ticks": "",
            "zerolinecolor": "white"
           },
           "zaxis": {
            "backgroundcolor": "#E5ECF6",
            "gridcolor": "white",
            "gridwidth": 2,
            "linecolor": "white",
            "showbackground": true,
            "ticks": "",
            "zerolinecolor": "white"
           }
          },
          "shapedefaults": {
           "line": {
            "color": "#2a3f5f"
           }
          },
          "ternary": {
           "aaxis": {
            "gridcolor": "white",
            "linecolor": "white",
            "ticks": ""
           },
           "baxis": {
            "gridcolor": "white",
            "linecolor": "white",
            "ticks": ""
           },
           "bgcolor": "#E5ECF6",
           "caxis": {
            "gridcolor": "white",
            "linecolor": "white",
            "ticks": ""
           }
          },
          "title": {
           "x": 0.05
          },
          "xaxis": {
           "automargin": true,
           "gridcolor": "white",
           "linecolor": "white",
           "ticks": "",
           "title": {
            "standoff": 15
           },
           "zerolinecolor": "white",
           "zerolinewidth": 2
          },
          "yaxis": {
           "automargin": true,
           "gridcolor": "white",
           "linecolor": "white",
           "ticks": "",
           "title": {
            "standoff": 15
           },
           "zerolinecolor": "white",
           "zerolinewidth": 2
          }
         }
        },
        "title": {
         "text": "Error vs Number of Clusters"
        },
        "xaxis": {
         "title": {
          "text": "Number of Clusters"
         }
        },
        "yaxis": {
         "title": {
          "text": "Error"
         }
        }
       }
      }
     },
     "metadata": {},
     "output_type": "display_data"
    }
   ],
   "source": [
    "from sklearn.cluster import KMeans\n",
    "import plotly.graph_objects as go\n",
    "from sklearn.metrics import pairwise_distances\n",
    "\n",
    "intra_cluster_error = []\n",
    "inter_cluster_error = []\n",
    "\n",
    "min_clusters = 2\n",
    "max_clusters = 20\n",
    "for n_clusters in range(min_clusters, max_clusters):\n",
    "    kmeans = KMeans(n_clusters=n_clusters, random_state=0).fit(df_train_feat_scaled)\n",
    "    intra_cluster_error.append(kmeans.inertia_)# the sum of squared distances of samples to their closest cluster center\n",
    "\n",
    "    centroid = kmeans.cluster_centers_\n",
    "    pairwise_dists = pairwise_distances(centroid)\n",
    "    squared_pairwise_dists = pairwise_dists**2\n",
    "    sum_squared_distances = np.sum(np.triu(squared_pairwise_dists, 1)) # sum the upper triangle part excluding the diagonal\n",
    "    inter_cluster_error.append(sum_squared_distances)\n",
    "    \n",
    "    \n",
    "fig = go.Figure()\n",
    "fig.add_trace(go.Scatter(x=list(range(min_clusters, max_clusters)), y=intra_cluster_error, mode='lines+markers', name='Intra-cluster error (Sum of Squared Distances)'))\n",
    "fig.add_trace(go.Scatter(x=list(range(min_clusters, max_clusters)), y=inter_cluster_error, mode='lines+markers', name='Inter-cluster error (Sum of Squared Distances Between Centroids)'))\n",
    "\n",
    "fig.update_layout(\n",
    "    title='Error vs Number of Clusters',\n",
    "    xaxis_title='Number of Clusters',\n",
    "    yaxis_title='Error',\n",
    "    hovermode='x'  # enable hover feature\n",
    ")\n",
    "\n",
    "fig.show()\n",
    "\n",
    "\n"
   ]
  },
  {
   "cell_type": "markdown",
   "metadata": {},
   "source": [
    "## Choose cluster number = 3 (elbow)\n",
    "<div style=\"text-align: center;\">\n",
    "    <img src=\"./img/k_selection.jpg\" width=\"50%\" />\n",
    "</div>"
   ]
  },
  {
   "cell_type": "code",
   "execution_count": 18,
   "metadata": {},
   "outputs": [
    {
     "name": "stdout",
     "output_type": "stream",
     "text": [
      "num of points: 174\n"
     ]
    },
    {
     "data": {
      "text/html": [
       "<div>\n",
       "<style scoped>\n",
       "    .dataframe tbody tr th:only-of-type {\n",
       "        vertical-align: middle;\n",
       "    }\n",
       "\n",
       "    .dataframe tbody tr th {\n",
       "        vertical-align: top;\n",
       "    }\n",
       "\n",
       "    .dataframe thead th {\n",
       "        text-align: right;\n",
       "    }\n",
       "</style>\n",
       "<table border=\"1\" class=\"dataframe\">\n",
       "  <thead>\n",
       "    <tr style=\"text-align: right;\">\n",
       "      <th></th>\n",
       "      <th>PC1</th>\n",
       "      <th>PC2</th>\n",
       "      <th>PC3</th>\n",
       "      <th>cluster_label</th>\n",
       "    </tr>\n",
       "  </thead>\n",
       "  <tbody>\n",
       "    <tr>\n",
       "      <th>2023-03-13</th>\n",
       "      <td>-1.059196</td>\n",
       "      <td>0.24049</td>\n",
       "      <td>0.066822</td>\n",
       "      <td>1</td>\n",
       "    </tr>\n",
       "    <tr>\n",
       "      <th>2023-03-14</th>\n",
       "      <td>-1.059196</td>\n",
       "      <td>0.24049</td>\n",
       "      <td>0.066822</td>\n",
       "      <td>1</td>\n",
       "    </tr>\n",
       "    <tr>\n",
       "      <th>2023-03-15</th>\n",
       "      <td>-1.059196</td>\n",
       "      <td>0.24049</td>\n",
       "      <td>0.066822</td>\n",
       "      <td>1</td>\n",
       "    </tr>\n",
       "    <tr>\n",
       "      <th>2023-03-16</th>\n",
       "      <td>-1.059196</td>\n",
       "      <td>0.24049</td>\n",
       "      <td>0.066822</td>\n",
       "      <td>1</td>\n",
       "    </tr>\n",
       "    <tr>\n",
       "      <th>2023-03-17</th>\n",
       "      <td>-1.059196</td>\n",
       "      <td>0.24049</td>\n",
       "      <td>0.066822</td>\n",
       "      <td>1</td>\n",
       "    </tr>\n",
       "  </tbody>\n",
       "</table>\n",
       "</div>"
      ],
      "text/plain": [
       "                 PC1      PC2       PC3  cluster_label\n",
       "2023-03-13 -1.059196  0.24049  0.066822              1\n",
       "2023-03-14 -1.059196  0.24049  0.066822              1\n",
       "2023-03-15 -1.059196  0.24049  0.066822              1\n",
       "2023-03-16 -1.059196  0.24049  0.066822              1\n",
       "2023-03-17 -1.059196  0.24049  0.066822              1"
      ]
     },
     "execution_count": 18,
     "metadata": {},
     "output_type": "execute_result"
    }
   ],
   "source": [
    "print(f\"num of points: {len(df_train_feat_scaled)}\")\n",
    "\n",
    "n_clusters = 3\n",
    "\n",
    "from sklearn.cluster import KMeans\n",
    "kmeans = KMeans(n_clusters=n_clusters, random_state=0).fit(df_train_feat_scaled)\n",
    "centroid = kmeans.cluster_centers_\n",
    "\n",
    "# assign the cluster labels to each bid\n",
    "df_train_feat_scaled['cluster_label'] = kmeans.labels_\n",
    "df_train_feat_scaled.head()"
   ]
  },
  {
   "cell_type": "code",
   "execution_count": 19,
   "metadata": {},
   "outputs": [
    {
     "data": {
      "text/html": [
       "<div>\n",
       "<style scoped>\n",
       "    .dataframe tbody tr th:only-of-type {\n",
       "        vertical-align: middle;\n",
       "    }\n",
       "\n",
       "    .dataframe tbody tr th {\n",
       "        vertical-align: top;\n",
       "    }\n",
       "\n",
       "    .dataframe thead th {\n",
       "        text-align: right;\n",
       "    }\n",
       "</style>\n",
       "<table border=\"1\" class=\"dataframe\">\n",
       "  <thead>\n",
       "    <tr style=\"text-align: right;\">\n",
       "      <th></th>\n",
       "      <th>cluster_label</th>\n",
       "    </tr>\n",
       "  </thead>\n",
       "  <tbody>\n",
       "    <tr>\n",
       "      <th>2023-03-13</th>\n",
       "      <td>1</td>\n",
       "    </tr>\n",
       "    <tr>\n",
       "      <th>2023-03-14</th>\n",
       "      <td>1</td>\n",
       "    </tr>\n",
       "    <tr>\n",
       "      <th>2023-03-15</th>\n",
       "      <td>1</td>\n",
       "    </tr>\n",
       "    <tr>\n",
       "      <th>2023-03-16</th>\n",
       "      <td>1</td>\n",
       "    </tr>\n",
       "    <tr>\n",
       "      <th>2023-03-17</th>\n",
       "      <td>1</td>\n",
       "    </tr>\n",
       "  </tbody>\n",
       "</table>\n",
       "</div>"
      ],
      "text/plain": [
       "            cluster_label\n",
       "2023-03-13              1\n",
       "2023-03-14              1\n",
       "2023-03-15              1\n",
       "2023-03-16              1\n",
       "2023-03-17              1"
      ]
     },
     "execution_count": 19,
     "metadata": {},
     "output_type": "execute_result"
    }
   ],
   "source": [
    "cluster_labels = df_train_feat_scaled[['cluster_label']].copy()\n",
    "cluster_labels.head()"
   ]
  },
  {
   "cell_type": "markdown",
   "metadata": {},
   "source": [
    "# plot 3d clustering in space"
   ]
  },
  {
   "cell_type": "code",
   "execution_count": 34,
   "metadata": {},
   "outputs": [
    {
     "data": {
      "application/vnd.plotly.v1+json": {
       "config": {
        "plotlyServerURL": "https://plot.ly"
       },
       "data": [
        {
         "marker": {
          "color": "#636EFA",
          "opacity": 0.8,
          "size": 5
         },
         "mode": "markers",
         "name": "Cluster 1",
         "type": "scatter3d",
         "x": [
          -1.0591960809603729,
          -1.0591960809603729,
          -1.0591960809603729,
          -1.0591960809603729,
          -1.0591960809603729,
          -1.0591960809603729,
          -1.0591960809603729,
          -1.0591960809603729,
          -1.0591960809603729,
          -1.0591960809603729,
          -1.0591960809603729,
          -1.0591960809603729,
          -1.0591960809603729,
          -1.0591960809603729,
          -1.0591960809603729,
          -1.0591960809603729,
          -1.0591960809603729,
          -1.0591960809603729,
          -1.0591960809603729,
          -1.0591960809603729,
          -1.0591960809603729,
          -1.0591960809603729,
          -1.0591960809603729,
          -1.0591960809603729,
          -1.0591960809603729,
          -1.0591960809603729,
          -1.0591960809603729,
          -1.0591960809603729,
          -1.0591960809603729,
          -1.0591960809603729,
          -1.0591960809603729,
          -1.0591960809603729,
          -1.0591960809603729,
          -1.0591960809603729,
          -1.0591960809603729,
          -1.0591960809603729,
          -1.0591960809603729,
          -1.0591960809603729,
          -1.0591960809603729,
          -1.0591960809603729,
          -1.0591960809603729,
          -1.0591960809603729,
          -1.0591960809603729,
          -1.0591960809603729,
          -1.0591960809603729,
          -1.0591960809603729,
          -1.0591960809603729,
          -1.0591960809603729,
          -1.0591960809603729,
          -1.0591960809603729,
          -1.0591960809603729,
          -1.0591960809603729,
          -1.0591960809603729,
          -1.0591960809603729,
          -1.0591960809603729,
          -1.0591960809603729,
          -1.0591960809603729,
          -1.0591960809603729,
          -1.0591960809603729,
          -1.0591960809603729,
          -1.0591960809603729,
          -1.0591960809603729,
          -1.0591960809603729,
          -1.0591960809603729,
          -1.0591960809603729,
          -1.0591960809603729,
          -1.0591960809603729,
          -1.0591960809603729,
          -1.0591960809603729,
          -1.0591960809603729,
          -1.0591960809603729,
          -1.0591960809603729,
          -1.0591960809603729,
          -1.0591960809603729,
          -1.0591960809603729,
          -1.0591960809603729,
          -1.0591960809603729,
          -1.0591960809603729,
          -1.0591960809603729,
          -1.0591960809603729,
          -1.0591960809603729,
          -1.0591960809603729,
          -1.0591960809603729,
          -1.0591960809603729,
          -0.5295374919053829,
          -0.5295374919053829,
          -1.0591960809603729,
          -0.5295374919053829,
          -1.0591960809603729,
          -1.0591960809603729,
          -1.0591960809603729,
          -1.0591960809603729,
          -1.0591960809603729,
          -1.0591960809603729,
          -1.0591960809603729,
          -1.0591960809603729,
          -1.0591960809603729,
          -1.0591960809603729,
          -1.0591960809603729,
          -1.0591960809603729,
          -1.0591960809603729,
          -1.0591960809603729,
          -1.0591960809603729,
          -1.0591960809603729,
          -1.0591960809603729,
          -1.0591960809603729,
          -1.0591960809603729,
          -1.0533356281017725,
          -1.0533356281017725,
          0.37780096970595684,
          -1.2906293583768,
          -1.0533356281017725,
          -1.0533356281017725,
          -1.0533356281017725,
          -1.0533356281017725,
          -1.0533356281017725,
          -1.0533356281017725,
          -1.0533356281017725,
          -1.0533356281017725,
          -1.0533356281017725,
          -1.0533356281017725
         ],
         "y": [
          0.2404898005644346,
          0.2404898005644346,
          0.2404898005644346,
          0.2404898005644346,
          0.2404898005644346,
          0.2404898005644346,
          0.2404898005644346,
          0.2404898005644346,
          0.2404898005644346,
          0.2404898005644346,
          0.2404898005644346,
          0.2404898005644346,
          0.2404898005644346,
          0.2404898005644346,
          0.2404898005644346,
          0.2404898005644346,
          0.2404898005644346,
          0.2404898005644346,
          0.2404898005644346,
          0.2404898005644346,
          0.2404898005644346,
          0.2404898005644346,
          0.2404898005644346,
          0.2404898005644346,
          0.2404898005644346,
          0.2404898005644346,
          0.2404898005644346,
          0.2404898005644346,
          0.2404898005644346,
          0.2404898005644346,
          0.2404898005644346,
          0.2404898005644346,
          0.2404898005644346,
          0.2404898005644346,
          0.2404898005644346,
          0.2404898005644346,
          0.2404898005644346,
          0.2404898005644346,
          0.2404898005644346,
          0.2404898005644346,
          0.2404898005644346,
          0.2404898005644346,
          0.2404898005644346,
          0.2404898005644346,
          0.2404898005644346,
          0.2404898005644346,
          0.2404898005644346,
          0.2404898005644346,
          0.2404898005644346,
          0.2404898005644346,
          0.2404898005644346,
          0.2404898005644346,
          0.2404898005644346,
          0.2404898005644346,
          0.2404898005644346,
          0.2404898005644346,
          0.2404898005644346,
          0.2404898005644346,
          0.2404898005644346,
          0.2404898005644346,
          0.2404898005644346,
          0.2404898005644346,
          0.2404898005644346,
          0.2404898005644346,
          0.2404898005644346,
          0.2404898005644346,
          0.2404898005644346,
          0.2404898005644346,
          0.2404898005644346,
          0.2404898005644346,
          0.2404898005644346,
          0.2404898005644346,
          0.2404898005644346,
          0.2404898005644346,
          0.2404898005644346,
          0.2404898005644346,
          0.2404898005644346,
          0.2404898005644346,
          0.2404898005644346,
          0.2404898005644346,
          0.2404898005644346,
          0.2404898005644346,
          0.2404898005644346,
          0.2404898005644346,
          2.416558281751848,
          2.416558281751848,
          0.2404898005644346,
          2.416558281751848,
          0.2404898005644346,
          0.2404898005644346,
          0.2404898005644346,
          0.2404898005644346,
          0.2404898005644346,
          0.2404898005644346,
          0.2404898005644346,
          0.2404898005644346,
          0.2404898005644346,
          0.2404898005644346,
          0.2404898005644346,
          0.2404898005644346,
          0.2404898005644346,
          0.2404898005644346,
          0.2404898005644346,
          0.2404898005644346,
          0.2404898005644346,
          0.2404898005644346,
          0.2404898005644346,
          0.2433137077463546,
          0.2433137077463546,
          -0.50415351197724,
          -2.105550607327571,
          0.2433137077463546,
          0.2433137077463546,
          0.2433137077463546,
          0.2433137077463546,
          0.2433137077463546,
          0.2433137077463546,
          0.2433137077463546,
          0.2433137077463546,
          0.2433137077463546,
          0.2433137077463546
         ],
         "z": [
          0.06682158248146741,
          0.06682158248146741,
          0.06682158248146741,
          0.06682158248146741,
          0.06682158248146741,
          0.06682158248146741,
          0.06682158248146741,
          0.06682158248146741,
          0.06682158248146741,
          0.06682158248146741,
          0.06682158248146741,
          0.06682158248146741,
          0.06682158248146741,
          0.06682158248146741,
          0.06682158248146741,
          0.06682158248146741,
          0.06682158248146741,
          0.06682158248146741,
          0.06682158248146741,
          0.06682158248146741,
          0.06682158248146741,
          0.06682158248146741,
          0.06682158248146741,
          0.06682158248146741,
          0.06682158248146741,
          0.06682158248146741,
          0.06682158248146741,
          0.06682158248146741,
          0.06682158248146741,
          0.06682158248146741,
          0.06682158248146741,
          0.06682158248146741,
          0.06682158248146741,
          0.06682158248146741,
          0.06682158248146741,
          0.06682158248146741,
          0.06682158248146741,
          0.06682158248146741,
          0.06682158248146741,
          0.06682158248146741,
          0.06682158248146741,
          0.06682158248146741,
          0.06682158248146741,
          0.06682158248146741,
          0.06682158248146741,
          0.06682158248146741,
          0.06682158248146741,
          0.06682158248146741,
          0.06682158248146741,
          0.06682158248146741,
          0.06682158248146741,
          0.06682158248146741,
          0.06682158248146741,
          0.06682158248146741,
          0.06682158248146741,
          0.06682158248146741,
          0.06682158248146741,
          0.06682158248146741,
          0.06682158248146741,
          0.06682158248146741,
          0.06682158248146741,
          0.06682158248146741,
          0.06682158248146741,
          0.06682158248146741,
          0.06682158248146741,
          0.06682158248146741,
          0.06682158248146741,
          0.06682158248146741,
          0.06682158248146741,
          0.06682158248146741,
          0.06682158248146741,
          0.06682158248146741,
          0.06682158248146741,
          0.06682158248146741,
          0.06682158248146741,
          0.06682158248146741,
          0.06682158248146741,
          0.06682158248146741,
          0.06682158248146741,
          0.06682158248146741,
          0.06682158248146741,
          0.06682158248146741,
          0.06682158248146741,
          0.06682158248146741,
          -2.8318541824802357,
          -2.8318541824802357,
          0.06682158248146741,
          -2.8318541824802357,
          0.06682158248146741,
          0.06682158248146741,
          0.06682158248146741,
          0.06682158248146741,
          0.06682158248146741,
          0.06682158248146741,
          0.06682158248146741,
          0.06682158248146741,
          0.06682158248146741,
          0.06682158248146741,
          0.06682158248146741,
          0.06682158248146741,
          0.06682158248146741,
          0.06682158248146741,
          0.06682158248146741,
          0.06682158248146741,
          0.06682158248146741,
          0.06682158248146741,
          0.06682158248146741,
          0.07000755887348753,
          0.07000755887348753,
          -0.22997936347218623,
          2.8909645134337665,
          0.07000755887348753,
          0.07000755887348753,
          0.07000755887348753,
          0.07000755887348753,
          0.07000755887348753,
          0.07000755887348753,
          0.07000755887348753,
          0.07000755887348753,
          0.07000755887348753,
          0.07000755887348753
         ]
        },
        {
         "marker": {
          "color": "#EF553B",
          "opacity": 0.8,
          "size": 5
         },
         "mode": "markers",
         "name": "Cluster 0",
         "type": "scatter3d",
         "x": [
          2.054334785123684,
          2.1022357512784766,
          2.1022357512784766,
          2.1022357512784766,
          2.1022357512784766,
          2.1022357512784766,
          2.1022357512784766,
          2.1022357512784766,
          2.1022357512784766,
          2.1022357512784766,
          2.1182027399967405,
          2.1182027399967405,
          2.1182027399967405,
          2.1182027399967405,
          2.1182027399967405,
          2.1182027399967405,
          2.1501367174332686,
          2.1501367174332686,
          2.1501367174332686,
          2.1501367174332686,
          2.1501367174332686,
          2.1501367174332686,
          2.0064338189688917,
          1.8148299543497235,
          1.6660032851790296,
          1.7669289881949313,
          1.8786979092227798,
          1.8786979092227798,
          1.8467639317862519,
          1.8148299543497235,
          1.942565864095836,
          1.942565864095836,
          1.8946648979410439,
          1.8946648979410439,
          1.926598875377572,
          1.974499841532364,
          1.9585328528141002,
          1.942565864095836,
          1.942565864095836,
          1.8786979092227798,
          1.6050867865076435,
          0.20154890894459068,
          1.64321655887961,
          1.8627309205045157
         ],
         "y": [
          -1.3729233492722448,
          -1.3977453446235306,
          -1.3977453446235306,
          -1.3977453446235306,
          -1.3977453446235306,
          -1.3977453446235306,
          -1.3977453446235306,
          -1.3977453446235306,
          -1.3977453446235306,
          -1.3977453446235306,
          -1.4060193430739594,
          -1.4060193430739594,
          -1.4060193430739594,
          -1.4060193430739594,
          -1.4060193430739594,
          -1.4060193430739594,
          -1.4225673399748167,
          -1.4225673399748167,
          -1.4225673399748167,
          -1.4225673399748167,
          -1.4225673399748167,
          -1.4225673399748167,
          -1.348101353920959,
          -1.2488133725158157,
          -3.342994488947186,
          -1.2239913771645297,
          -1.28190936631753,
          -1.28190936631753,
          -1.2653613694166728,
          -1.2488133725158157,
          -1.3150053601192444,
          -1.3150053601192444,
          -1.2901833647679586,
          -1.2901833647679586,
          -1.3067313616688159,
          -1.3315533570201017,
          -1.3232793585696732,
          -1.3150053601192444,
          -1.3150053601192444,
          -1.28190936631753,
          -3.4029142546215536,
          -2.7798241519534983,
          -3.3478927429413226,
          -1.2736353678671013
         ],
         "z": [
          -0.5762548287617886,
          -0.5861484134843487,
          -0.5861484134843487,
          -0.5861484134843487,
          -0.5861484134843487,
          -0.5861484134843487,
          -0.5861484134843487,
          -0.5861484134843487,
          -0.5861484134843487,
          -0.5861484134843487,
          -0.5894462750585353,
          -0.5894462750585353,
          -0.5894462750585353,
          -0.5894462750585353,
          -0.5894462750585353,
          -0.5894462750585353,
          -0.5960419982069087,
          -0.5960419982069087,
          -0.5960419982069087,
          -0.5960419982069087,
          -0.5960419982069087,
          -0.5960419982069087,
          -0.5663612440392285,
          -0.5267869051489882,
          2.5272906454410338,
          -0.5168933204264281,
          -0.539978351445735,
          -0.539978351445735,
          -0.5333826282973615,
          -0.5267869051489882,
          -0.5531697977424817,
          -0.5531697977424817,
          -0.5432762130199216,
          -0.5432762130199216,
          -0.5498719361682951,
          -0.5597655208908551,
          -0.5564676593166684,
          -0.5531697977424817,
          -0.5531697977424817,
          -0.539978351445735,
          2.4631862451867526,
          2.665720814169788,
          2.5179934973270495,
          -0.5366804898715483
         ]
        },
        {
         "marker": {
          "color": "#00CC96",
          "opacity": 0.8,
          "size": 5
         },
         "mode": "markers",
         "name": "Cluster 2",
         "type": "scatter3d",
         "x": [
          4.8620791380068695,
          4.8620791380068695,
          4.8620791380068695,
          4.8620791380068695,
          4.879660496582671,
          3.655451403377678,
          4.0818268020550645,
          3.575616459786358,
          3.788804159125051
         ],
         "y": [
          5.014552889118278,
          5.014552889118278,
          5.014552889118278,
          5.014552889118278,
          5.023024610664038,
          2.1929567659927875,
          2.558087468689077,
          2.2343267582449307,
          2.4168921095930753
         ],
         "z": [
          0.09924409817826982,
          0.09924409817826982,
          0.09924409817826982,
          0.09924409817826982,
          0.10880202735432995,
          2.3903532407359678,
          2.7419294956798455,
          2.406842548606901,
          2.58263067607884
         ]
        }
       ],
       "layout": {
        "legend": {
         "title": {
          "text": "Cluster Labels"
         }
        },
        "margin": {
         "b": 0,
         "l": 0,
         "r": 0,
         "t": 30
        },
        "scene": {
         "camera": {
          "eye": {
           "x": 2,
           "y": -1.5,
           "z": 1
          }
         },
         "xaxis": {
          "title": {
           "text": "PC1"
          }
         },
         "yaxis": {
          "title": {
           "text": "PC2"
          }
         },
         "zaxis": {
          "title": {
           "text": "PC3"
          }
         }
        },
        "template": {
         "data": {
          "bar": [
           {
            "error_x": {
             "color": "#2a3f5f"
            },
            "error_y": {
             "color": "#2a3f5f"
            },
            "marker": {
             "line": {
              "color": "#E5ECF6",
              "width": 0.5
             },
             "pattern": {
              "fillmode": "overlay",
              "size": 10,
              "solidity": 0.2
             }
            },
            "type": "bar"
           }
          ],
          "barpolar": [
           {
            "marker": {
             "line": {
              "color": "#E5ECF6",
              "width": 0.5
             },
             "pattern": {
              "fillmode": "overlay",
              "size": 10,
              "solidity": 0.2
             }
            },
            "type": "barpolar"
           }
          ],
          "carpet": [
           {
            "aaxis": {
             "endlinecolor": "#2a3f5f",
             "gridcolor": "white",
             "linecolor": "white",
             "minorgridcolor": "white",
             "startlinecolor": "#2a3f5f"
            },
            "baxis": {
             "endlinecolor": "#2a3f5f",
             "gridcolor": "white",
             "linecolor": "white",
             "minorgridcolor": "white",
             "startlinecolor": "#2a3f5f"
            },
            "type": "carpet"
           }
          ],
          "choropleth": [
           {
            "colorbar": {
             "outlinewidth": 0,
             "ticks": ""
            },
            "type": "choropleth"
           }
          ],
          "contour": [
           {
            "colorbar": {
             "outlinewidth": 0,
             "ticks": ""
            },
            "colorscale": [
             [
              0,
              "#0d0887"
             ],
             [
              0.1111111111111111,
              "#46039f"
             ],
             [
              0.2222222222222222,
              "#7201a8"
             ],
             [
              0.3333333333333333,
              "#9c179e"
             ],
             [
              0.4444444444444444,
              "#bd3786"
             ],
             [
              0.5555555555555556,
              "#d8576b"
             ],
             [
              0.6666666666666666,
              "#ed7953"
             ],
             [
              0.7777777777777778,
              "#fb9f3a"
             ],
             [
              0.8888888888888888,
              "#fdca26"
             ],
             [
              1,
              "#f0f921"
             ]
            ],
            "type": "contour"
           }
          ],
          "contourcarpet": [
           {
            "colorbar": {
             "outlinewidth": 0,
             "ticks": ""
            },
            "type": "contourcarpet"
           }
          ],
          "heatmap": [
           {
            "colorbar": {
             "outlinewidth": 0,
             "ticks": ""
            },
            "colorscale": [
             [
              0,
              "#0d0887"
             ],
             [
              0.1111111111111111,
              "#46039f"
             ],
             [
              0.2222222222222222,
              "#7201a8"
             ],
             [
              0.3333333333333333,
              "#9c179e"
             ],
             [
              0.4444444444444444,
              "#bd3786"
             ],
             [
              0.5555555555555556,
              "#d8576b"
             ],
             [
              0.6666666666666666,
              "#ed7953"
             ],
             [
              0.7777777777777778,
              "#fb9f3a"
             ],
             [
              0.8888888888888888,
              "#fdca26"
             ],
             [
              1,
              "#f0f921"
             ]
            ],
            "type": "heatmap"
           }
          ],
          "heatmapgl": [
           {
            "colorbar": {
             "outlinewidth": 0,
             "ticks": ""
            },
            "colorscale": [
             [
              0,
              "#0d0887"
             ],
             [
              0.1111111111111111,
              "#46039f"
             ],
             [
              0.2222222222222222,
              "#7201a8"
             ],
             [
              0.3333333333333333,
              "#9c179e"
             ],
             [
              0.4444444444444444,
              "#bd3786"
             ],
             [
              0.5555555555555556,
              "#d8576b"
             ],
             [
              0.6666666666666666,
              "#ed7953"
             ],
             [
              0.7777777777777778,
              "#fb9f3a"
             ],
             [
              0.8888888888888888,
              "#fdca26"
             ],
             [
              1,
              "#f0f921"
             ]
            ],
            "type": "heatmapgl"
           }
          ],
          "histogram": [
           {
            "marker": {
             "pattern": {
              "fillmode": "overlay",
              "size": 10,
              "solidity": 0.2
             }
            },
            "type": "histogram"
           }
          ],
          "histogram2d": [
           {
            "colorbar": {
             "outlinewidth": 0,
             "ticks": ""
            },
            "colorscale": [
             [
              0,
              "#0d0887"
             ],
             [
              0.1111111111111111,
              "#46039f"
             ],
             [
              0.2222222222222222,
              "#7201a8"
             ],
             [
              0.3333333333333333,
              "#9c179e"
             ],
             [
              0.4444444444444444,
              "#bd3786"
             ],
             [
              0.5555555555555556,
              "#d8576b"
             ],
             [
              0.6666666666666666,
              "#ed7953"
             ],
             [
              0.7777777777777778,
              "#fb9f3a"
             ],
             [
              0.8888888888888888,
              "#fdca26"
             ],
             [
              1,
              "#f0f921"
             ]
            ],
            "type": "histogram2d"
           }
          ],
          "histogram2dcontour": [
           {
            "colorbar": {
             "outlinewidth": 0,
             "ticks": ""
            },
            "colorscale": [
             [
              0,
              "#0d0887"
             ],
             [
              0.1111111111111111,
              "#46039f"
             ],
             [
              0.2222222222222222,
              "#7201a8"
             ],
             [
              0.3333333333333333,
              "#9c179e"
             ],
             [
              0.4444444444444444,
              "#bd3786"
             ],
             [
              0.5555555555555556,
              "#d8576b"
             ],
             [
              0.6666666666666666,
              "#ed7953"
             ],
             [
              0.7777777777777778,
              "#fb9f3a"
             ],
             [
              0.8888888888888888,
              "#fdca26"
             ],
             [
              1,
              "#f0f921"
             ]
            ],
            "type": "histogram2dcontour"
           }
          ],
          "mesh3d": [
           {
            "colorbar": {
             "outlinewidth": 0,
             "ticks": ""
            },
            "type": "mesh3d"
           }
          ],
          "parcoords": [
           {
            "line": {
             "colorbar": {
              "outlinewidth": 0,
              "ticks": ""
             }
            },
            "type": "parcoords"
           }
          ],
          "pie": [
           {
            "automargin": true,
            "type": "pie"
           }
          ],
          "scatter": [
           {
            "fillpattern": {
             "fillmode": "overlay",
             "size": 10,
             "solidity": 0.2
            },
            "type": "scatter"
           }
          ],
          "scatter3d": [
           {
            "line": {
             "colorbar": {
              "outlinewidth": 0,
              "ticks": ""
             }
            },
            "marker": {
             "colorbar": {
              "outlinewidth": 0,
              "ticks": ""
             }
            },
            "type": "scatter3d"
           }
          ],
          "scattercarpet": [
           {
            "marker": {
             "colorbar": {
              "outlinewidth": 0,
              "ticks": ""
             }
            },
            "type": "scattercarpet"
           }
          ],
          "scattergeo": [
           {
            "marker": {
             "colorbar": {
              "outlinewidth": 0,
              "ticks": ""
             }
            },
            "type": "scattergeo"
           }
          ],
          "scattergl": [
           {
            "marker": {
             "colorbar": {
              "outlinewidth": 0,
              "ticks": ""
             }
            },
            "type": "scattergl"
           }
          ],
          "scattermapbox": [
           {
            "marker": {
             "colorbar": {
              "outlinewidth": 0,
              "ticks": ""
             }
            },
            "type": "scattermapbox"
           }
          ],
          "scatterpolar": [
           {
            "marker": {
             "colorbar": {
              "outlinewidth": 0,
              "ticks": ""
             }
            },
            "type": "scatterpolar"
           }
          ],
          "scatterpolargl": [
           {
            "marker": {
             "colorbar": {
              "outlinewidth": 0,
              "ticks": ""
             }
            },
            "type": "scatterpolargl"
           }
          ],
          "scatterternary": [
           {
            "marker": {
             "colorbar": {
              "outlinewidth": 0,
              "ticks": ""
             }
            },
            "type": "scatterternary"
           }
          ],
          "surface": [
           {
            "colorbar": {
             "outlinewidth": 0,
             "ticks": ""
            },
            "colorscale": [
             [
              0,
              "#0d0887"
             ],
             [
              0.1111111111111111,
              "#46039f"
             ],
             [
              0.2222222222222222,
              "#7201a8"
             ],
             [
              0.3333333333333333,
              "#9c179e"
             ],
             [
              0.4444444444444444,
              "#bd3786"
             ],
             [
              0.5555555555555556,
              "#d8576b"
             ],
             [
              0.6666666666666666,
              "#ed7953"
             ],
             [
              0.7777777777777778,
              "#fb9f3a"
             ],
             [
              0.8888888888888888,
              "#fdca26"
             ],
             [
              1,
              "#f0f921"
             ]
            ],
            "type": "surface"
           }
          ],
          "table": [
           {
            "cells": {
             "fill": {
              "color": "#EBF0F8"
             },
             "line": {
              "color": "white"
             }
            },
            "header": {
             "fill": {
              "color": "#C8D4E3"
             },
             "line": {
              "color": "white"
             }
            },
            "type": "table"
           }
          ]
         },
         "layout": {
          "annotationdefaults": {
           "arrowcolor": "#2a3f5f",
           "arrowhead": 0,
           "arrowwidth": 1
          },
          "autotypenumbers": "strict",
          "coloraxis": {
           "colorbar": {
            "outlinewidth": 0,
            "ticks": ""
           }
          },
          "colorscale": {
           "diverging": [
            [
             0,
             "#8e0152"
            ],
            [
             0.1,
             "#c51b7d"
            ],
            [
             0.2,
             "#de77ae"
            ],
            [
             0.3,
             "#f1b6da"
            ],
            [
             0.4,
             "#fde0ef"
            ],
            [
             0.5,
             "#f7f7f7"
            ],
            [
             0.6,
             "#e6f5d0"
            ],
            [
             0.7,
             "#b8e186"
            ],
            [
             0.8,
             "#7fbc41"
            ],
            [
             0.9,
             "#4d9221"
            ],
            [
             1,
             "#276419"
            ]
           ],
           "sequential": [
            [
             0,
             "#0d0887"
            ],
            [
             0.1111111111111111,
             "#46039f"
            ],
            [
             0.2222222222222222,
             "#7201a8"
            ],
            [
             0.3333333333333333,
             "#9c179e"
            ],
            [
             0.4444444444444444,
             "#bd3786"
            ],
            [
             0.5555555555555556,
             "#d8576b"
            ],
            [
             0.6666666666666666,
             "#ed7953"
            ],
            [
             0.7777777777777778,
             "#fb9f3a"
            ],
            [
             0.8888888888888888,
             "#fdca26"
            ],
            [
             1,
             "#f0f921"
            ]
           ],
           "sequentialminus": [
            [
             0,
             "#0d0887"
            ],
            [
             0.1111111111111111,
             "#46039f"
            ],
            [
             0.2222222222222222,
             "#7201a8"
            ],
            [
             0.3333333333333333,
             "#9c179e"
            ],
            [
             0.4444444444444444,
             "#bd3786"
            ],
            [
             0.5555555555555556,
             "#d8576b"
            ],
            [
             0.6666666666666666,
             "#ed7953"
            ],
            [
             0.7777777777777778,
             "#fb9f3a"
            ],
            [
             0.8888888888888888,
             "#fdca26"
            ],
            [
             1,
             "#f0f921"
            ]
           ]
          },
          "colorway": [
           "#636efa",
           "#EF553B",
           "#00cc96",
           "#ab63fa",
           "#FFA15A",
           "#19d3f3",
           "#FF6692",
           "#B6E880",
           "#FF97FF",
           "#FECB52"
          ],
          "font": {
           "color": "#2a3f5f"
          },
          "geo": {
           "bgcolor": "white",
           "lakecolor": "white",
           "landcolor": "#E5ECF6",
           "showlakes": true,
           "showland": true,
           "subunitcolor": "white"
          },
          "hoverlabel": {
           "align": "left"
          },
          "hovermode": "closest",
          "mapbox": {
           "style": "light"
          },
          "paper_bgcolor": "white",
          "plot_bgcolor": "#E5ECF6",
          "polar": {
           "angularaxis": {
            "gridcolor": "white",
            "linecolor": "white",
            "ticks": ""
           },
           "bgcolor": "#E5ECF6",
           "radialaxis": {
            "gridcolor": "white",
            "linecolor": "white",
            "ticks": ""
           }
          },
          "scene": {
           "xaxis": {
            "backgroundcolor": "#E5ECF6",
            "gridcolor": "white",
            "gridwidth": 2,
            "linecolor": "white",
            "showbackground": true,
            "ticks": "",
            "zerolinecolor": "white"
           },
           "yaxis": {
            "backgroundcolor": "#E5ECF6",
            "gridcolor": "white",
            "gridwidth": 2,
            "linecolor": "white",
            "showbackground": true,
            "ticks": "",
            "zerolinecolor": "white"
           },
           "zaxis": {
            "backgroundcolor": "#E5ECF6",
            "gridcolor": "white",
            "gridwidth": 2,
            "linecolor": "white",
            "showbackground": true,
            "ticks": "",
            "zerolinecolor": "white"
           }
          },
          "shapedefaults": {
           "line": {
            "color": "#2a3f5f"
           }
          },
          "ternary": {
           "aaxis": {
            "gridcolor": "white",
            "linecolor": "white",
            "ticks": ""
           },
           "baxis": {
            "gridcolor": "white",
            "linecolor": "white",
            "ticks": ""
           },
           "bgcolor": "#E5ECF6",
           "caxis": {
            "gridcolor": "white",
            "linecolor": "white",
            "ticks": ""
           }
          },
          "title": {
           "x": 0.05
          },
          "xaxis": {
           "automargin": true,
           "gridcolor": "white",
           "linecolor": "white",
           "ticks": "",
           "title": {
            "standoff": 15
           },
           "zerolinecolor": "white",
           "zerolinewidth": 2
          },
          "yaxis": {
           "automargin": true,
           "gridcolor": "white",
           "linecolor": "white",
           "ticks": "",
           "title": {
            "standoff": 15
           },
           "zerolinecolor": "white",
           "zerolinewidth": 2
          }
         }
        },
        "title": {
         "text": "3D Scatter Plot of PCA Components"
        }
       }
      }
     },
     "metadata": {},
     "output_type": "display_data"
    }
   ],
   "source": [
    "# 3D scatter plot\n",
    "import plotly.express as px \n",
    "\n",
    "fig = go.Figure()\n",
    "\n",
    "labels = df_train_feat_scaled['cluster_label'].unique()\n",
    "colors = px.colors.qualitative.Plotly\n",
    "\n",
    "for i, label in enumerate(labels):\n",
    "    # filter row with current label\n",
    "    df_label = df_train_feat_scaled[df_train_feat_scaled['cluster_label'] == label]\n",
    "    \n",
    "    fig.add_trace(go.Scatter3d(\n",
    "        x=df_label['PC1'],\n",
    "        y=df_label['PC2'],\n",
    "        z=df_label['PC3'],\n",
    "        mode='markers',\n",
    "        marker=dict(\n",
    "            size=5,\n",
    "            color=colors[i% len(colors)],\n",
    "            opacity=0.8\n",
    "        ),\n",
    "        name=f'Cluster {label}'\n",
    "    ))\n",
    "\n",
    "fig.update_layout(\n",
    "    title='3D Scatter Plot of PCA Components',\n",
    "    scene=dict(\n",
    "        xaxis_title='PC1',\n",
    "        yaxis_title='PC2',\n",
    "        zaxis_title='PC3',\n",
    "        camera=dict(\n",
    "            eye=dict(x=2, y=-1.5, z=1) \n",
    "        )\n",
    "    ),\n",
    "    legend_title_text='Cluster Labels', \n",
    "    margin=dict(l=0, r=0, b=0, t=30)\n",
    ")\n",
    "\n",
    "# Show the plot\n",
    "fig.show()\n"
   ]
  },
  {
   "cell_type": "markdown",
   "metadata": {},
   "source": [
    "## Show clustering results"
   ]
  },
  {
   "cell_type": "code",
   "execution_count": 21,
   "metadata": {},
   "outputs": [
    {
     "data": {
      "application/vnd.plotly.v1+json": {
       "config": {
        "plotlyServerURL": "https://plot.ly"
       },
       "data": [
        {
         "line": {
          "color": "green"
         },
         "mode": "lines",
         "name": "Date 2023-03-13 Hour 18",
         "type": "scatter",
         "x": [
          0,
          1,
          1,
          56,
          56
         ],
         "y": [
          999.99,
          999.99,
          1000,
          1000,
          1000
         ]
        },
        {
         "line": {
          "color": "green"
         },
         "mode": "lines",
         "name": "Date 2023-03-14 Hour 18",
         "type": "scatter",
         "x": [
          0,
          1,
          1,
          56,
          56
         ],
         "y": [
          999.99,
          999.99,
          1000,
          1000,
          1000
         ]
        },
        {
         "line": {
          "color": "green"
         },
         "mode": "lines",
         "name": "Date 2023-03-15 Hour 18",
         "type": "scatter",
         "x": [
          0,
          1,
          1,
          56,
          56
         ],
         "y": [
          999.99,
          999.99,
          1000,
          1000,
          1000
         ]
        },
        {
         "line": {
          "color": "green"
         },
         "mode": "lines",
         "name": "Date 2023-03-16 Hour 18",
         "type": "scatter",
         "x": [
          0,
          1,
          1,
          56,
          56
         ],
         "y": [
          999.99,
          999.99,
          1000,
          1000,
          1000
         ]
        },
        {
         "line": {
          "color": "green"
         },
         "mode": "lines",
         "name": "Date 2023-03-17 Hour 18",
         "type": "scatter",
         "x": [
          0,
          1,
          1,
          56,
          56
         ],
         "y": [
          999.99,
          999.99,
          1000,
          1000,
          1000
         ]
        },
        {
         "line": {
          "color": "green"
         },
         "mode": "lines",
         "name": "Date 2023-03-18 Hour 18",
         "type": "scatter",
         "x": [
          0,
          1,
          1,
          56,
          56
         ],
         "y": [
          999.99,
          999.99,
          1000,
          1000,
          1000
         ]
        },
        {
         "line": {
          "color": "green"
         },
         "mode": "lines",
         "name": "Date 2023-03-19 Hour 18",
         "type": "scatter",
         "x": [
          0,
          1,
          1,
          56,
          56
         ],
         "y": [
          999.99,
          999.99,
          1000,
          1000,
          1000
         ]
        },
        {
         "line": {
          "color": "green"
         },
         "mode": "lines",
         "name": "Date 2023-03-20 Hour 18",
         "type": "scatter",
         "x": [
          0,
          1,
          1,
          56,
          56
         ],
         "y": [
          999.99,
          999.99,
          1000,
          1000,
          1000
         ]
        },
        {
         "line": {
          "color": "green"
         },
         "mode": "lines",
         "name": "Date 2023-03-21 Hour 18",
         "type": "scatter",
         "x": [
          0,
          1,
          1,
          56,
          56
         ],
         "y": [
          999.99,
          999.99,
          1000,
          1000,
          1000
         ]
        },
        {
         "line": {
          "color": "green"
         },
         "mode": "lines",
         "name": "Date 2023-03-22 Hour 18",
         "type": "scatter",
         "x": [
          0,
          1,
          1,
          56,
          56
         ],
         "y": [
          999.99,
          999.99,
          1000,
          1000,
          1000
         ]
        },
        {
         "line": {
          "color": "green"
         },
         "mode": "lines",
         "name": "Date 2023-03-23 Hour 18",
         "type": "scatter",
         "x": [
          0,
          1,
          1,
          56,
          56
         ],
         "y": [
          999.99,
          999.99,
          1000,
          1000,
          1000
         ]
        },
        {
         "line": {
          "color": "green"
         },
         "mode": "lines",
         "name": "Date 2023-03-24 Hour 18",
         "type": "scatter",
         "x": [
          0,
          1,
          1,
          56,
          56
         ],
         "y": [
          999.99,
          999.99,
          1000,
          1000,
          1000
         ]
        },
        {
         "line": {
          "color": "green"
         },
         "mode": "lines",
         "name": "Date 2023-03-25 Hour 18",
         "type": "scatter",
         "x": [
          0,
          1,
          1,
          56,
          56
         ],
         "y": [
          999.99,
          999.99,
          1000,
          1000,
          1000
         ]
        },
        {
         "line": {
          "color": "green"
         },
         "mode": "lines",
         "name": "Date 2023-03-26 Hour 18",
         "type": "scatter",
         "x": [
          0,
          1,
          1,
          56,
          56
         ],
         "y": [
          999.99,
          999.99,
          1000,
          1000,
          1000
         ]
        },
        {
         "line": {
          "color": "green"
         },
         "mode": "lines",
         "name": "Date 2023-03-27 Hour 18",
         "type": "scatter",
         "x": [
          0,
          1,
          1,
          56,
          56
         ],
         "y": [
          999.99,
          999.99,
          1000,
          1000,
          1000
         ]
        },
        {
         "line": {
          "color": "green"
         },
         "mode": "lines",
         "name": "Date 2023-03-28 Hour 18",
         "type": "scatter",
         "x": [
          0,
          1,
          1,
          56,
          56
         ],
         "y": [
          999.99,
          999.99,
          1000,
          1000,
          1000
         ]
        },
        {
         "line": {
          "color": "green"
         },
         "mode": "lines",
         "name": "Date 2023-03-29 Hour 18",
         "type": "scatter",
         "x": [
          0,
          1,
          1,
          56,
          56
         ],
         "y": [
          999.99,
          999.99,
          1000,
          1000,
          1000
         ]
        },
        {
         "line": {
          "color": "green"
         },
         "mode": "lines",
         "name": "Date 2023-03-30 Hour 18",
         "type": "scatter",
         "x": [
          0,
          1,
          1,
          56,
          56
         ],
         "y": [
          999.99,
          999.99,
          1000,
          1000,
          1000
         ]
        },
        {
         "line": {
          "color": "green"
         },
         "mode": "lines",
         "name": "Date 2023-03-31 Hour 18",
         "type": "scatter",
         "x": [
          0,
          1,
          1,
          56,
          56
         ],
         "y": [
          999.99,
          999.99,
          1000,
          1000,
          1000
         ]
        },
        {
         "line": {
          "color": "green"
         },
         "mode": "lines",
         "name": "Date 2023-04-01 Hour 18",
         "type": "scatter",
         "x": [
          0,
          1,
          1,
          60,
          60
         ],
         "y": [
          999.99,
          999.99,
          1000,
          1000,
          1000
         ]
        },
        {
         "line": {
          "color": "green"
         },
         "mode": "lines",
         "name": "Date 2023-04-02 Hour 18",
         "type": "scatter",
         "x": [
          0,
          1,
          1,
          60,
          60
         ],
         "y": [
          999.99,
          999.99,
          1000,
          1000,
          1000
         ]
        },
        {
         "line": {
          "color": "green"
         },
         "mode": "lines",
         "name": "Date 2023-04-03 Hour 18",
         "type": "scatter",
         "x": [
          0,
          1,
          1,
          60,
          60
         ],
         "y": [
          999.99,
          999.99,
          1000,
          1000,
          1000
         ]
        },
        {
         "line": {
          "color": "green"
         },
         "mode": "lines",
         "name": "Date 2023-04-04 Hour 18",
         "type": "scatter",
         "x": [
          0,
          1,
          1,
          60,
          60
         ],
         "y": [
          999.99,
          999.99,
          1000,
          1000,
          1000
         ]
        },
        {
         "line": {
          "color": "green"
         },
         "mode": "lines",
         "name": "Date 2023-04-05 Hour 18",
         "type": "scatter",
         "x": [
          0,
          1,
          1,
          60,
          60
         ],
         "y": [
          999.99,
          999.99,
          1000,
          1000,
          1000
         ]
        },
        {
         "line": {
          "color": "green"
         },
         "mode": "lines",
         "name": "Date 2023-04-06 Hour 18",
         "type": "scatter",
         "x": [
          0,
          1,
          1,
          60,
          60
         ],
         "y": [
          999.99,
          999.99,
          1000,
          1000,
          1000
         ]
        },
        {
         "line": {
          "color": "green"
         },
         "mode": "lines",
         "name": "Date 2023-04-07 Hour 18",
         "type": "scatter",
         "x": [
          0,
          1,
          1,
          60,
          60
         ],
         "y": [
          999.99,
          999.99,
          1000,
          1000,
          1000
         ]
        },
        {
         "line": {
          "color": "green"
         },
         "mode": "lines",
         "name": "Date 2023-04-08 Hour 18",
         "type": "scatter",
         "x": [
          0,
          1,
          1,
          60,
          60
         ],
         "y": [
          999.99,
          999.99,
          1000,
          1000,
          1000
         ]
        },
        {
         "line": {
          "color": "green"
         },
         "mode": "lines",
         "name": "Date 2023-04-09 Hour 18",
         "type": "scatter",
         "x": [
          0,
          1,
          1,
          60,
          60
         ],
         "y": [
          999.99,
          999.99,
          1000,
          1000,
          1000
         ]
        },
        {
         "line": {
          "color": "green"
         },
         "mode": "lines",
         "name": "Date 2023-04-10 Hour 18",
         "type": "scatter",
         "x": [
          0,
          1,
          1,
          60,
          60
         ],
         "y": [
          999.99,
          999.99,
          1000,
          1000,
          1000
         ]
        },
        {
         "line": {
          "color": "green"
         },
         "mode": "lines",
         "name": "Date 2023-04-11 Hour 18",
         "type": "scatter",
         "x": [
          0,
          1,
          1,
          60,
          60
         ],
         "y": [
          999.99,
          999.99,
          1000,
          1000,
          1000
         ]
        },
        {
         "line": {
          "color": "green"
         },
         "mode": "lines",
         "name": "Date 2023-04-12 Hour 18",
         "type": "scatter",
         "x": [
          0,
          1,
          1,
          60,
          60
         ],
         "y": [
          999.99,
          999.99,
          1000,
          1000,
          1000
         ]
        },
        {
         "line": {
          "color": "green"
         },
         "mode": "lines",
         "name": "Date 2023-04-13 Hour 18",
         "type": "scatter",
         "x": [
          0,
          1,
          1,
          60,
          60
         ],
         "y": [
          999.99,
          999.99,
          1000,
          1000,
          1000
         ]
        },
        {
         "line": {
          "color": "green"
         },
         "mode": "lines",
         "name": "Date 2023-04-14 Hour 18",
         "type": "scatter",
         "x": [
          0,
          1,
          1,
          60,
          60
         ],
         "y": [
          999.99,
          999.99,
          1000,
          1000,
          1000
         ]
        },
        {
         "line": {
          "color": "green"
         },
         "mode": "lines",
         "name": "Date 2023-04-15 Hour 18",
         "type": "scatter",
         "x": [
          0,
          1,
          1,
          60,
          60
         ],
         "y": [
          999.99,
          999.99,
          1000,
          1000,
          1000
         ]
        },
        {
         "line": {
          "color": "green"
         },
         "mode": "lines",
         "name": "Date 2023-04-16 Hour 18",
         "type": "scatter",
         "x": [
          0,
          1,
          1,
          60,
          60
         ],
         "y": [
          999.99,
          999.99,
          1000,
          1000,
          1000
         ]
        },
        {
         "line": {
          "color": "green"
         },
         "mode": "lines",
         "name": "Date 2023-04-17 Hour 18",
         "type": "scatter",
         "x": [
          0,
          1,
          1,
          60,
          60
         ],
         "y": [
          999.99,
          999.99,
          1000,
          1000,
          1000
         ]
        },
        {
         "line": {
          "color": "green"
         },
         "mode": "lines",
         "name": "Date 2023-04-18 Hour 18",
         "type": "scatter",
         "x": [
          0,
          1,
          1,
          60,
          60
         ],
         "y": [
          999.99,
          999.99,
          1000,
          1000,
          1000
         ]
        },
        {
         "line": {
          "color": "green"
         },
         "mode": "lines",
         "name": "Date 2023-04-19 Hour 18",
         "type": "scatter",
         "x": [
          0,
          1,
          1,
          60,
          60
         ],
         "y": [
          999.99,
          999.99,
          1000,
          1000,
          1000
         ]
        },
        {
         "line": {
          "color": "green"
         },
         "mode": "lines",
         "name": "Date 2023-04-20 Hour 18",
         "type": "scatter",
         "x": [
          0,
          1,
          1,
          60,
          60
         ],
         "y": [
          999.99,
          999.99,
          1000,
          1000,
          1000
         ]
        },
        {
         "line": {
          "color": "green"
         },
         "mode": "lines",
         "name": "Date 2023-04-21 Hour 18",
         "type": "scatter",
         "x": [
          0,
          1,
          1,
          60,
          60
         ],
         "y": [
          999.99,
          999.99,
          1000,
          1000,
          1000
         ]
        },
        {
         "line": {
          "color": "green"
         },
         "mode": "lines",
         "name": "Date 2023-04-22 Hour 18",
         "type": "scatter",
         "x": [
          0,
          1,
          1,
          60,
          60
         ],
         "y": [
          999.99,
          999.99,
          1000,
          1000,
          1000
         ]
        },
        {
         "line": {
          "color": "green"
         },
         "mode": "lines",
         "name": "Date 2023-04-23 Hour 18",
         "type": "scatter",
         "x": [
          0,
          1,
          1,
          60,
          60
         ],
         "y": [
          999.99,
          999.99,
          1000,
          1000,
          1000
         ]
        },
        {
         "line": {
          "color": "green"
         },
         "mode": "lines",
         "name": "Date 2023-04-24 Hour 18",
         "type": "scatter",
         "x": [
          0,
          1,
          1,
          60,
          60
         ],
         "y": [
          999.99,
          999.99,
          1000,
          1000,
          1000
         ]
        },
        {
         "line": {
          "color": "green"
         },
         "mode": "lines",
         "name": "Date 2023-04-25 Hour 18",
         "type": "scatter",
         "x": [
          0,
          1,
          1,
          60,
          60
         ],
         "y": [
          999.99,
          999.99,
          1000,
          1000,
          1000
         ]
        },
        {
         "line": {
          "color": "green"
         },
         "mode": "lines",
         "name": "Date 2023-04-26 Hour 18",
         "type": "scatter",
         "x": [
          0,
          1,
          1,
          60,
          60
         ],
         "y": [
          999.99,
          999.99,
          1000,
          1000,
          1000
         ]
        },
        {
         "line": {
          "color": "green"
         },
         "mode": "lines",
         "name": "Date 2023-04-27 Hour 18",
         "type": "scatter",
         "x": [
          0,
          1,
          1,
          60,
          60
         ],
         "y": [
          999.99,
          999.99,
          1000,
          1000,
          1000
         ]
        },
        {
         "line": {
          "color": "green"
         },
         "mode": "lines",
         "name": "Date 2023-04-28 Hour 18",
         "type": "scatter",
         "x": [
          0,
          1,
          1,
          60,
          60
         ],
         "y": [
          999.99,
          999.99,
          1000,
          1000,
          1000
         ]
        },
        {
         "line": {
          "color": "green"
         },
         "mode": "lines",
         "name": "Date 2023-04-29 Hour 18",
         "type": "scatter",
         "x": [
          0,
          1,
          1,
          60,
          60
         ],
         "y": [
          999.99,
          999.99,
          1000,
          1000,
          1000
         ]
        },
        {
         "line": {
          "color": "green"
         },
         "mode": "lines",
         "name": "Date 2023-04-30 Hour 18",
         "type": "scatter",
         "x": [
          0,
          1,
          1,
          60,
          60
         ],
         "y": [
          999.99,
          999.99,
          1000,
          1000,
          1000
         ]
        },
        {
         "line": {
          "color": "green"
         },
         "mode": "lines",
         "name": "Date 2023-05-01 Hour 18",
         "type": "scatter",
         "x": [
          0,
          1,
          1,
          76,
          76
         ],
         "y": [
          999.99,
          999.99,
          1000,
          1000,
          1000
         ]
        },
        {
         "line": {
          "color": "green"
         },
         "mode": "lines",
         "name": "Date 2023-05-02 Hour 18",
         "type": "scatter",
         "x": [
          0,
          1,
          1,
          76,
          76
         ],
         "y": [
          999.99,
          999.99,
          1000,
          1000,
          1000
         ]
        },
        {
         "line": {
          "color": "green"
         },
         "mode": "lines",
         "name": "Date 2023-05-03 Hour 18",
         "type": "scatter",
         "x": [
          0,
          1,
          1,
          76,
          76
         ],
         "y": [
          999.99,
          999.99,
          1000,
          1000,
          1000
         ]
        },
        {
         "line": {
          "color": "green"
         },
         "mode": "lines",
         "name": "Date 2023-05-04 Hour 18",
         "type": "scatter",
         "x": [
          0,
          1,
          1,
          76,
          76
         ],
         "y": [
          999.99,
          999.99,
          1000,
          1000,
          1000
         ]
        },
        {
         "line": {
          "color": "green"
         },
         "mode": "lines",
         "name": "Date 2023-05-05 Hour 18",
         "type": "scatter",
         "x": [
          0,
          1,
          1,
          76,
          76
         ],
         "y": [
          999.99,
          999.99,
          1000,
          1000,
          1000
         ]
        },
        {
         "line": {
          "color": "green"
         },
         "mode": "lines",
         "name": "Date 2023-05-06 Hour 18",
         "type": "scatter",
         "x": [
          0,
          1,
          1,
          76,
          76
         ],
         "y": [
          999.99,
          999.99,
          1000,
          1000,
          1000
         ]
        },
        {
         "line": {
          "color": "green"
         },
         "mode": "lines",
         "name": "Date 2023-05-07 Hour 18",
         "type": "scatter",
         "x": [
          0,
          1,
          1,
          76,
          76
         ],
         "y": [
          999.99,
          999.99,
          1000,
          1000,
          1000
         ]
        },
        {
         "line": {
          "color": "green"
         },
         "mode": "lines",
         "name": "Date 2023-05-08 Hour 18",
         "type": "scatter",
         "x": [
          0,
          1,
          1,
          76,
          76
         ],
         "y": [
          999.99,
          999.99,
          1000,
          1000,
          1000
         ]
        },
        {
         "line": {
          "color": "green"
         },
         "mode": "lines",
         "name": "Date 2023-05-09 Hour 18",
         "type": "scatter",
         "x": [
          0,
          1,
          1,
          76,
          76
         ],
         "y": [
          999.99,
          999.99,
          1000,
          1000,
          1000
         ]
        },
        {
         "line": {
          "color": "green"
         },
         "mode": "lines",
         "name": "Date 2023-05-10 Hour 18",
         "type": "scatter",
         "x": [
          0,
          1,
          1,
          76,
          76
         ],
         "y": [
          999.99,
          999.99,
          1000,
          1000,
          1000
         ]
        },
        {
         "line": {
          "color": "green"
         },
         "mode": "lines",
         "name": "Date 2023-05-11 Hour 18",
         "type": "scatter",
         "x": [
          0,
          1,
          1,
          76,
          76
         ],
         "y": [
          999.99,
          999.99,
          1000,
          1000,
          1000
         ]
        },
        {
         "line": {
          "color": "green"
         },
         "mode": "lines",
         "name": "Date 2023-05-12 Hour 18",
         "type": "scatter",
         "x": [
          0,
          1,
          1,
          76,
          76
         ],
         "y": [
          999.99,
          999.99,
          1000,
          1000,
          1000
         ]
        },
        {
         "line": {
          "color": "green"
         },
         "mode": "lines",
         "name": "Date 2023-05-13 Hour 18",
         "type": "scatter",
         "x": [
          0,
          1,
          1,
          76,
          76
         ],
         "y": [
          999.99,
          999.99,
          1000,
          1000,
          1000
         ]
        },
        {
         "line": {
          "color": "green"
         },
         "mode": "lines",
         "name": "Date 2023-05-14 Hour 18",
         "type": "scatter",
         "x": [
          0,
          1,
          1,
          76,
          76
         ],
         "y": [
          999.99,
          999.99,
          1000,
          1000,
          1000
         ]
        },
        {
         "line": {
          "color": "green"
         },
         "mode": "lines",
         "name": "Date 2023-05-15 Hour 18",
         "type": "scatter",
         "x": [
          0,
          1,
          1,
          76,
          76
         ],
         "y": [
          999.99,
          999.99,
          1000,
          1000,
          1000
         ]
        },
        {
         "line": {
          "color": "green"
         },
         "mode": "lines",
         "name": "Date 2023-05-16 Hour 18",
         "type": "scatter",
         "x": [
          0,
          1,
          1,
          76,
          76
         ],
         "y": [
          999.99,
          999.99,
          1000,
          1000,
          1000
         ]
        },
        {
         "line": {
          "color": "green"
         },
         "mode": "lines",
         "name": "Date 2023-05-17 Hour 18",
         "type": "scatter",
         "x": [
          0,
          1,
          1,
          76,
          76
         ],
         "y": [
          999.99,
          999.99,
          1000,
          1000,
          1000
         ]
        },
        {
         "line": {
          "color": "green"
         },
         "mode": "lines",
         "name": "Date 2023-05-18 Hour 18",
         "type": "scatter",
         "x": [
          0,
          1,
          1,
          76,
          76
         ],
         "y": [
          999.99,
          999.99,
          1000,
          1000,
          1000
         ]
        },
        {
         "line": {
          "color": "green"
         },
         "mode": "lines",
         "name": "Date 2023-05-19 Hour 18",
         "type": "scatter",
         "x": [
          0,
          1,
          1,
          76,
          76
         ],
         "y": [
          999.99,
          999.99,
          1000,
          1000,
          1000
         ]
        },
        {
         "line": {
          "color": "green"
         },
         "mode": "lines",
         "name": "Date 2023-05-20 Hour 18",
         "type": "scatter",
         "x": [
          0,
          1,
          1,
          76,
          76
         ],
         "y": [
          999.99,
          999.99,
          1000,
          1000,
          1000
         ]
        },
        {
         "line": {
          "color": "green"
         },
         "mode": "lines",
         "name": "Date 2023-05-21 Hour 18",
         "type": "scatter",
         "x": [
          0,
          1,
          1,
          76,
          76
         ],
         "y": [
          999.99,
          999.99,
          1000,
          1000,
          1000
         ]
        },
        {
         "line": {
          "color": "green"
         },
         "mode": "lines",
         "name": "Date 2023-05-22 Hour 18",
         "type": "scatter",
         "x": [
          0,
          1,
          1,
          76,
          76
         ],
         "y": [
          999.99,
          999.99,
          1000,
          1000,
          1000
         ]
        },
        {
         "line": {
          "color": "green"
         },
         "mode": "lines",
         "name": "Date 2023-05-23 Hour 18",
         "type": "scatter",
         "x": [
          0,
          1,
          1,
          76,
          76
         ],
         "y": [
          999.99,
          999.99,
          1000,
          1000,
          1000
         ]
        },
        {
         "line": {
          "color": "green"
         },
         "mode": "lines",
         "name": "Date 2023-05-24 Hour 18",
         "type": "scatter",
         "x": [
          0,
          1,
          1,
          76,
          76
         ],
         "y": [
          999.99,
          999.99,
          1000,
          1000,
          1000
         ]
        },
        {
         "line": {
          "color": "green"
         },
         "mode": "lines",
         "name": "Date 2023-05-25 Hour 18",
         "type": "scatter",
         "x": [
          0,
          1,
          1,
          76,
          76
         ],
         "y": [
          999.99,
          999.99,
          1000,
          1000,
          1000
         ]
        },
        {
         "line": {
          "color": "green"
         },
         "mode": "lines",
         "name": "Date 2023-05-26 Hour 18",
         "type": "scatter",
         "x": [
          0,
          1,
          1,
          76,
          76
         ],
         "y": [
          999.99,
          999.99,
          1000,
          1000,
          1000
         ]
        },
        {
         "line": {
          "color": "green"
         },
         "mode": "lines",
         "name": "Date 2023-05-27 Hour 18",
         "type": "scatter",
         "x": [
          0,
          1,
          1,
          76,
          76
         ],
         "y": [
          999.99,
          999.99,
          1000,
          1000,
          1000
         ]
        },
        {
         "line": {
          "color": "green"
         },
         "mode": "lines",
         "name": "Date 2023-05-28 Hour 18",
         "type": "scatter",
         "x": [
          0,
          1,
          1,
          76,
          76
         ],
         "y": [
          999.99,
          999.99,
          1000,
          1000,
          1000
         ]
        },
        {
         "line": {
          "color": "green"
         },
         "mode": "lines",
         "name": "Date 2023-05-29 Hour 18",
         "type": "scatter",
         "x": [
          0,
          1,
          1,
          76,
          76
         ],
         "y": [
          999.99,
          999.99,
          1000,
          1000,
          1000
         ]
        },
        {
         "line": {
          "color": "green"
         },
         "mode": "lines",
         "name": "Date 2023-05-30 Hour 18",
         "type": "scatter",
         "x": [
          0,
          1,
          1,
          76,
          76
         ],
         "y": [
          999.99,
          999.99,
          1000,
          1000,
          1000
         ]
        },
        {
         "line": {
          "color": "blue"
         },
         "mode": "lines",
         "name": "Date 2023-05-31 Hour 18",
         "type": "scatter",
         "x": [
          0,
          5,
          5,
          76,
          76
         ],
         "y": [
          25,
          25,
          1000,
          1000,
          1000
         ]
        },
        {
         "line": {
          "color": "green"
         },
         "mode": "lines",
         "name": "Date 2023-06-02 Hour 18",
         "type": "scatter",
         "x": [
          0,
          1,
          1,
          90,
          90
         ],
         "y": [
          999.99,
          999.99,
          1000,
          1000,
          1000
         ]
        },
        {
         "line": {
          "color": "green"
         },
         "mode": "lines",
         "name": "Date 2023-06-03 Hour 18",
         "type": "scatter",
         "x": [
          0,
          1,
          1,
          90,
          90
         ],
         "y": [
          999.99,
          999.99,
          1000,
          1000,
          1000
         ]
        },
        {
         "line": {
          "color": "green"
         },
         "mode": "lines",
         "name": "Date 2023-06-04 Hour 18",
         "type": "scatter",
         "x": [
          0,
          1,
          1,
          90,
          90
         ],
         "y": [
          999.99,
          999.99,
          1000,
          1000,
          1000
         ]
        },
        {
         "line": {
          "color": "green"
         },
         "mode": "lines",
         "name": "Date 2023-06-05 Hour 18",
         "type": "scatter",
         "x": [
          0,
          1,
          1,
          90,
          90
         ],
         "y": [
          999.99,
          999.99,
          1000,
          1000,
          1000
         ]
        },
        {
         "line": {
          "color": "blue"
         },
         "mode": "lines",
         "name": "Date 2023-06-06 Hour 18",
         "type": "scatter",
         "x": [
          0,
          25,
          25,
          90,
          90
         ],
         "y": [
          10,
          10,
          1000,
          1000,
          1000
         ]
        },
        {
         "line": {
          "color": "green"
         },
         "mode": "lines",
         "name": "Date 2023-06-07 Hour 18",
         "type": "scatter",
         "x": [
          0,
          1,
          1,
          90,
          90
         ],
         "y": [
          999.99,
          999.99,
          1000,
          1000,
          1000
         ]
        },
        {
         "line": {
          "color": "blue"
         },
         "mode": "lines",
         "name": "Date 2023-06-08 Hour 18",
         "type": "scatter",
         "x": [
          0,
          25,
          25,
          90,
          90
         ],
         "y": [
          10,
          10,
          1000,
          1000,
          1000
         ]
        },
        {
         "line": {
          "color": "blue"
         },
         "mode": "lines",
         "name": "Date 2023-06-09 Hour 18",
         "type": "scatter",
         "x": [
          0,
          25,
          25,
          90,
          90
         ],
         "y": [
          10,
          10,
          1000,
          1000,
          1000
         ]
        },
        {
         "line": {
          "color": "blue"
         },
         "mode": "lines",
         "name": "Date 2023-06-10 Hour 18",
         "type": "scatter",
         "x": [
          0,
          25,
          25,
          90,
          90
         ],
         "y": [
          10,
          10,
          1000,
          1000,
          1000
         ]
        },
        {
         "line": {
          "color": "blue"
         },
         "mode": "lines",
         "name": "Date 2023-06-11 Hour 18",
         "type": "scatter",
         "x": [
          0,
          25,
          25,
          90,
          90
         ],
         "y": [
          10,
          10,
          1000,
          1000,
          1000
         ]
        },
        {
         "line": {
          "color": "blue"
         },
         "mode": "lines",
         "name": "Date 2023-06-12 Hour 18",
         "type": "scatter",
         "x": [
          0,
          25,
          25,
          90,
          90
         ],
         "y": [
          10,
          10,
          1000,
          1000,
          1000
         ]
        },
        {
         "line": {
          "color": "blue"
         },
         "mode": "lines",
         "name": "Date 2023-06-13 Hour 18",
         "type": "scatter",
         "x": [
          0,
          25,
          25,
          90,
          90
         ],
         "y": [
          10,
          10,
          1000,
          1000,
          1000
         ]
        },
        {
         "line": {
          "color": "blue"
         },
         "mode": "lines",
         "name": "Date 2023-06-14 Hour 18",
         "type": "scatter",
         "x": [
          0,
          45,
          45,
          90,
          90
         ],
         "y": [
          10,
          10,
          1000,
          1000,
          1000
         ]
        },
        {
         "line": {
          "color": "blue"
         },
         "mode": "lines",
         "name": "Date 2023-06-15 Hour 18",
         "type": "scatter",
         "x": [
          0,
          45,
          45,
          90,
          90
         ],
         "y": [
          10,
          10,
          1000,
          1000,
          1000
         ]
        },
        {
         "line": {
          "color": "green"
         },
         "mode": "lines",
         "name": "Date 2023-06-16 Hour 18",
         "type": "scatter",
         "x": [
          0,
          90,
          90
         ],
         "y": [
          1000,
          1000,
          1000
         ]
        },
        {
         "line": {
          "color": "blue"
         },
         "mode": "lines",
         "name": "Date 2023-06-17 Hour 18",
         "type": "scatter",
         "x": [
          0,
          45,
          45,
          90,
          90
         ],
         "y": [
          5,
          5,
          1000,
          1000,
          1000
         ]
        },
        {
         "line": {
          "color": "blue"
         },
         "mode": "lines",
         "name": "Date 2023-06-18 Hour 18",
         "type": "scatter",
         "x": [
          0,
          45,
          45,
          90,
          90
         ],
         "y": [
          5,
          5,
          1000,
          1000,
          1000
         ]
        },
        {
         "line": {
          "color": "blue"
         },
         "mode": "lines",
         "name": "Date 2023-06-19 Hour 18",
         "type": "scatter",
         "x": [
          0,
          45,
          45,
          90,
          90
         ],
         "y": [
          5,
          5,
          1000,
          1000,
          1000
         ]
        },
        {
         "line": {
          "color": "blue"
         },
         "mode": "lines",
         "name": "Date 2023-06-20 Hour 18",
         "type": "scatter",
         "x": [
          0,
          45,
          45,
          90,
          90
         ],
         "y": [
          5,
          5,
          1000,
          1000,
          1000
         ]
        },
        {
         "line": {
          "color": "blue"
         },
         "mode": "lines",
         "name": "Date 2023-06-21 Hour 18",
         "type": "scatter",
         "x": [
          0,
          45,
          45,
          90,
          90
         ],
         "y": [
          5,
          5,
          1000,
          1000,
          1000
         ]
        },
        {
         "line": {
          "color": "blue"
         },
         "mode": "lines",
         "name": "Date 2023-06-22 Hour 18",
         "type": "scatter",
         "x": [
          0,
          45,
          45,
          90,
          90
         ],
         "y": [
          5,
          5,
          1000,
          1000,
          1000
         ]
        },
        {
         "line": {
          "color": "blue"
         },
         "mode": "lines",
         "name": "Date 2023-06-23 Hour 18",
         "type": "scatter",
         "x": [
          0,
          45,
          45,
          90,
          90
         ],
         "y": [
          -5,
          -5,
          1000,
          1000,
          1000
         ]
        },
        {
         "line": {
          "color": "blue"
         },
         "mode": "lines",
         "name": "Date 2023-06-24 Hour 18",
         "type": "scatter",
         "x": [
          0,
          45,
          45,
          90,
          90
         ],
         "y": [
          -5,
          -5,
          1000,
          1000,
          1000
         ]
        },
        {
         "line": {
          "color": "blue"
         },
         "mode": "lines",
         "name": "Date 2023-06-25 Hour 18",
         "type": "scatter",
         "x": [
          0,
          45,
          45,
          90,
          90
         ],
         "y": [
          -5,
          -5,
          1000,
          1000,
          1000
         ]
        },
        {
         "line": {
          "color": "blue"
         },
         "mode": "lines",
         "name": "Date 2023-06-26 Hour 18",
         "type": "scatter",
         "x": [
          0,
          45,
          45,
          90,
          90
         ],
         "y": [
          -5,
          -5,
          1000,
          1000,
          1000
         ]
        },
        {
         "line": {
          "color": "blue"
         },
         "mode": "lines",
         "name": "Date 2023-06-27 Hour 18",
         "type": "scatter",
         "x": [
          0,
          45,
          45,
          90,
          90
         ],
         "y": [
          -5,
          -5,
          1000,
          1000,
          1000
         ]
        },
        {
         "line": {
          "color": "blue"
         },
         "mode": "lines",
         "name": "Date 2023-06-28 Hour 18",
         "type": "scatter",
         "x": [
          0,
          45,
          45,
          90,
          90
         ],
         "y": [
          -5,
          -5,
          1000,
          1000,
          1000
         ]
        },
        {
         "line": {
          "color": "green"
         },
         "mode": "lines",
         "name": "Date 2023-06-29 Hour 18",
         "type": "scatter",
         "x": [
          0,
          90,
          90
         ],
         "y": [
          1000,
          1000,
          1000
         ]
        },
        {
         "line": {
          "color": "blue"
         },
         "mode": "lines",
         "name": "Date 2023-06-30 Hour 18",
         "type": "scatter",
         "x": [
          0,
          45,
          45,
          90,
          90
         ],
         "y": [
          40,
          40,
          1000,
          1000,
          1000
         ]
        },
        {
         "line": {
          "color": "green"
         },
         "mode": "lines",
         "name": "Date 2023-07-01 Hour 18",
         "type": "scatter",
         "x": [
          0,
          1,
          1,
          40,
          40
         ],
         "y": [
          999.99,
          999.99,
          1000,
          1000,
          1000
         ]
        },
        {
         "line": {
          "color": "blue"
         },
         "mode": "lines",
         "name": "Date 2023-07-02 Hour 18",
         "type": "scatter",
         "x": [
          0,
          25,
          25,
          40,
          40
         ],
         "y": [
          100,
          100,
          1000,
          1000,
          1000
         ]
        },
        {
         "line": {
          "color": "green"
         },
         "mode": "lines",
         "name": "Date 2023-07-03 Hour 18",
         "type": "scatter",
         "x": [
          0,
          40,
          40
         ],
         "y": [
          1000,
          1000,
          1000
         ]
        },
        {
         "line": {
          "color": "green"
         },
         "mode": "lines",
         "name": "Date 2023-07-04 Hour 18",
         "type": "scatter",
         "x": [
          0,
          1,
          1,
          40,
          40
         ],
         "y": [
          999.99,
          999.99,
          1000,
          1000,
          1000
         ]
        },
        {
         "line": {
          "color": "green"
         },
         "mode": "lines",
         "name": "Date 2023-07-05 Hour 18",
         "type": "scatter",
         "x": [
          0,
          1,
          1,
          40,
          40
         ],
         "y": [
          999.99,
          999.99,
          1000,
          1000,
          1000
         ]
        },
        {
         "line": {
          "color": "green"
         },
         "mode": "lines",
         "name": "Date 2023-07-06 Hour 18",
         "type": "scatter",
         "x": [
          0,
          1,
          1,
          40,
          40
         ],
         "y": [
          999.99,
          999.99,
          1000,
          1000,
          1000
         ]
        },
        {
         "line": {
          "color": "green"
         },
         "mode": "lines",
         "name": "Date 2023-07-07 Hour 18",
         "type": "scatter",
         "x": [
          0,
          1,
          1,
          40,
          40
         ],
         "y": [
          999.99,
          999.99,
          1000,
          1000,
          1000
         ]
        },
        {
         "line": {
          "color": "green"
         },
         "mode": "lines",
         "name": "Date 2023-07-08 Hour 18",
         "type": "scatter",
         "x": [
          0,
          1,
          1,
          40,
          40
         ],
         "y": [
          999.99,
          999.99,
          1000,
          1000,
          1000
         ]
        },
        {
         "line": {
          "color": "green"
         },
         "mode": "lines",
         "name": "Date 2023-07-09 Hour 18",
         "type": "scatter",
         "x": [
          0,
          1,
          1,
          40,
          40
         ],
         "y": [
          999.99,
          999.99,
          1000,
          1000,
          1000
         ]
        },
        {
         "line": {
          "color": "green"
         },
         "mode": "lines",
         "name": "Date 2023-07-10 Hour 18",
         "type": "scatter",
         "x": [
          0,
          1,
          1,
          40,
          40
         ],
         "y": [
          999.99,
          999.99,
          1000,
          1000,
          1000
         ]
        },
        {
         "line": {
          "color": "green"
         },
         "mode": "lines",
         "name": "Date 2023-07-11 Hour 18",
         "type": "scatter",
         "x": [
          0,
          1,
          1,
          40,
          40
         ],
         "y": [
          999.99,
          999.99,
          1000,
          1000,
          1000
         ]
        },
        {
         "line": {
          "color": "green"
         },
         "mode": "lines",
         "name": "Date 2023-07-12 Hour 18",
         "type": "scatter",
         "x": [
          0,
          1,
          1,
          40,
          40
         ],
         "y": [
          999.99,
          999.99,
          1000,
          1000,
          1000
         ]
        },
        {
         "line": {
          "color": "green"
         },
         "mode": "lines",
         "name": "Date 2023-07-13 Hour 18",
         "type": "scatter",
         "x": [
          0,
          1,
          1,
          40,
          40
         ],
         "y": [
          999.99,
          999.99,
          1000,
          1000,
          1000
         ]
        },
        {
         "line": {
          "color": "red"
         },
         "mode": "lines",
         "name": "Date 2023-07-14 Hour 18",
         "type": "scatter",
         "x": [
          0,
          45,
          45
         ],
         "y": [
          80,
          80,
          80
         ]
        },
        {
         "line": {
          "color": "red"
         },
         "mode": "lines",
         "name": "Date 2023-07-15 Hour 18",
         "type": "scatter",
         "x": [
          0,
          45,
          45
         ],
         "y": [
          80,
          80,
          80
         ]
        },
        {
         "line": {
          "color": "red"
         },
         "mode": "lines",
         "name": "Date 2023-07-16 Hour 18",
         "type": "scatter",
         "x": [
          0,
          45,
          45
         ],
         "y": [
          80,
          80,
          80
         ]
        },
        {
         "line": {
          "color": "red"
         },
         "mode": "lines",
         "name": "Date 2023-07-17 Hour 18",
         "type": "scatter",
         "x": [
          0,
          45,
          45
         ],
         "y": [
          80,
          80,
          80
         ]
        },
        {
         "line": {
          "color": "green"
         },
         "mode": "lines",
         "name": "Date 2023-07-18 Hour 18",
         "type": "scatter",
         "x": [
          0,
          1,
          1,
          40,
          40
         ],
         "y": [
          999.99,
          999.99,
          1000,
          1000,
          1000
         ]
        },
        {
         "line": {
          "color": "red"
         },
         "mode": "lines",
         "name": "Date 2023-07-19 Hour 18",
         "type": "scatter",
         "x": [
          0,
          50,
          50
         ],
         "y": [
          77,
          77,
          77
         ]
        },
        {
         "line": {
          "color": "red"
         },
         "mode": "lines",
         "name": "Date 2023-07-20 Hour 18",
         "type": "scatter",
         "x": [
          0,
          25,
          25,
          50,
          50
         ],
         "y": [
          150,
          150,
          250,
          250,
          250
         ]
        },
        {
         "line": {
          "color": "green"
         },
         "mode": "lines",
         "name": "Date 2023-07-21 Hour 18",
         "type": "scatter",
         "x": [
          0,
          1,
          1,
          40,
          40
         ],
         "y": [
          999.99,
          999.99,
          1000,
          1000,
          1000
         ]
        },
        {
         "line": {
          "color": "red"
         },
         "mode": "lines",
         "name": "Date 2023-07-22 Hour 18",
         "type": "scatter",
         "x": [
          0,
          25,
          25,
          50,
          50
         ],
         "y": [
          100,
          100,
          150,
          150,
          150
         ]
        },
        {
         "line": {
          "color": "green"
         },
         "mode": "lines",
         "name": "Date 2023-07-23 Hour 18",
         "type": "scatter",
         "x": [
          0,
          1,
          1,
          40,
          40
         ],
         "y": [
          999.99,
          999.99,
          1000,
          1000,
          1000
         ]
        },
        {
         "line": {
          "color": "green"
         },
         "mode": "lines",
         "name": "Date 2023-07-24 Hour 18",
         "type": "scatter",
         "x": [
          0,
          1,
          1,
          40,
          40
         ],
         "y": [
          999.99,
          999.99,
          1000,
          1000,
          1000
         ]
        },
        {
         "line": {
          "color": "green"
         },
         "mode": "lines",
         "name": "Date 2023-07-25 Hour 18",
         "type": "scatter",
         "x": [
          0,
          1,
          1,
          40,
          40
         ],
         "y": [
          999.99,
          999.99,
          1000,
          1000,
          1000
         ]
        },
        {
         "line": {
          "color": "green"
         },
         "mode": "lines",
         "name": "Date 2023-07-26 Hour 18",
         "type": "scatter",
         "x": [
          0,
          1,
          1,
          40,
          40
         ],
         "y": [
          999.99,
          999.99,
          1000,
          1000,
          1000
         ]
        },
        {
         "line": {
          "color": "red"
         },
         "mode": "lines",
         "name": "Date 2023-07-27 Hour 18",
         "type": "scatter",
         "x": [
          0,
          25,
          25,
          50,
          50
         ],
         "y": [
          175,
          175,
          250,
          250,
          250
         ]
        },
        {
         "line": {
          "color": "green"
         },
         "mode": "lines",
         "name": "Date 2023-07-28 Hour 18",
         "type": "scatter",
         "x": [
          0,
          1,
          1,
          40,
          40
         ],
         "y": [
          999.99,
          999.99,
          1000,
          1000,
          1000
         ]
        },
        {
         "line": {
          "color": "red"
         },
         "mode": "lines",
         "name": "Date 2023-07-29 Hour 18",
         "type": "scatter",
         "x": [
          0,
          25,
          25,
          50,
          50
         ],
         "y": [
          150,
          150,
          200,
          200,
          200
         ]
        },
        {
         "line": {
          "color": "green"
         },
         "mode": "lines",
         "name": "Date 2023-07-30 Hour 18",
         "type": "scatter",
         "x": [
          0,
          1,
          1,
          40,
          40
         ],
         "y": [
          999.99,
          999.99,
          1000,
          1000,
          1000
         ]
        },
        {
         "line": {
          "color": "green"
         },
         "mode": "lines",
         "name": "Date 2023-07-31 Hour 18",
         "type": "scatter",
         "x": [
          0,
          1,
          1,
          40,
          40
         ],
         "y": [
          999.99,
          999.99,
          1000,
          1000,
          1000
         ]
        },
        {
         "line": {
          "color": "green"
         },
         "mode": "lines",
         "name": "Date 2023-08-01 Hour 18",
         "type": "scatter",
         "x": [
          0,
          1,
          1,
          107,
          107
         ],
         "y": [
          998.99,
          998.99,
          999,
          999,
          999
         ]
        },
        {
         "line": {
          "color": "blue"
         },
         "mode": "lines",
         "name": "Date 2023-08-02 Hour 18",
         "type": "scatter",
         "x": [
          0,
          25,
          25,
          90,
          90,
          106.92,
          106.92
         ],
         "y": [
          100,
          100,
          115,
          115,
          1000,
          1000,
          1000
         ]
        },
        {
         "line": {
          "color": "blue"
         },
         "mode": "lines",
         "name": "Date 2023-08-03 Hour 18",
         "type": "scatter",
         "x": [
          0,
          90,
          90,
          106.92,
          106.92
         ],
         "y": [
          115,
          115,
          1000,
          1000,
          1000
         ]
        },
        {
         "line": {
          "color": "blue"
         },
         "mode": "lines",
         "name": "Date 2023-08-04 Hour 18",
         "type": "scatter",
         "x": [
          0,
          90,
          90,
          106.92,
          106.92
         ],
         "y": [
          80,
          80,
          1000,
          1000,
          1000
         ]
        },
        {
         "line": {
          "color": "blue"
         },
         "mode": "lines",
         "name": "Date 2023-08-05 Hour 18",
         "type": "scatter",
         "x": [
          0,
          90,
          90,
          106.92,
          106.92
         ],
         "y": [
          80,
          80,
          1000,
          1000,
          1000
         ]
        },
        {
         "line": {
          "color": "blue"
         },
         "mode": "lines",
         "name": "Date 2023-08-06 Hour 18",
         "type": "scatter",
         "x": [
          0,
          90,
          90,
          106.92,
          106.92
         ],
         "y": [
          90,
          90,
          1000,
          1000,
          1000
         ]
        },
        {
         "line": {
          "color": "blue"
         },
         "mode": "lines",
         "name": "Date 2023-08-07 Hour 18",
         "type": "scatter",
         "x": [
          0,
          90,
          90,
          106.92,
          106.92
         ],
         "y": [
          100,
          100,
          1000,
          1000,
          1000
         ]
        },
        {
         "line": {
          "color": "blue"
         },
         "mode": "lines",
         "name": "Date 2023-08-10 Hour 18",
         "type": "scatter",
         "x": [
          0,
          50,
          50,
          106.92,
          106.92
         ],
         "y": [
          60,
          60,
          1000,
          1000,
          1000
         ]
        },
        {
         "line": {
          "color": "green"
         },
         "mode": "lines",
         "name": "Date 2023-08-11 Hour 18",
         "type": "scatter",
         "x": [
          0,
          1,
          1,
          107,
          107
         ],
         "y": [
          998.99,
          998.99,
          999,
          999,
          999
         ]
        },
        {
         "line": {
          "color": "blue"
         },
         "mode": "lines",
         "name": "Date 2023-08-12 Hour 18",
         "type": "scatter",
         "x": [
          0,
          50,
          50,
          106.92,
          106.92
         ],
         "y": [
          60,
          60,
          1000,
          1000,
          1000
         ]
        },
        {
         "line": {
          "color": "blue"
         },
         "mode": "lines",
         "name": "Date 2023-08-13 Hour 18",
         "type": "scatter",
         "x": [
          0,
          75,
          75,
          106.92,
          106.92
         ],
         "y": [
          75,
          75,
          1000,
          1000,
          1000
         ]
        },
        {
         "line": {
          "color": "blue"
         },
         "mode": "lines",
         "name": "Date 2023-08-14 Hour 18",
         "type": "scatter",
         "x": [
          0,
          75,
          75,
          106.92,
          106.92
         ],
         "y": [
          75,
          75,
          1000,
          1000,
          1000
         ]
        },
        {
         "line": {
          "color": "green"
         },
         "mode": "lines",
         "name": "Date 2023-08-15 Hour 18",
         "type": "scatter",
         "x": [
          0,
          60,
          60,
          106.92,
          106.92
         ],
         "y": [
          550,
          550,
          1000,
          1000,
          1000
         ]
        },
        {
         "line": {
          "color": "green"
         },
         "mode": "lines",
         "name": "Date 2023-08-16 Hour 18",
         "type": "scatter",
         "x": [
          0,
          50,
          50,
          80,
          80,
          106.92,
          106.92
         ],
         "y": [
          900,
          900,
          999,
          999,
          1000,
          1000,
          1000
         ]
        },
        {
         "line": {
          "color": "green"
         },
         "mode": "lines",
         "name": "Date 2023-08-17 Hour 18",
         "type": "scatter",
         "x": [
          0,
          1,
          1,
          107,
          107
         ],
         "y": [
          998.99,
          998.99,
          999,
          999,
          999
         ]
        },
        {
         "line": {
          "color": "green"
         },
         "mode": "lines",
         "name": "Date 2023-08-18 Hour 18",
         "type": "scatter",
         "x": [
          0,
          1,
          1,
          107,
          107
         ],
         "y": [
          998.99,
          998.99,
          999,
          999,
          999
         ]
        },
        {
         "line": {
          "color": "green"
         },
         "mode": "lines",
         "name": "Date 2023-08-19 Hour 18",
         "type": "scatter",
         "x": [
          0,
          1,
          1,
          107,
          107
         ],
         "y": [
          998.99,
          998.99,
          999,
          999,
          999
         ]
        },
        {
         "line": {
          "color": "green"
         },
         "mode": "lines",
         "name": "Date 2023-08-20 Hour 18",
         "type": "scatter",
         "x": [
          0,
          1,
          1,
          107,
          107
         ],
         "y": [
          998.99,
          998.99,
          999,
          999,
          999
         ]
        },
        {
         "line": {
          "color": "green"
         },
         "mode": "lines",
         "name": "Date 2023-08-21 Hour 18",
         "type": "scatter",
         "x": [
          0,
          1,
          1,
          107,
          107
         ],
         "y": [
          998.99,
          998.99,
          999,
          999,
          999
         ]
        },
        {
         "line": {
          "color": "blue"
         },
         "mode": "lines",
         "name": "Date 2023-08-22 Hour 18",
         "type": "scatter",
         "x": [
          0,
          75,
          75,
          106.92,
          106.92
         ],
         "y": [
          65,
          65,
          1000,
          1000,
          1000
         ]
        },
        {
         "line": {
          "color": "blue"
         },
         "mode": "lines",
         "name": "Date 2023-08-23 Hour 18",
         "type": "scatter",
         "x": [
          0,
          50,
          50,
          106.92,
          106.92
         ],
         "y": [
          50,
          50,
          1000,
          1000,
          1000
         ]
        },
        {
         "line": {
          "color": "blue"
         },
         "mode": "lines",
         "name": "Date 2023-08-24 Hour 18",
         "type": "scatter",
         "x": [
          0,
          50,
          50,
          106.92,
          106.92
         ],
         "y": [
          55,
          55,
          1000,
          1000,
          1000
         ]
        },
        {
         "line": {
          "color": "blue"
         },
         "mode": "lines",
         "name": "Date 2023-08-25 Hour 18",
         "type": "scatter",
         "x": [
          0,
          50,
          50,
          106.92,
          106.92
         ],
         "y": [
          60,
          60,
          1000,
          1000,
          1000
         ]
        },
        {
         "line": {
          "color": "blue"
         },
         "mode": "lines",
         "name": "Date 2023-08-26 Hour 18",
         "type": "scatter",
         "x": [
          0,
          50,
          50,
          106.92,
          106.92
         ],
         "y": [
          60,
          60,
          1000,
          1000,
          1000
         ]
        },
        {
         "line": {
          "color": "blue"
         },
         "mode": "lines",
         "name": "Date 2023-08-27 Hour 18",
         "type": "scatter",
         "x": [
          0,
          75,
          75,
          106.92,
          106.92
         ],
         "y": [
          80,
          80,
          1000,
          1000,
          1000
         ]
        },
        {
         "line": {
          "color": "blue"
         },
         "mode": "lines",
         "name": "Date 2023-08-28 Hour 18",
         "type": "scatter",
         "x": [
          0,
          50,
          50,
          75,
          75,
          106.9,
          106.9
         ],
         "y": [
          80,
          80,
          300,
          300,
          1000,
          1000,
          1000
         ]
        },
        {
         "line": {
          "color": "blue"
         },
         "mode": "lines",
         "name": "Date 2023-08-29 Hour 18",
         "type": "scatter",
         "x": [
          0,
          50,
          50,
          75,
          75,
          106.9,
          106.9
         ],
         "y": [
          475,
          475,
          650,
          650,
          1000,
          1000,
          1000
         ]
        },
        {
         "line": {
          "color": "blue"
         },
         "mode": "lines",
         "name": "Date 2023-08-30 Hour 18",
         "type": "scatter",
         "x": [
          0,
          50,
          50,
          75,
          75,
          106.9,
          106.9
         ],
         "y": [
          100,
          100,
          150,
          150,
          1000,
          1000,
          1000
         ]
        },
        {
         "line": {
          "color": "blue"
         },
         "mode": "lines",
         "name": "Date 2023-08-31 Hour 18",
         "type": "scatter",
         "x": [
          0,
          75,
          75,
          106.9,
          106.9
         ],
         "y": [
          85,
          85,
          1000,
          1000,
          1000
         ]
        },
        {
         "line": {
          "color": "green"
         },
         "mode": "lines",
         "name": "Date 2023-09-01 Hour 18",
         "type": "scatter",
         "x": [
          0,
          1,
          1,
          104,
          104
         ],
         "y": [
          998.99,
          998.99,
          999,
          999,
          999
         ]
        },
        {
         "line": {
          "color": "green"
         },
         "mode": "lines",
         "name": "Date 2023-09-02 Hour 18",
         "type": "scatter",
         "x": [
          0,
          1,
          1,
          104,
          104
         ],
         "y": [
          998.99,
          998.99,
          999,
          999,
          999
         ]
        },
        {
         "line": {
          "color": "green"
         },
         "mode": "lines",
         "name": "Date 2023-09-03 Hour 18",
         "type": "scatter",
         "x": [
          0,
          1,
          1,
          104,
          104
         ],
         "y": [
          998.99,
          998.99,
          999,
          999,
          999
         ]
        },
        {
         "line": {
          "color": "green"
         },
         "mode": "lines",
         "name": "Date 2023-09-04 Hour 18",
         "type": "scatter",
         "x": [
          0,
          1,
          1,
          104,
          104
         ],
         "y": [
          998.99,
          998.99,
          999,
          999,
          999
         ]
        },
        {
         "line": {
          "color": "green"
         },
         "mode": "lines",
         "name": "Date 2023-09-05 Hour 18",
         "type": "scatter",
         "x": [
          0,
          1,
          1,
          104,
          104
         ],
         "y": [
          998.99,
          998.99,
          999,
          999,
          999
         ]
        }
       ],
       "layout": {
        "scene": {
         "xaxis": {
          "title": {
           "text": "MW (Megawatts)"
          }
         },
         "yaxis": {
          "title": {
           "text": "Price ($)"
          }
         }
        },
        "template": {
         "data": {
          "bar": [
           {
            "error_x": {
             "color": "#2a3f5f"
            },
            "error_y": {
             "color": "#2a3f5f"
            },
            "marker": {
             "line": {
              "color": "#E5ECF6",
              "width": 0.5
             },
             "pattern": {
              "fillmode": "overlay",
              "size": 10,
              "solidity": 0.2
             }
            },
            "type": "bar"
           }
          ],
          "barpolar": [
           {
            "marker": {
             "line": {
              "color": "#E5ECF6",
              "width": 0.5
             },
             "pattern": {
              "fillmode": "overlay",
              "size": 10,
              "solidity": 0.2
             }
            },
            "type": "barpolar"
           }
          ],
          "carpet": [
           {
            "aaxis": {
             "endlinecolor": "#2a3f5f",
             "gridcolor": "white",
             "linecolor": "white",
             "minorgridcolor": "white",
             "startlinecolor": "#2a3f5f"
            },
            "baxis": {
             "endlinecolor": "#2a3f5f",
             "gridcolor": "white",
             "linecolor": "white",
             "minorgridcolor": "white",
             "startlinecolor": "#2a3f5f"
            },
            "type": "carpet"
           }
          ],
          "choropleth": [
           {
            "colorbar": {
             "outlinewidth": 0,
             "ticks": ""
            },
            "type": "choropleth"
           }
          ],
          "contour": [
           {
            "colorbar": {
             "outlinewidth": 0,
             "ticks": ""
            },
            "colorscale": [
             [
              0,
              "#0d0887"
             ],
             [
              0.1111111111111111,
              "#46039f"
             ],
             [
              0.2222222222222222,
              "#7201a8"
             ],
             [
              0.3333333333333333,
              "#9c179e"
             ],
             [
              0.4444444444444444,
              "#bd3786"
             ],
             [
              0.5555555555555556,
              "#d8576b"
             ],
             [
              0.6666666666666666,
              "#ed7953"
             ],
             [
              0.7777777777777778,
              "#fb9f3a"
             ],
             [
              0.8888888888888888,
              "#fdca26"
             ],
             [
              1,
              "#f0f921"
             ]
            ],
            "type": "contour"
           }
          ],
          "contourcarpet": [
           {
            "colorbar": {
             "outlinewidth": 0,
             "ticks": ""
            },
            "type": "contourcarpet"
           }
          ],
          "heatmap": [
           {
            "colorbar": {
             "outlinewidth": 0,
             "ticks": ""
            },
            "colorscale": [
             [
              0,
              "#0d0887"
             ],
             [
              0.1111111111111111,
              "#46039f"
             ],
             [
              0.2222222222222222,
              "#7201a8"
             ],
             [
              0.3333333333333333,
              "#9c179e"
             ],
             [
              0.4444444444444444,
              "#bd3786"
             ],
             [
              0.5555555555555556,
              "#d8576b"
             ],
             [
              0.6666666666666666,
              "#ed7953"
             ],
             [
              0.7777777777777778,
              "#fb9f3a"
             ],
             [
              0.8888888888888888,
              "#fdca26"
             ],
             [
              1,
              "#f0f921"
             ]
            ],
            "type": "heatmap"
           }
          ],
          "heatmapgl": [
           {
            "colorbar": {
             "outlinewidth": 0,
             "ticks": ""
            },
            "colorscale": [
             [
              0,
              "#0d0887"
             ],
             [
              0.1111111111111111,
              "#46039f"
             ],
             [
              0.2222222222222222,
              "#7201a8"
             ],
             [
              0.3333333333333333,
              "#9c179e"
             ],
             [
              0.4444444444444444,
              "#bd3786"
             ],
             [
              0.5555555555555556,
              "#d8576b"
             ],
             [
              0.6666666666666666,
              "#ed7953"
             ],
             [
              0.7777777777777778,
              "#fb9f3a"
             ],
             [
              0.8888888888888888,
              "#fdca26"
             ],
             [
              1,
              "#f0f921"
             ]
            ],
            "type": "heatmapgl"
           }
          ],
          "histogram": [
           {
            "marker": {
             "pattern": {
              "fillmode": "overlay",
              "size": 10,
              "solidity": 0.2
             }
            },
            "type": "histogram"
           }
          ],
          "histogram2d": [
           {
            "colorbar": {
             "outlinewidth": 0,
             "ticks": ""
            },
            "colorscale": [
             [
              0,
              "#0d0887"
             ],
             [
              0.1111111111111111,
              "#46039f"
             ],
             [
              0.2222222222222222,
              "#7201a8"
             ],
             [
              0.3333333333333333,
              "#9c179e"
             ],
             [
              0.4444444444444444,
              "#bd3786"
             ],
             [
              0.5555555555555556,
              "#d8576b"
             ],
             [
              0.6666666666666666,
              "#ed7953"
             ],
             [
              0.7777777777777778,
              "#fb9f3a"
             ],
             [
              0.8888888888888888,
              "#fdca26"
             ],
             [
              1,
              "#f0f921"
             ]
            ],
            "type": "histogram2d"
           }
          ],
          "histogram2dcontour": [
           {
            "colorbar": {
             "outlinewidth": 0,
             "ticks": ""
            },
            "colorscale": [
             [
              0,
              "#0d0887"
             ],
             [
              0.1111111111111111,
              "#46039f"
             ],
             [
              0.2222222222222222,
              "#7201a8"
             ],
             [
              0.3333333333333333,
              "#9c179e"
             ],
             [
              0.4444444444444444,
              "#bd3786"
             ],
             [
              0.5555555555555556,
              "#d8576b"
             ],
             [
              0.6666666666666666,
              "#ed7953"
             ],
             [
              0.7777777777777778,
              "#fb9f3a"
             ],
             [
              0.8888888888888888,
              "#fdca26"
             ],
             [
              1,
              "#f0f921"
             ]
            ],
            "type": "histogram2dcontour"
           }
          ],
          "mesh3d": [
           {
            "colorbar": {
             "outlinewidth": 0,
             "ticks": ""
            },
            "type": "mesh3d"
           }
          ],
          "parcoords": [
           {
            "line": {
             "colorbar": {
              "outlinewidth": 0,
              "ticks": ""
             }
            },
            "type": "parcoords"
           }
          ],
          "pie": [
           {
            "automargin": true,
            "type": "pie"
           }
          ],
          "scatter": [
           {
            "fillpattern": {
             "fillmode": "overlay",
             "size": 10,
             "solidity": 0.2
            },
            "type": "scatter"
           }
          ],
          "scatter3d": [
           {
            "line": {
             "colorbar": {
              "outlinewidth": 0,
              "ticks": ""
             }
            },
            "marker": {
             "colorbar": {
              "outlinewidth": 0,
              "ticks": ""
             }
            },
            "type": "scatter3d"
           }
          ],
          "scattercarpet": [
           {
            "marker": {
             "colorbar": {
              "outlinewidth": 0,
              "ticks": ""
             }
            },
            "type": "scattercarpet"
           }
          ],
          "scattergeo": [
           {
            "marker": {
             "colorbar": {
              "outlinewidth": 0,
              "ticks": ""
             }
            },
            "type": "scattergeo"
           }
          ],
          "scattergl": [
           {
            "marker": {
             "colorbar": {
              "outlinewidth": 0,
              "ticks": ""
             }
            },
            "type": "scattergl"
           }
          ],
          "scattermapbox": [
           {
            "marker": {
             "colorbar": {
              "outlinewidth": 0,
              "ticks": ""
             }
            },
            "type": "scattermapbox"
           }
          ],
          "scatterpolar": [
           {
            "marker": {
             "colorbar": {
              "outlinewidth": 0,
              "ticks": ""
             }
            },
            "type": "scatterpolar"
           }
          ],
          "scatterpolargl": [
           {
            "marker": {
             "colorbar": {
              "outlinewidth": 0,
              "ticks": ""
             }
            },
            "type": "scatterpolargl"
           }
          ],
          "scatterternary": [
           {
            "marker": {
             "colorbar": {
              "outlinewidth": 0,
              "ticks": ""
             }
            },
            "type": "scatterternary"
           }
          ],
          "surface": [
           {
            "colorbar": {
             "outlinewidth": 0,
             "ticks": ""
            },
            "colorscale": [
             [
              0,
              "#0d0887"
             ],
             [
              0.1111111111111111,
              "#46039f"
             ],
             [
              0.2222222222222222,
              "#7201a8"
             ],
             [
              0.3333333333333333,
              "#9c179e"
             ],
             [
              0.4444444444444444,
              "#bd3786"
             ],
             [
              0.5555555555555556,
              "#d8576b"
             ],
             [
              0.6666666666666666,
              "#ed7953"
             ],
             [
              0.7777777777777778,
              "#fb9f3a"
             ],
             [
              0.8888888888888888,
              "#fdca26"
             ],
             [
              1,
              "#f0f921"
             ]
            ],
            "type": "surface"
           }
          ],
          "table": [
           {
            "cells": {
             "fill": {
              "color": "#EBF0F8"
             },
             "line": {
              "color": "white"
             }
            },
            "header": {
             "fill": {
              "color": "#C8D4E3"
             },
             "line": {
              "color": "white"
             }
            },
            "type": "table"
           }
          ]
         },
         "layout": {
          "annotationdefaults": {
           "arrowcolor": "#2a3f5f",
           "arrowhead": 0,
           "arrowwidth": 1
          },
          "autotypenumbers": "strict",
          "coloraxis": {
           "colorbar": {
            "outlinewidth": 0,
            "ticks": ""
           }
          },
          "colorscale": {
           "diverging": [
            [
             0,
             "#8e0152"
            ],
            [
             0.1,
             "#c51b7d"
            ],
            [
             0.2,
             "#de77ae"
            ],
            [
             0.3,
             "#f1b6da"
            ],
            [
             0.4,
             "#fde0ef"
            ],
            [
             0.5,
             "#f7f7f7"
            ],
            [
             0.6,
             "#e6f5d0"
            ],
            [
             0.7,
             "#b8e186"
            ],
            [
             0.8,
             "#7fbc41"
            ],
            [
             0.9,
             "#4d9221"
            ],
            [
             1,
             "#276419"
            ]
           ],
           "sequential": [
            [
             0,
             "#0d0887"
            ],
            [
             0.1111111111111111,
             "#46039f"
            ],
            [
             0.2222222222222222,
             "#7201a8"
            ],
            [
             0.3333333333333333,
             "#9c179e"
            ],
            [
             0.4444444444444444,
             "#bd3786"
            ],
            [
             0.5555555555555556,
             "#d8576b"
            ],
            [
             0.6666666666666666,
             "#ed7953"
            ],
            [
             0.7777777777777778,
             "#fb9f3a"
            ],
            [
             0.8888888888888888,
             "#fdca26"
            ],
            [
             1,
             "#f0f921"
            ]
           ],
           "sequentialminus": [
            [
             0,
             "#0d0887"
            ],
            [
             0.1111111111111111,
             "#46039f"
            ],
            [
             0.2222222222222222,
             "#7201a8"
            ],
            [
             0.3333333333333333,
             "#9c179e"
            ],
            [
             0.4444444444444444,
             "#bd3786"
            ],
            [
             0.5555555555555556,
             "#d8576b"
            ],
            [
             0.6666666666666666,
             "#ed7953"
            ],
            [
             0.7777777777777778,
             "#fb9f3a"
            ],
            [
             0.8888888888888888,
             "#fdca26"
            ],
            [
             1,
             "#f0f921"
            ]
           ]
          },
          "colorway": [
           "#636efa",
           "#EF553B",
           "#00cc96",
           "#ab63fa",
           "#FFA15A",
           "#19d3f3",
           "#FF6692",
           "#B6E880",
           "#FF97FF",
           "#FECB52"
          ],
          "font": {
           "color": "#2a3f5f"
          },
          "geo": {
           "bgcolor": "white",
           "lakecolor": "white",
           "landcolor": "#E5ECF6",
           "showlakes": true,
           "showland": true,
           "subunitcolor": "white"
          },
          "hoverlabel": {
           "align": "left"
          },
          "hovermode": "closest",
          "mapbox": {
           "style": "light"
          },
          "paper_bgcolor": "white",
          "plot_bgcolor": "#E5ECF6",
          "polar": {
           "angularaxis": {
            "gridcolor": "white",
            "linecolor": "white",
            "ticks": ""
           },
           "bgcolor": "#E5ECF6",
           "radialaxis": {
            "gridcolor": "white",
            "linecolor": "white",
            "ticks": ""
           }
          },
          "scene": {
           "xaxis": {
            "backgroundcolor": "#E5ECF6",
            "gridcolor": "white",
            "gridwidth": 2,
            "linecolor": "white",
            "showbackground": true,
            "ticks": "",
            "zerolinecolor": "white"
           },
           "yaxis": {
            "backgroundcolor": "#E5ECF6",
            "gridcolor": "white",
            "gridwidth": 2,
            "linecolor": "white",
            "showbackground": true,
            "ticks": "",
            "zerolinecolor": "white"
           },
           "zaxis": {
            "backgroundcolor": "#E5ECF6",
            "gridcolor": "white",
            "gridwidth": 2,
            "linecolor": "white",
            "showbackground": true,
            "ticks": "",
            "zerolinecolor": "white"
           }
          },
          "shapedefaults": {
           "line": {
            "color": "#2a3f5f"
           }
          },
          "ternary": {
           "aaxis": {
            "gridcolor": "white",
            "linecolor": "white",
            "ticks": ""
           },
           "baxis": {
            "gridcolor": "white",
            "linecolor": "white",
            "ticks": ""
           },
           "bgcolor": "#E5ECF6",
           "caxis": {
            "gridcolor": "white",
            "linecolor": "white",
            "ticks": ""
           }
          },
          "title": {
           "x": 0.05
          },
          "xaxis": {
           "automargin": true,
           "gridcolor": "white",
           "linecolor": "white",
           "ticks": "",
           "title": {
            "standoff": 15
           },
           "zerolinecolor": "white",
           "zerolinewidth": 2
          },
          "yaxis": {
           "automargin": true,
           "gridcolor": "white",
           "linecolor": "white",
           "ticks": "",
           "title": {
            "standoff": 15
           },
           "zerolinecolor": "white",
           "zerolinewidth": 2
          }
         }
        },
        "title": {
         "text": "bidding curve for resource id = 100651 from 2023-03-13 to 2023-09-05, at hour 18"
        }
       }
      }
     },
     "metadata": {},
     "output_type": "display_data"
    }
   ],
   "source": [
    "from draw_bid_curve import draw_bid_curves_for_multiple_days_2d\n",
    "draw_bid_curves_for_multiple_days_2d(df_train, HOUR, cluster_labels)"
   ]
  },
  {
   "cell_type": "markdown",
   "metadata": {},
   "source": [
    "# Check if there is difference in clustering w & w/o using PCA (Remains to be finished...)"
   ]
  },
  {
   "cell_type": "markdown",
   "metadata": {},
   "source": []
  },
  {
   "cell_type": "markdown",
   "metadata": {},
   "source": [
    "## Testing"
   ]
  },
  {
   "cell_type": "code",
   "execution_count": 22,
   "metadata": {},
   "outputs": [
    {
     "name": "stdout",
     "output_type": "stream",
     "text": [
      "=====================================================\n",
      "size of data is: (1244549, 22)\n",
      "=====================================================\n",
      "type of each column is:\n",
      "STARTTIME                                object\n",
      "STOPTIME                                 object\n",
      "RESOURCE_TYPE                            object\n",
      "SCHEDULINGCOORDINATOR_SEQ                 int64\n",
      "RESOURCEBID_SEQ                           int64\n",
      "TIMEINTERVALSTART                        object\n",
      "TIMEINTERVALEND                          object\n",
      "PRODUCTBID_DESC                         float64\n",
      "PRODUCTBID_MRID                         float64\n",
      "MARKETPRODUCT_DESC                      float64\n",
      "MARKETPRODUCTTYPE                        object\n",
      "SELFSCHEDMW                             float64\n",
      "SCH_BID_TIMEINTERVALSTART        datetime64[ns]\n",
      "SCH_BID_TIMEINTERVALSTOP         datetime64[ns]\n",
      "SCH_BID_TIMEINTERVALSTART_GMT            object\n",
      "SCH_BID_TIMEINTERVALSTOP_GMT             object\n",
      "SCH_BID_XAXISDATA                       float64\n",
      "SCH_BID_Y1AXISDATA                      float64\n",
      "SCH_BID_Y2AXISDATA                      float64\n",
      "SCH_BID_CURVETYPE                        object\n",
      "MINEOHSTATEOFCHARGE                     float64\n",
      "MAXEOHSTATEOFCHARGE                     float64\n",
      "dtype: object\n",
      "=====================================================\n",
      "Statistics in data:\n",
      "        SCHEDULINGCOORDINATOR_SEQ  RESOURCEBID_SEQ  PRODUCTBID_DESC  \\\n",
      "count               1.244549e+06     1.244549e+06              0.0   \n",
      "mean                4.050901e+05     4.276710e+05              NaN   \n",
      "min                 1.042980e+05     1.002320e+05              NaN   \n",
      "25%                 1.874960e+05     1.666000e+05              NaN   \n",
      "50%                 4.174540e+05     3.271420e+05              NaN   \n",
      "75%                 6.212000e+05     6.935430e+05              NaN   \n",
      "max                 9.879900e+05     9.989640e+05              NaN   \n",
      "std                 2.347220e+05     2.913479e+05              NaN   \n",
      "\n",
      "       PRODUCTBID_MRID  MARKETPRODUCT_DESC    SELFSCHEDMW  \\\n",
      "count              0.0                 0.0  159726.000000   \n",
      "mean               NaN                 NaN      29.673578   \n",
      "min                NaN                 NaN    -230.000000   \n",
      "25%                NaN                 NaN       0.570000   \n",
      "50%                NaN                 NaN       1.800000   \n",
      "75%                NaN                 NaN      12.200000   \n",
      "max                NaN                 NaN    1150.000000   \n",
      "std                NaN                 NaN     121.490683   \n",
      "\n",
      "           SCH_BID_TIMEINTERVALSTART       SCH_BID_TIMEINTERVALSTOP  \\\n",
      "count                        1084812                        1084812   \n",
      "mean   2023-09-30 06:10:48.201899520  2023-09-30 08:37:00.516365568   \n",
      "min              2023-09-06 00:00:00            2023-09-06 01:00:00   \n",
      "25%              2023-09-18 16:00:00            2023-09-18 19:00:00   \n",
      "50%              2023-09-29 14:00:00            2023-09-29 16:00:00   \n",
      "75%              2023-10-12 17:00:00            2023-10-12 20:00:00   \n",
      "max              2023-10-23 23:00:00            2023-10-24 00:00:00   \n",
      "std                              NaN                            NaN   \n",
      "\n",
      "       SCH_BID_XAXISDATA  SCH_BID_Y1AXISDATA  SCH_BID_Y2AXISDATA  \\\n",
      "count       1.084812e+06        1.084812e+06                 0.0   \n",
      "mean        8.367758e+01        1.339188e+02                 NaN   \n",
      "min        -3.250000e+02       -1.500000e+02                 NaN   \n",
      "25%         0.000000e+00       -2.000000e+01                 NaN   \n",
      "50%         6.420000e+00        3.304000e+01                 NaN   \n",
      "75%         7.256000e+01        8.107000e+01                 NaN   \n",
      "max         8.800000e+02        1.000000e+03                 NaN   \n",
      "std         1.719352e+02        3.018610e+02                 NaN   \n",
      "\n",
      "       MINEOHSTATEOFCHARGE  MAXEOHSTATEOFCHARGE  \n",
      "count                  0.0                  0.0  \n",
      "mean                   NaN                  NaN  \n",
      "min                    NaN                  NaN  \n",
      "25%                    NaN                  NaN  \n",
      "50%                    NaN                  NaN  \n",
      "75%                    NaN                  NaN  \n",
      "max                    NaN                  NaN  \n",
      "std                    NaN                  NaN  \n",
      "=====================================================\n",
      "Top few rows in data:\n",
      "             STARTTIME             STOPTIME RESOURCE_TYPE  \\\n",
      "0  2023-09-06T00:00:00  2023-09-06T01:00:00     GENERATOR   \n",
      "1  2023-09-06T00:00:00  2023-09-06T01:00:00     GENERATOR   \n",
      "2  2023-09-06T00:00:00  2023-09-06T01:00:00     GENERATOR   \n",
      "3  2023-09-06T00:00:00  2023-09-06T01:00:00     GENERATOR   \n",
      "4  2023-09-06T00:00:00  2023-09-06T01:00:00     GENERATOR   \n",
      "\n",
      "   SCHEDULINGCOORDINATOR_SEQ  RESOURCEBID_SEQ TIMEINTERVALSTART  \\\n",
      "0                     725439           514544               NaN   \n",
      "1                     725439           514544               NaN   \n",
      "2                     725439           514544               NaN   \n",
      "3                     725439           514544               NaN   \n",
      "4                     725439           514544               NaN   \n",
      "\n",
      "  TIMEINTERVALEND  PRODUCTBID_DESC  PRODUCTBID_MRID  MARKETPRODUCT_DESC  ...  \\\n",
      "0             NaN              NaN              NaN                 NaN  ...   \n",
      "1             NaN              NaN              NaN                 NaN  ...   \n",
      "2             NaN              NaN              NaN                 NaN  ...   \n",
      "3             NaN              NaN              NaN                 NaN  ...   \n",
      "4             NaN              NaN              NaN                 NaN  ...   \n",
      "\n",
      "  SCH_BID_TIMEINTERVALSTART  SCH_BID_TIMEINTERVALSTOP  \\\n",
      "0                2023-09-06       2023-09-06 01:00:00   \n",
      "1                2023-09-06       2023-09-06 01:00:00   \n",
      "2                2023-09-06       2023-09-06 01:00:00   \n",
      "3                2023-09-06       2023-09-06 01:00:00   \n",
      "4                2023-09-06       2023-09-06 01:00:00   \n",
      "\n",
      "  SCH_BID_TIMEINTERVALSTART_GMT SCH_BID_TIMEINTERVALSTOP_GMT  \\\n",
      "0     2023-09-06T07:00:00-00:00    2023-09-06T08:00:00-00:00   \n",
      "1     2023-09-06T07:00:00-00:00    2023-09-06T08:00:00-00:00   \n",
      "2     2023-09-06T07:00:00-00:00    2023-09-06T08:00:00-00:00   \n",
      "3     2023-09-06T07:00:00-00:00    2023-09-06T08:00:00-00:00   \n",
      "4     2023-09-06T07:00:00-00:00    2023-09-06T08:00:00-00:00   \n",
      "\n",
      "  SCH_BID_XAXISDATA SCH_BID_Y1AXISDATA  SCH_BID_Y2AXISDATA  SCH_BID_CURVETYPE  \\\n",
      "0              46.0               3.77                 NaN           BIDPRICE   \n",
      "1              50.0               3.82                 NaN           BIDPRICE   \n",
      "2              59.0              10.07                 NaN           BIDPRICE   \n",
      "3              80.0              14.93                 NaN           BIDPRICE   \n",
      "4             105.0              15.33                 NaN           BIDPRICE   \n",
      "\n",
      "   MINEOHSTATEOFCHARGE MAXEOHSTATEOFCHARGE  \n",
      "0                  NaN                 NaN  \n",
      "1                  NaN                 NaN  \n",
      "2                  NaN                 NaN  \n",
      "3                  NaN                 NaN  \n",
      "4                  NaN                 NaN  \n",
      "\n",
      "[5 rows x 22 columns]\n"
     ]
    }
   ],
   "source": [
    "valid_file = \"valid_combined_pub_0906_1023.csv\"\n",
    "df_valid_raw = pd.read_csv(valid_file, low_memory=False)\n",
    "df_valid_raw[\"SCH_BID_TIMEINTERVALSTART\"] = pd.to_datetime(df_valid_raw[\"SCH_BID_TIMEINTERVALSTART\"])\n",
    "df_valid_raw[\"SCH_BID_TIMEINTERVALSTOP\"] = pd.to_datetime(df_valid_raw[\"SCH_BID_TIMEINTERVALSTOP\"])\n",
    "\n",
    "printStats(df_valid_raw)"
   ]
  },
  {
   "cell_type": "markdown",
   "metadata": {},
   "source": [
    "### drop columns"
   ]
  },
  {
   "cell_type": "code",
   "execution_count": 23,
   "metadata": {},
   "outputs": [
    {
     "name": "stdout",
     "output_type": "stream",
     "text": [
      "=====================================================\n",
      "size of data is: (1244549, 7)\n",
      "=====================================================\n",
      "type of each column is:\n",
      "SCHEDULINGCOORDINATOR_SEQ             int64\n",
      "RESOURCEBID_SEQ                       int64\n",
      "SELFSCHEDMW                         float64\n",
      "SCH_BID_TIMEINTERVALSTART    datetime64[ns]\n",
      "SCH_BID_TIMEINTERVALSTOP     datetime64[ns]\n",
      "SCH_BID_XAXISDATA                   float64\n",
      "SCH_BID_Y1AXISDATA                  float64\n",
      "dtype: object\n",
      "=====================================================\n",
      "Statistics in data:\n",
      "        SCHEDULINGCOORDINATOR_SEQ  RESOURCEBID_SEQ    SELFSCHEDMW  \\\n",
      "count               1.244549e+06     1.244549e+06  159726.000000   \n",
      "mean                4.050901e+05     4.276710e+05      29.673578   \n",
      "min                 1.042980e+05     1.002320e+05    -230.000000   \n",
      "25%                 1.874960e+05     1.666000e+05       0.570000   \n",
      "50%                 4.174540e+05     3.271420e+05       1.800000   \n",
      "75%                 6.212000e+05     6.935430e+05      12.200000   \n",
      "max                 9.879900e+05     9.989640e+05    1150.000000   \n",
      "std                 2.347220e+05     2.913479e+05     121.490683   \n",
      "\n",
      "           SCH_BID_TIMEINTERVALSTART       SCH_BID_TIMEINTERVALSTOP  \\\n",
      "count                        1084812                        1084812   \n",
      "mean   2023-09-30 06:10:48.201899520  2023-09-30 08:37:00.516365568   \n",
      "min              2023-09-06 00:00:00            2023-09-06 01:00:00   \n",
      "25%              2023-09-18 16:00:00            2023-09-18 19:00:00   \n",
      "50%              2023-09-29 14:00:00            2023-09-29 16:00:00   \n",
      "75%              2023-10-12 17:00:00            2023-10-12 20:00:00   \n",
      "max              2023-10-23 23:00:00            2023-10-24 00:00:00   \n",
      "std                              NaN                            NaN   \n",
      "\n",
      "       SCH_BID_XAXISDATA  SCH_BID_Y1AXISDATA  \n",
      "count       1.084812e+06        1.084812e+06  \n",
      "mean        8.367758e+01        1.339188e+02  \n",
      "min        -3.250000e+02       -1.500000e+02  \n",
      "25%         0.000000e+00       -2.000000e+01  \n",
      "50%         6.420000e+00        3.304000e+01  \n",
      "75%         7.256000e+01        8.107000e+01  \n",
      "max         8.800000e+02        1.000000e+03  \n",
      "std         1.719352e+02        3.018610e+02  \n",
      "=====================================================\n",
      "Top few rows in data:\n",
      "   SCHEDULINGCOORDINATOR_SEQ  RESOURCEBID_SEQ  SELFSCHEDMW  \\\n",
      "0                     725439           514544          NaN   \n",
      "1                     725439           514544          NaN   \n",
      "2                     725439           514544          NaN   \n",
      "3                     725439           514544          NaN   \n",
      "4                     725439           514544          NaN   \n",
      "\n",
      "  SCH_BID_TIMEINTERVALSTART SCH_BID_TIMEINTERVALSTOP  SCH_BID_XAXISDATA  \\\n",
      "0                2023-09-06      2023-09-06 01:00:00               46.0   \n",
      "1                2023-09-06      2023-09-06 01:00:00               50.0   \n",
      "2                2023-09-06      2023-09-06 01:00:00               59.0   \n",
      "3                2023-09-06      2023-09-06 01:00:00               80.0   \n",
      "4                2023-09-06      2023-09-06 01:00:00              105.0   \n",
      "\n",
      "   SCH_BID_Y1AXISDATA  \n",
      "0                3.77  \n",
      "1                3.82  \n",
      "2               10.07  \n",
      "3               14.93  \n",
      "4               15.33  \n"
     ]
    }
   ],
   "source": [
    "df_valid_raw_col_droped = df_valid_raw.drop(columns=drop_columns, axis='columns')\n",
    "\n",
    "printStats(df_valid_raw_col_droped)"
   ]
  },
  {
   "cell_type": "code",
   "execution_count": 24,
   "metadata": {},
   "outputs": [
    {
     "name": "stdout",
     "output_type": "stream",
     "text": [
      "=====================================================\n",
      "size of data is: (130, 9)\n",
      "=====================================================\n",
      "type of each column is:\n",
      "SCHEDULINGCOORDINATOR_SEQ             int64\n",
      "RESOURCEBID_SEQ                       int64\n",
      "SELFSCHEDMW                         float64\n",
      "SCH_BID_TIMEINTERVALSTART    datetime64[ns]\n",
      "SCH_BID_TIMEINTERVALSTOP     datetime64[ns]\n",
      "SCH_BID_XAXISDATA                   float64\n",
      "SCH_BID_Y1AXISDATA                  float64\n",
      "hr_start                            float64\n",
      "hr_stop                             float64\n",
      "dtype: object\n",
      "=====================================================\n",
      "Statistics in data:\n",
      "        SCHEDULINGCOORDINATOR_SEQ  RESOURCEBID_SEQ  SELFSCHEDMW  \\\n",
      "count                      130.0            130.0          0.0   \n",
      "mean                    917730.0         100651.0          NaN   \n",
      "min                     917730.0         100651.0          NaN   \n",
      "25%                     917730.0         100651.0          NaN   \n",
      "50%                     917730.0         100651.0          NaN   \n",
      "75%                     917730.0         100651.0          NaN   \n",
      "max                     917730.0         100651.0          NaN   \n",
      "std                          0.0              0.0          NaN   \n",
      "\n",
      "           SCH_BID_TIMEINTERVALSTART       SCH_BID_TIMEINTERVALSTOP  \\\n",
      "count                            130                            130   \n",
      "mean   2023-09-30 09:20:46.153846272  2023-09-30 18:10:36.923076864   \n",
      "min              2023-09-06 00:00:00            2023-09-07 00:00:00   \n",
      "25%              2023-09-18 10:30:00            2023-09-19 04:45:00   \n",
      "50%              2023-09-29 18:00:00            2023-09-29 19:00:00   \n",
      "75%              2023-10-13 07:30:00            2023-10-13 14:15:00   \n",
      "max              2023-10-23 18:00:00            2023-10-23 20:00:00   \n",
      "std                              NaN                            NaN   \n",
      "\n",
      "       SCH_BID_XAXISDATA  SCH_BID_Y1AXISDATA    hr_start     hr_stop  \n",
      "count         130.000000          130.000000  130.000000  130.000000  \n",
      "mean           41.275385          773.306615   12.115385   20.946154  \n",
      "min             0.000000           40.000000    0.000000   19.000000  \n",
      "25%             0.000000          998.990000    0.000000   19.000000  \n",
      "50%            40.000000          999.000000   18.000000   20.000000  \n",
      "75%            75.000000         1000.000000   18.000000   24.000000  \n",
      "max           104.400000         1000.000000   18.000000   24.000000  \n",
      "std            41.560068          397.862024    8.406010    2.168526  \n",
      "=====================================================\n",
      "Top few rows in data:\n",
      "       SCHEDULINGCOORDINATOR_SEQ  RESOURCEBID_SEQ  SELFSCHEDMW  \\\n",
      "5393                      917730           100651          NaN   \n",
      "5394                      917730           100651          NaN   \n",
      "5395                      917730           100651          NaN   \n",
      "55362                     917730           100651          NaN   \n",
      "55363                     917730           100651          NaN   \n",
      "\n",
      "      SCH_BID_TIMEINTERVALSTART SCH_BID_TIMEINTERVALSTOP  SCH_BID_XAXISDATA  \\\n",
      "5393        2023-09-06 00:00:00      2023-09-07 00:00:00                0.0   \n",
      "5394        2023-09-06 00:00:00      2023-09-07 00:00:00                1.0   \n",
      "5395        2023-09-06 00:00:00      2023-09-07 00:00:00              104.0   \n",
      "55362       2023-09-07 18:00:00      2023-09-07 21:00:00                0.0   \n",
      "55363       2023-09-07 18:00:00      2023-09-07 21:00:00               75.0   \n",
      "\n",
      "       SCH_BID_Y1AXISDATA  hr_start  hr_stop  \n",
      "5393               998.99       0.0     24.0  \n",
      "5394               999.00       0.0     24.0  \n",
      "5395               999.00       0.0     24.0  \n",
      "55362               60.00      18.0     21.0  \n",
      "55363             1000.00      18.0     21.0  \n"
     ]
    }
   ],
   "source": [
    "df_valid = filter_data(df_valid_raw_col_droped, HOUR, RESOURCEBID_SEQ)\n",
    "printStats(df_valid)"
   ]
  },
  {
   "cell_type": "code",
   "execution_count": 25,
   "metadata": {},
   "outputs": [
    {
     "name": "stdout",
     "output_type": "stream",
     "text": [
      "For resource_id 100651 at hour 18:\n",
      "=====================================================\n",
      "size of data is: (130, 9)\n",
      "=====================================================\n",
      "Statistics in data:\n",
      "        SCHEDULINGCOORDINATOR_SEQ  RESOURCEBID_SEQ  SELFSCHEDMW  \\\n",
      "count                      130.0            130.0          0.0   \n",
      "mean                    917730.0         100651.0          NaN   \n",
      "min                     917730.0         100651.0          NaN   \n",
      "25%                     917730.0         100651.0          NaN   \n",
      "50%                     917730.0         100651.0          NaN   \n",
      "75%                     917730.0         100651.0          NaN   \n",
      "max                     917730.0         100651.0          NaN   \n",
      "std                          0.0              0.0          NaN   \n",
      "\n",
      "           SCH_BID_TIMEINTERVALSTART       SCH_BID_TIMEINTERVALSTOP  \\\n",
      "count                            130                            130   \n",
      "mean   2023-09-30 09:20:46.153846272  2023-09-30 18:10:36.923076864   \n",
      "min              2023-09-06 00:00:00            2023-09-07 00:00:00   \n",
      "25%              2023-09-18 10:30:00            2023-09-19 04:45:00   \n",
      "50%              2023-09-29 18:00:00            2023-09-29 19:00:00   \n",
      "75%              2023-10-13 07:30:00            2023-10-13 14:15:00   \n",
      "max              2023-10-23 18:00:00            2023-10-23 20:00:00   \n",
      "std                              NaN                            NaN   \n",
      "\n",
      "       SCH_BID_XAXISDATA  SCH_BID_Y1AXISDATA    hr_start     hr_stop  \n",
      "count         130.000000          130.000000  130.000000  130.000000  \n",
      "mean           41.275385          773.306615   12.115385   20.946154  \n",
      "min             0.000000           40.000000    0.000000   19.000000  \n",
      "25%             0.000000          998.990000    0.000000   19.000000  \n",
      "50%            40.000000          999.000000   18.000000   20.000000  \n",
      "75%            75.000000         1000.000000   18.000000   24.000000  \n",
      "max           104.400000         1000.000000   18.000000   24.000000  \n",
      "std            41.560068          397.862024    8.406010    2.168526  \n"
     ]
    },
    {
     "data": {
      "application/vnd.plotly.v1+json": {
       "config": {
        "plotlyServerURL": "https://plot.ly"
       },
       "data": [
        {
         "line": {
          "color": "blue"
         },
         "mode": "lines",
         "name": "Date 2023-09-06 Hour 18",
         "type": "scatter",
         "x": [
          0,
          1,
          1,
          104,
          104
         ],
         "y": [
          998.99,
          998.99,
          999,
          999,
          999
         ]
        },
        {
         "line": {
          "color": "green"
         },
         "mode": "lines",
         "name": "Date 2023-09-07 Hour 18",
         "type": "scatter",
         "x": [
          0,
          75,
          75,
          104.4,
          104.4
         ],
         "y": [
          60,
          60,
          1000,
          1000,
          1000
         ]
        },
        {
         "line": {
          "color": "red"
         },
         "mode": "lines",
         "name": "Date 2023-09-10 Hour 18",
         "type": "scatter",
         "x": [
          0,
          1,
          1,
          104,
          104
         ],
         "y": [
          998.99,
          998.99,
          999,
          999,
          999
         ]
        },
        {
         "line": {
          "color": "cyan"
         },
         "mode": "lines",
         "name": "Date 2023-09-11 Hour 18",
         "type": "scatter",
         "x": [
          0,
          1,
          1,
          104,
          104
         ],
         "y": [
          998.99,
          998.99,
          999,
          999,
          999
         ]
        },
        {
         "line": {
          "color": "magenta"
         },
         "mode": "lines",
         "name": "Date 2023-09-12 Hour 18",
         "type": "scatter",
         "x": [
          0,
          1,
          1,
          104,
          104
         ],
         "y": [
          998.99,
          998.99,
          999,
          999,
          999
         ]
        },
        {
         "line": {
          "color": "yellow"
         },
         "mode": "lines",
         "name": "Date 2023-09-13 Hour 18",
         "type": "scatter",
         "x": [
          0,
          75,
          75,
          104.4,
          104.4
         ],
         "y": [
          50,
          50,
          1000,
          1000,
          1000
         ]
        },
        {
         "line": {
          "color": "black"
         },
         "mode": "lines",
         "name": "Date 2023-09-14 Hour 18",
         "type": "scatter",
         "x": [
          0,
          75,
          75,
          104.4,
          104.4
         ],
         "y": [
          60,
          60,
          1000,
          1000,
          1000
         ]
        },
        {
         "line": {
          "color": "orange"
         },
         "mode": "lines",
         "name": "Date 2023-09-15 Hour 18",
         "type": "scatter",
         "x": [
          0,
          75,
          75,
          104.4,
          104.4
         ],
         "y": [
          70,
          70,
          1000,
          1000,
          1000
         ]
        },
        {
         "line": {
          "color": "purple"
         },
         "mode": "lines",
         "name": "Date 2023-09-16 Hour 18",
         "type": "scatter",
         "x": [
          0,
          75,
          75,
          104.4,
          104.4
         ],
         "y": [
          70,
          70,
          1000,
          1000,
          1000
         ]
        },
        {
         "line": {
          "color": "brown"
         },
         "mode": "lines",
         "name": "Date 2023-09-17 Hour 18",
         "type": "scatter",
         "x": [
          0,
          1,
          1,
          104,
          104
         ],
         "y": [
          998.99,
          998.99,
          999,
          999,
          999
         ]
        },
        {
         "line": {
          "color": "blue"
         },
         "mode": "lines",
         "name": "Date 2023-09-18 Hour 18",
         "type": "scatter",
         "x": [
          0,
          1,
          1,
          104,
          104
         ],
         "y": [
          998.99,
          998.99,
          999,
          999,
          999
         ]
        },
        {
         "line": {
          "color": "green"
         },
         "mode": "lines",
         "name": "Date 2023-09-19 Hour 18",
         "type": "scatter",
         "x": [
          0,
          50,
          50,
          104.4,
          104.4
         ],
         "y": [
          45,
          45,
          1000,
          1000,
          1000
         ]
        },
        {
         "line": {
          "color": "red"
         },
         "mode": "lines",
         "name": "Date 2023-09-20 Hour 18",
         "type": "scatter",
         "x": [
          0,
          1,
          1,
          104,
          104
         ],
         "y": [
          998.99,
          998.99,
          999,
          999,
          999
         ]
        },
        {
         "line": {
          "color": "cyan"
         },
         "mode": "lines",
         "name": "Date 2023-09-21 Hour 18",
         "type": "scatter",
         "x": [
          0,
          1,
          1,
          104,
          104
         ],
         "y": [
          998.99,
          998.99,
          999,
          999,
          999
         ]
        },
        {
         "line": {
          "color": "magenta"
         },
         "mode": "lines",
         "name": "Date 2023-09-22 Hour 18",
         "type": "scatter",
         "x": [
          0,
          1,
          1,
          104,
          104
         ],
         "y": [
          998.99,
          998.99,
          999,
          999,
          999
         ]
        },
        {
         "line": {
          "color": "yellow"
         },
         "mode": "lines",
         "name": "Date 2023-09-23 Hour 18",
         "type": "scatter",
         "x": [
          0,
          1,
          1,
          104,
          104
         ],
         "y": [
          998.99,
          998.99,
          999,
          999,
          999
         ]
        },
        {
         "line": {
          "color": "black"
         },
         "mode": "lines",
         "name": "Date 2023-09-24 Hour 18",
         "type": "scatter",
         "x": [
          0,
          50,
          50,
          104.4,
          104.4
         ],
         "y": [
          45,
          45,
          1000,
          1000,
          1000
         ]
        },
        {
         "line": {
          "color": "orange"
         },
         "mode": "lines",
         "name": "Date 2023-09-25 Hour 18",
         "type": "scatter",
         "x": [
          0,
          50,
          50,
          104.4,
          104.4
         ],
         "y": [
          45,
          45,
          1000,
          1000,
          1000
         ]
        },
        {
         "line": {
          "color": "purple"
         },
         "mode": "lines",
         "name": "Date 2023-09-26 Hour 18",
         "type": "scatter",
         "x": [
          0,
          50,
          50,
          104.4,
          104.4
         ],
         "y": [
          62,
          62,
          1000,
          1000,
          1000
         ]
        },
        {
         "line": {
          "color": "brown"
         },
         "mode": "lines",
         "name": "Date 2023-09-27 Hour 18",
         "type": "scatter",
         "x": [
          0,
          50,
          50,
          104.4,
          104.4
         ],
         "y": [
          40,
          40,
          1000,
          1000,
          1000
         ]
        },
        {
         "line": {
          "color": "blue"
         },
         "mode": "lines",
         "name": "Date 2023-09-28 Hour 18",
         "type": "scatter",
         "x": [
          0,
          75,
          75,
          104.4,
          104.4
         ],
         "y": [
          60,
          60,
          1000,
          1000,
          1000
         ]
        },
        {
         "line": {
          "color": "green"
         },
         "mode": "lines",
         "name": "Date 2023-09-29 Hour 18",
         "type": "scatter",
         "x": [
          0,
          60,
          60,
          104.4,
          104.4
         ],
         "y": [
          45,
          45,
          1000,
          1000,
          1000
         ]
        },
        {
         "line": {
          "color": "red"
         },
         "mode": "lines",
         "name": "Date 2023-09-30 Hour 18",
         "type": "scatter",
         "x": [
          0,
          1,
          1,
          104,
          104
         ],
         "y": [
          998.99,
          998.99,
          999,
          999,
          999
         ]
        },
        {
         "line": {
          "color": "cyan"
         },
         "mode": "lines",
         "name": "Date 2023-10-01 Hour 18",
         "type": "scatter",
         "x": [
          0,
          1,
          1,
          104,
          104
         ],
         "y": [
          998.99,
          998.99,
          999,
          999,
          999
         ]
        },
        {
         "line": {
          "color": "magenta"
         },
         "mode": "lines",
         "name": "Date 2023-10-02 Hour 18",
         "type": "scatter",
         "x": [
          0,
          1,
          1,
          104,
          104
         ],
         "y": [
          998.99,
          998.99,
          999,
          999,
          999
         ]
        },
        {
         "line": {
          "color": "yellow"
         },
         "mode": "lines",
         "name": "Date 2023-10-03 Hour 18",
         "type": "scatter",
         "x": [
          0,
          30,
          30,
          68,
          68
         ],
         "y": [
          45,
          45,
          1000,
          1000,
          1000
         ]
        },
        {
         "line": {
          "color": "black"
         },
         "mode": "lines",
         "name": "Date 2023-10-04 Hour 18",
         "type": "scatter",
         "x": [
          0,
          40,
          40,
          68,
          68
         ],
         "y": [
          80,
          80,
          1000,
          1000,
          1000
         ]
        },
        {
         "line": {
          "color": "orange"
         },
         "mode": "lines",
         "name": "Date 2023-10-05 Hour 18",
         "type": "scatter",
         "x": [
          0,
          40,
          40,
          68,
          68
         ],
         "y": [
          100,
          100,
          1000,
          1000,
          1000
         ]
        },
        {
         "line": {
          "color": "purple"
         },
         "mode": "lines",
         "name": "Date 2023-10-06 Hour 18",
         "type": "scatter",
         "x": [
          0,
          40,
          40,
          68,
          68
         ],
         "y": [
          100,
          100,
          1000,
          1000,
          1000
         ]
        },
        {
         "line": {
          "color": "brown"
         },
         "mode": "lines",
         "name": "Date 2023-10-07 Hour 18",
         "type": "scatter",
         "x": [
          0,
          75,
          75
         ],
         "y": [
          100,
          100,
          100
         ]
        },
        {
         "line": {
          "color": "blue"
         },
         "mode": "lines",
         "name": "Date 2023-10-08 Hour 18",
         "type": "scatter",
         "x": [
          0,
          75,
          75
         ],
         "y": [
          100,
          100,
          100
         ]
        },
        {
         "line": {
          "color": "green"
         },
         "mode": "lines",
         "name": "Date 2023-10-11 Hour 18",
         "type": "scatter",
         "x": [
          0,
          45,
          45,
          68,
          68
         ],
         "y": [
          60,
          60,
          1000,
          1000,
          1000
         ]
        },
        {
         "line": {
          "color": "red"
         },
         "mode": "lines",
         "name": "Date 2023-10-12 Hour 18",
         "type": "scatter",
         "x": [
          0,
          1,
          1,
          104,
          104
         ],
         "y": [
          998.99,
          998.99,
          999,
          999,
          999
         ]
        },
        {
         "line": {
          "color": "cyan"
         },
         "mode": "lines",
         "name": "Date 2023-10-13 Hour 18",
         "type": "scatter",
         "x": [
          0,
          25,
          25,
          68,
          68
         ],
         "y": [
          75,
          75,
          1000,
          1000,
          1000
         ]
        },
        {
         "line": {
          "color": "magenta"
         },
         "mode": "lines",
         "name": "Date 2023-10-14 Hour 18",
         "type": "scatter",
         "x": [
          0,
          50,
          50,
          68,
          68
         ],
         "y": [
          75,
          75,
          1000,
          1000,
          1000
         ]
        },
        {
         "line": {
          "color": "yellow"
         },
         "mode": "lines",
         "name": "Date 2023-10-15 Hour 18",
         "type": "scatter",
         "x": [
          0,
          50,
          50,
          68,
          68
         ],
         "y": [
          90,
          90,
          1000,
          1000,
          1000
         ]
        },
        {
         "line": {
          "color": "black"
         },
         "mode": "lines",
         "name": "Date 2023-10-16 Hour 18",
         "type": "scatter",
         "x": [
          0,
          50,
          50,
          68,
          68
         ],
         "y": [
          100,
          100,
          1000,
          1000,
          1000
         ]
        },
        {
         "line": {
          "color": "orange"
         },
         "mode": "lines",
         "name": "Date 2023-10-17 Hour 18",
         "type": "scatter",
         "x": [
          0,
          40,
          40,
          68,
          68
         ],
         "y": [
          115,
          115,
          1000,
          1000,
          1000
         ]
        },
        {
         "line": {
          "color": "purple"
         },
         "mode": "lines",
         "name": "Date 2023-10-18 Hour 18",
         "type": "scatter",
         "x": [
          0,
          40,
          40,
          68,
          68
         ],
         "y": [
          175,
          175,
          1000,
          1000,
          1000
         ]
        },
        {
         "line": {
          "color": "brown"
         },
         "mode": "lines",
         "name": "Date 2023-10-19 Hour 18",
         "type": "scatter",
         "x": [
          0,
          40,
          40,
          68,
          68
         ],
         "y": [
          140,
          140,
          1000,
          1000,
          1000
         ]
        },
        {
         "line": {
          "color": "blue"
         },
         "mode": "lines",
         "name": "Date 2023-10-20 Hour 18",
         "type": "scatter",
         "x": [
          0,
          40,
          40,
          68,
          68
         ],
         "y": [
          175,
          175,
          1000,
          1000,
          1000
         ]
        },
        {
         "line": {
          "color": "green"
         },
         "mode": "lines",
         "name": "Date 2023-10-21 Hour 18",
         "type": "scatter",
         "x": [
          0,
          40,
          40,
          68,
          68
         ],
         "y": [
          80,
          80,
          1000,
          1000,
          1000
         ]
        },
        {
         "line": {
          "color": "red"
         },
         "mode": "lines",
         "name": "Date 2023-10-22 Hour 18",
         "type": "scatter",
         "x": [
          0,
          25,
          25,
          68,
          68
         ],
         "y": [
          50,
          50,
          1000,
          1000,
          1000
         ]
        },
        {
         "line": {
          "color": "cyan"
         },
         "mode": "lines",
         "name": "Date 2023-10-23 Hour 18",
         "type": "scatter",
         "x": [
          0,
          50,
          50,
          68,
          68
         ],
         "y": [
          60,
          60,
          1000,
          1000,
          1000
         ]
        }
       ],
       "layout": {
        "scene": {
         "xaxis": {
          "title": {
           "text": "MW (Megawatts)"
          }
         },
         "yaxis": {
          "title": {
           "text": "Price ($)"
          }
         }
        },
        "template": {
         "data": {
          "bar": [
           {
            "error_x": {
             "color": "#2a3f5f"
            },
            "error_y": {
             "color": "#2a3f5f"
            },
            "marker": {
             "line": {
              "color": "#E5ECF6",
              "width": 0.5
             },
             "pattern": {
              "fillmode": "overlay",
              "size": 10,
              "solidity": 0.2
             }
            },
            "type": "bar"
           }
          ],
          "barpolar": [
           {
            "marker": {
             "line": {
              "color": "#E5ECF6",
              "width": 0.5
             },
             "pattern": {
              "fillmode": "overlay",
              "size": 10,
              "solidity": 0.2
             }
            },
            "type": "barpolar"
           }
          ],
          "carpet": [
           {
            "aaxis": {
             "endlinecolor": "#2a3f5f",
             "gridcolor": "white",
             "linecolor": "white",
             "minorgridcolor": "white",
             "startlinecolor": "#2a3f5f"
            },
            "baxis": {
             "endlinecolor": "#2a3f5f",
             "gridcolor": "white",
             "linecolor": "white",
             "minorgridcolor": "white",
             "startlinecolor": "#2a3f5f"
            },
            "type": "carpet"
           }
          ],
          "choropleth": [
           {
            "colorbar": {
             "outlinewidth": 0,
             "ticks": ""
            },
            "type": "choropleth"
           }
          ],
          "contour": [
           {
            "colorbar": {
             "outlinewidth": 0,
             "ticks": ""
            },
            "colorscale": [
             [
              0,
              "#0d0887"
             ],
             [
              0.1111111111111111,
              "#46039f"
             ],
             [
              0.2222222222222222,
              "#7201a8"
             ],
             [
              0.3333333333333333,
              "#9c179e"
             ],
             [
              0.4444444444444444,
              "#bd3786"
             ],
             [
              0.5555555555555556,
              "#d8576b"
             ],
             [
              0.6666666666666666,
              "#ed7953"
             ],
             [
              0.7777777777777778,
              "#fb9f3a"
             ],
             [
              0.8888888888888888,
              "#fdca26"
             ],
             [
              1,
              "#f0f921"
             ]
            ],
            "type": "contour"
           }
          ],
          "contourcarpet": [
           {
            "colorbar": {
             "outlinewidth": 0,
             "ticks": ""
            },
            "type": "contourcarpet"
           }
          ],
          "heatmap": [
           {
            "colorbar": {
             "outlinewidth": 0,
             "ticks": ""
            },
            "colorscale": [
             [
              0,
              "#0d0887"
             ],
             [
              0.1111111111111111,
              "#46039f"
             ],
             [
              0.2222222222222222,
              "#7201a8"
             ],
             [
              0.3333333333333333,
              "#9c179e"
             ],
             [
              0.4444444444444444,
              "#bd3786"
             ],
             [
              0.5555555555555556,
              "#d8576b"
             ],
             [
              0.6666666666666666,
              "#ed7953"
             ],
             [
              0.7777777777777778,
              "#fb9f3a"
             ],
             [
              0.8888888888888888,
              "#fdca26"
             ],
             [
              1,
              "#f0f921"
             ]
            ],
            "type": "heatmap"
           }
          ],
          "heatmapgl": [
           {
            "colorbar": {
             "outlinewidth": 0,
             "ticks": ""
            },
            "colorscale": [
             [
              0,
              "#0d0887"
             ],
             [
              0.1111111111111111,
              "#46039f"
             ],
             [
              0.2222222222222222,
              "#7201a8"
             ],
             [
              0.3333333333333333,
              "#9c179e"
             ],
             [
              0.4444444444444444,
              "#bd3786"
             ],
             [
              0.5555555555555556,
              "#d8576b"
             ],
             [
              0.6666666666666666,
              "#ed7953"
             ],
             [
              0.7777777777777778,
              "#fb9f3a"
             ],
             [
              0.8888888888888888,
              "#fdca26"
             ],
             [
              1,
              "#f0f921"
             ]
            ],
            "type": "heatmapgl"
           }
          ],
          "histogram": [
           {
            "marker": {
             "pattern": {
              "fillmode": "overlay",
              "size": 10,
              "solidity": 0.2
             }
            },
            "type": "histogram"
           }
          ],
          "histogram2d": [
           {
            "colorbar": {
             "outlinewidth": 0,
             "ticks": ""
            },
            "colorscale": [
             [
              0,
              "#0d0887"
             ],
             [
              0.1111111111111111,
              "#46039f"
             ],
             [
              0.2222222222222222,
              "#7201a8"
             ],
             [
              0.3333333333333333,
              "#9c179e"
             ],
             [
              0.4444444444444444,
              "#bd3786"
             ],
             [
              0.5555555555555556,
              "#d8576b"
             ],
             [
              0.6666666666666666,
              "#ed7953"
             ],
             [
              0.7777777777777778,
              "#fb9f3a"
             ],
             [
              0.8888888888888888,
              "#fdca26"
             ],
             [
              1,
              "#f0f921"
             ]
            ],
            "type": "histogram2d"
           }
          ],
          "histogram2dcontour": [
           {
            "colorbar": {
             "outlinewidth": 0,
             "ticks": ""
            },
            "colorscale": [
             [
              0,
              "#0d0887"
             ],
             [
              0.1111111111111111,
              "#46039f"
             ],
             [
              0.2222222222222222,
              "#7201a8"
             ],
             [
              0.3333333333333333,
              "#9c179e"
             ],
             [
              0.4444444444444444,
              "#bd3786"
             ],
             [
              0.5555555555555556,
              "#d8576b"
             ],
             [
              0.6666666666666666,
              "#ed7953"
             ],
             [
              0.7777777777777778,
              "#fb9f3a"
             ],
             [
              0.8888888888888888,
              "#fdca26"
             ],
             [
              1,
              "#f0f921"
             ]
            ],
            "type": "histogram2dcontour"
           }
          ],
          "mesh3d": [
           {
            "colorbar": {
             "outlinewidth": 0,
             "ticks": ""
            },
            "type": "mesh3d"
           }
          ],
          "parcoords": [
           {
            "line": {
             "colorbar": {
              "outlinewidth": 0,
              "ticks": ""
             }
            },
            "type": "parcoords"
           }
          ],
          "pie": [
           {
            "automargin": true,
            "type": "pie"
           }
          ],
          "scatter": [
           {
            "fillpattern": {
             "fillmode": "overlay",
             "size": 10,
             "solidity": 0.2
            },
            "type": "scatter"
           }
          ],
          "scatter3d": [
           {
            "line": {
             "colorbar": {
              "outlinewidth": 0,
              "ticks": ""
             }
            },
            "marker": {
             "colorbar": {
              "outlinewidth": 0,
              "ticks": ""
             }
            },
            "type": "scatter3d"
           }
          ],
          "scattercarpet": [
           {
            "marker": {
             "colorbar": {
              "outlinewidth": 0,
              "ticks": ""
             }
            },
            "type": "scattercarpet"
           }
          ],
          "scattergeo": [
           {
            "marker": {
             "colorbar": {
              "outlinewidth": 0,
              "ticks": ""
             }
            },
            "type": "scattergeo"
           }
          ],
          "scattergl": [
           {
            "marker": {
             "colorbar": {
              "outlinewidth": 0,
              "ticks": ""
             }
            },
            "type": "scattergl"
           }
          ],
          "scattermapbox": [
           {
            "marker": {
             "colorbar": {
              "outlinewidth": 0,
              "ticks": ""
             }
            },
            "type": "scattermapbox"
           }
          ],
          "scatterpolar": [
           {
            "marker": {
             "colorbar": {
              "outlinewidth": 0,
              "ticks": ""
             }
            },
            "type": "scatterpolar"
           }
          ],
          "scatterpolargl": [
           {
            "marker": {
             "colorbar": {
              "outlinewidth": 0,
              "ticks": ""
             }
            },
            "type": "scatterpolargl"
           }
          ],
          "scatterternary": [
           {
            "marker": {
             "colorbar": {
              "outlinewidth": 0,
              "ticks": ""
             }
            },
            "type": "scatterternary"
           }
          ],
          "surface": [
           {
            "colorbar": {
             "outlinewidth": 0,
             "ticks": ""
            },
            "colorscale": [
             [
              0,
              "#0d0887"
             ],
             [
              0.1111111111111111,
              "#46039f"
             ],
             [
              0.2222222222222222,
              "#7201a8"
             ],
             [
              0.3333333333333333,
              "#9c179e"
             ],
             [
              0.4444444444444444,
              "#bd3786"
             ],
             [
              0.5555555555555556,
              "#d8576b"
             ],
             [
              0.6666666666666666,
              "#ed7953"
             ],
             [
              0.7777777777777778,
              "#fb9f3a"
             ],
             [
              0.8888888888888888,
              "#fdca26"
             ],
             [
              1,
              "#f0f921"
             ]
            ],
            "type": "surface"
           }
          ],
          "table": [
           {
            "cells": {
             "fill": {
              "color": "#EBF0F8"
             },
             "line": {
              "color": "white"
             }
            },
            "header": {
             "fill": {
              "color": "#C8D4E3"
             },
             "line": {
              "color": "white"
             }
            },
            "type": "table"
           }
          ]
         },
         "layout": {
          "annotationdefaults": {
           "arrowcolor": "#2a3f5f",
           "arrowhead": 0,
           "arrowwidth": 1
          },
          "autotypenumbers": "strict",
          "coloraxis": {
           "colorbar": {
            "outlinewidth": 0,
            "ticks": ""
           }
          },
          "colorscale": {
           "diverging": [
            [
             0,
             "#8e0152"
            ],
            [
             0.1,
             "#c51b7d"
            ],
            [
             0.2,
             "#de77ae"
            ],
            [
             0.3,
             "#f1b6da"
            ],
            [
             0.4,
             "#fde0ef"
            ],
            [
             0.5,
             "#f7f7f7"
            ],
            [
             0.6,
             "#e6f5d0"
            ],
            [
             0.7,
             "#b8e186"
            ],
            [
             0.8,
             "#7fbc41"
            ],
            [
             0.9,
             "#4d9221"
            ],
            [
             1,
             "#276419"
            ]
           ],
           "sequential": [
            [
             0,
             "#0d0887"
            ],
            [
             0.1111111111111111,
             "#46039f"
            ],
            [
             0.2222222222222222,
             "#7201a8"
            ],
            [
             0.3333333333333333,
             "#9c179e"
            ],
            [
             0.4444444444444444,
             "#bd3786"
            ],
            [
             0.5555555555555556,
             "#d8576b"
            ],
            [
             0.6666666666666666,
             "#ed7953"
            ],
            [
             0.7777777777777778,
             "#fb9f3a"
            ],
            [
             0.8888888888888888,
             "#fdca26"
            ],
            [
             1,
             "#f0f921"
            ]
           ],
           "sequentialminus": [
            [
             0,
             "#0d0887"
            ],
            [
             0.1111111111111111,
             "#46039f"
            ],
            [
             0.2222222222222222,
             "#7201a8"
            ],
            [
             0.3333333333333333,
             "#9c179e"
            ],
            [
             0.4444444444444444,
             "#bd3786"
            ],
            [
             0.5555555555555556,
             "#d8576b"
            ],
            [
             0.6666666666666666,
             "#ed7953"
            ],
            [
             0.7777777777777778,
             "#fb9f3a"
            ],
            [
             0.8888888888888888,
             "#fdca26"
            ],
            [
             1,
             "#f0f921"
            ]
           ]
          },
          "colorway": [
           "#636efa",
           "#EF553B",
           "#00cc96",
           "#ab63fa",
           "#FFA15A",
           "#19d3f3",
           "#FF6692",
           "#B6E880",
           "#FF97FF",
           "#FECB52"
          ],
          "font": {
           "color": "#2a3f5f"
          },
          "geo": {
           "bgcolor": "white",
           "lakecolor": "white",
           "landcolor": "#E5ECF6",
           "showlakes": true,
           "showland": true,
           "subunitcolor": "white"
          },
          "hoverlabel": {
           "align": "left"
          },
          "hovermode": "closest",
          "mapbox": {
           "style": "light"
          },
          "paper_bgcolor": "white",
          "plot_bgcolor": "#E5ECF6",
          "polar": {
           "angularaxis": {
            "gridcolor": "white",
            "linecolor": "white",
            "ticks": ""
           },
           "bgcolor": "#E5ECF6",
           "radialaxis": {
            "gridcolor": "white",
            "linecolor": "white",
            "ticks": ""
           }
          },
          "scene": {
           "xaxis": {
            "backgroundcolor": "#E5ECF6",
            "gridcolor": "white",
            "gridwidth": 2,
            "linecolor": "white",
            "showbackground": true,
            "ticks": "",
            "zerolinecolor": "white"
           },
           "yaxis": {
            "backgroundcolor": "#E5ECF6",
            "gridcolor": "white",
            "gridwidth": 2,
            "linecolor": "white",
            "showbackground": true,
            "ticks": "",
            "zerolinecolor": "white"
           },
           "zaxis": {
            "backgroundcolor": "#E5ECF6",
            "gridcolor": "white",
            "gridwidth": 2,
            "linecolor": "white",
            "showbackground": true,
            "ticks": "",
            "zerolinecolor": "white"
           }
          },
          "shapedefaults": {
           "line": {
            "color": "#2a3f5f"
           }
          },
          "ternary": {
           "aaxis": {
            "gridcolor": "white",
            "linecolor": "white",
            "ticks": ""
           },
           "baxis": {
            "gridcolor": "white",
            "linecolor": "white",
            "ticks": ""
           },
           "bgcolor": "#E5ECF6",
           "caxis": {
            "gridcolor": "white",
            "linecolor": "white",
            "ticks": ""
           }
          },
          "title": {
           "x": 0.05
          },
          "xaxis": {
           "automargin": true,
           "gridcolor": "white",
           "linecolor": "white",
           "ticks": "",
           "title": {
            "standoff": 15
           },
           "zerolinecolor": "white",
           "zerolinewidth": 2
          },
          "yaxis": {
           "automargin": true,
           "gridcolor": "white",
           "linecolor": "white",
           "ticks": "",
           "title": {
            "standoff": 15
           },
           "zerolinecolor": "white",
           "zerolinewidth": 2
          }
         }
        },
        "title": {
         "text": "bidding curve for resource id = 100651 from 2023-09-06 to 2023-10-23, at hour 18"
        }
       }
      }
     },
     "metadata": {},
     "output_type": "display_data"
    }
   ],
   "source": [
    "print(f\"For resource_id {RESOURCEBID_SEQ} at hour {HOUR}:\")\n",
    "printStats(df_valid, type=False, topFewRow=False)\n",
    "\n",
    "from draw_bid_curve import draw_bid_curves_for_multiple_days_2d\n",
    "draw_bid_curves_for_multiple_days_2d(df_valid, HOUR)"
   ]
  },
  {
   "cell_type": "code",
   "execution_count": 26,
   "metadata": {},
   "outputs": [
    {
     "name": "stdout",
     "output_type": "stream",
     "text": [
      "\n",
      "Statistics before scaling:\n",
      "=====================================================\n",
      "size of data is: (44, 5)\n",
      "=====================================================\n",
      "Statistics in data:\n",
      "          max_price   min_price   avg_price  price_range  num_steps\n",
      "count    44.000000   44.000000   44.000000    44.000000  44.000000\n",
      "mean    958.772727  371.769545  763.105000   587.003182   2.954545\n",
      "std     189.566686  434.419530  204.708789   449.790485   0.210707\n",
      "min     100.000000   40.000000  100.000000     0.000000   2.000000\n",
      "25%     999.000000   60.000000  686.666667     0.010000   3.000000\n",
      "50%    1000.000000  100.000000  695.000000   900.000000   3.000000\n",
      "75%    1000.000000  998.990000  998.996667   940.000000   3.000000\n",
      "max    1000.000000  998.990000  998.996667   960.000000   3.000000\n",
      "=====================================================\n",
      "Top few rows in data:\n",
      "                     max_price  min_price   avg_price  price_range  num_steps\n",
      "2023-09-06 00:00:00      999.0     998.99  998.996667         0.01          3\n",
      "2023-09-07 18:00:00     1000.0      60.00  686.666667       940.00          3\n",
      "2023-09-10 00:00:00      999.0     998.99  998.996667         0.01          3\n",
      "2023-09-11 00:00:00      999.0     998.99  998.996667         0.01          3\n",
      "2023-09-12 00:00:00      999.0     998.99  998.996667         0.01          3\n"
     ]
    }
   ],
   "source": [
    "df_valid_feat = extract_feat(df_valid)\n",
    "print(\"\\nStatistics before scaling:\")\n",
    "printStats(df_valid_feat, type=False)\n"
   ]
  },
  {
   "cell_type": "code",
   "execution_count": 27,
   "metadata": {},
   "outputs": [
    {
     "name": "stdout",
     "output_type": "stream",
     "text": [
      "\n",
      "Statistics after scaling:\n",
      "=====================================================\n",
      "size of data is: (44, 5)\n",
      "=====================================================\n",
      "Statistics in data:\n",
      "           max_price     min_price     avg_price   price_range     num_steps\n",
      "count  4.400000e+01  4.400000e+01  4.400000e+01  4.400000e+01  4.400000e+01\n",
      "mean   8.452834e-17 -1.690567e-16  2.296143e-16 -2.270911e-17 -1.778880e-16\n",
      "std    1.011561e+00  1.011561e+00  1.011561e+00  1.011561e+00  1.011561e+00\n",
      "min   -4.582562e+00 -7.725370e-01 -3.276709e+00 -1.320147e+00 -4.582576e+00\n",
      "25%    2.146598e-01 -7.259663e-01 -3.777173e-01 -1.320125e+00  2.182179e-01\n",
      "50%    2.199960e-01 -6.328249e-01 -3.365384e-01  7.039175e-01  2.182179e-01\n",
      "75%    2.199960e-01  1.460505e+00  1.165650e+00  7.938759e-01  2.182179e-01\n",
      "max    2.199960e-01  1.460505e+00  1.165650e+00  8.388551e-01  2.182179e-01\n",
      "=====================================================\n",
      "Top few rows in data:\n",
      "                     max_price  min_price  avg_price  price_range  num_steps\n",
      "2023-09-06 00:00:00   0.214660   1.460505   1.165650    -1.320125   0.218218\n",
      "2023-09-07 18:00:00   0.219996  -0.725966  -0.377717     0.793876   0.218218\n",
      "2023-09-10 00:00:00   0.214660   1.460505   1.165650    -1.320125   0.218218\n",
      "2023-09-11 00:00:00   0.214660   1.460505   1.165650    -1.320125   0.218218\n",
      "2023-09-12 00:00:00   0.214660   1.460505   1.165650    -1.320125   0.218218\n"
     ]
    }
   ],
   "source": [
    "df_valid_feat_scaled = scale_feat(df_valid_feat)\n",
    "\n",
    "print(\"\\nStatistics after scaling:\")\n",
    "printStats(df_valid_feat_scaled, type=False)"
   ]
  },
  {
   "cell_type": "code",
   "execution_count": 28,
   "metadata": {},
   "outputs": [
    {
     "data": {
      "image/png": "[encoded data removed]",
      "text/plain": [
       "<Figure size 1000x800 with 6 Axes>"
      ]
     },
     "metadata": {},
     "output_type": "display_data"
    },
    {
     "data": {
      "image/png": "[encoded data removed]",
      "text/plain": [
       "<Figure size 1000x800 with 6 Axes>"
      ]
     },
     "metadata": {},
     "output_type": "display_data"
    }
   ],
   "source": [
    "draw_distribution(df_valid_feat)\n",
    "draw_distribution(df_valid_feat_scaled)"
   ]
  },
  {
   "cell_type": "code",
   "execution_count": 29,
   "metadata": {},
   "outputs": [
    {
     "data": {
      "image/png": "[encoded data removed]",
      "text/plain": [
       "<Figure size 640x480 with 2 Axes>"
      ]
     },
     "metadata": {},
     "output_type": "display_data"
    }
   ],
   "source": [
    "plot_dist_mat(df_valid_feat_scaled)"
   ]
  },
  {
   "cell_type": "markdown",
   "metadata": {},
   "source": [
    "## Hypothesis Testing\n",
    "check which cluster each bidding belongs to"
   ]
  },
  {
   "cell_type": "code",
   "execution_count": 30,
   "metadata": {},
   "outputs": [
    {
     "ename": "ValueError",
     "evalue": "The feature names should match those that were passed during fit.\nFeature names unseen at fit time:\n- avg_price\n- max_price\n- min_price\n- num_steps\n- price_range\nFeature names seen at fit time, yet now missing:\n- PC1\n- PC2\n- PC3\n",
     "output_type": "error",
     "traceback": [
      "\u001b[0;31m---------------------------------------------------------------------------\u001b[0m",
      "\u001b[0;31mValueError\u001b[0m                                Traceback (most recent call last)",
      "Cell \u001b[0;32mIn[30], line 1\u001b[0m\n\u001b[0;32m----> 1\u001b[0m validation_labels \u001b[38;5;241m=\u001b[39m \u001b[43mkmeans\u001b[49m\u001b[38;5;241;43m.\u001b[39;49m\u001b[43mpredict\u001b[49m\u001b[43m(\u001b[49m\u001b[43mdf_valid_feat_scaled\u001b[49m\u001b[43m)\u001b[49m\n\u001b[1;32m      2\u001b[0m df_valid_feat_scaled[\u001b[38;5;124m'\u001b[39m\u001b[38;5;124mcluster_label\u001b[39m\u001b[38;5;124m'\u001b[39m] \u001b[38;5;241m=\u001b[39m validation_labels\n\u001b[1;32m      4\u001b[0m cluster_labels_valid \u001b[38;5;241m=\u001b[39m df_valid_feat_scaled[[\u001b[38;5;124m'\u001b[39m\u001b[38;5;124mcluster_label\u001b[39m\u001b[38;5;124m'\u001b[39m]]\u001b[38;5;241m.\u001b[39mcopy()\n",
      "File \u001b[0;32m/opt/homebrew/lib/python3.11/site-packages/sklearn/cluster/_kmeans.py:1100\u001b[0m, in \u001b[0;36m_BaseKMeans.predict\u001b[0;34m(self, X, sample_weight)\u001b[0m\n\u001b[1;32m   1074\u001b[0m \u001b[38;5;250m\u001b[39m\u001b[38;5;124;03m\"\"\"Predict the closest cluster each sample in X belongs to.\u001b[39;00m\n\u001b[1;32m   1075\u001b[0m \n\u001b[1;32m   1076\u001b[0m \u001b[38;5;124;03mIn the vector quantization literature, `cluster_centers_` is called\u001b[39;00m\n\u001b[0;32m   (...)\u001b[0m\n\u001b[1;32m   1096\u001b[0m \u001b[38;5;124;03m    Index of the cluster each sample belongs to.\u001b[39;00m\n\u001b[1;32m   1097\u001b[0m \u001b[38;5;124;03m\"\"\"\u001b[39;00m\n\u001b[1;32m   1098\u001b[0m check_is_fitted(\u001b[38;5;28mself\u001b[39m)\n\u001b[0;32m-> 1100\u001b[0m X \u001b[38;5;241m=\u001b[39m \u001b[38;5;28;43mself\u001b[39;49m\u001b[38;5;241;43m.\u001b[39;49m\u001b[43m_check_test_data\u001b[49m\u001b[43m(\u001b[49m\u001b[43mX\u001b[49m\u001b[43m)\u001b[49m\n\u001b[1;32m   1101\u001b[0m \u001b[38;5;28;01mif\u001b[39;00m \u001b[38;5;129;01mnot\u001b[39;00m (\u001b[38;5;28misinstance\u001b[39m(sample_weight, \u001b[38;5;28mstr\u001b[39m) \u001b[38;5;129;01mand\u001b[39;00m sample_weight \u001b[38;5;241m==\u001b[39m \u001b[38;5;124m\"\u001b[39m\u001b[38;5;124mdeprecated\u001b[39m\u001b[38;5;124m\"\u001b[39m):\n\u001b[1;32m   1102\u001b[0m     warnings\u001b[38;5;241m.\u001b[39mwarn(\n\u001b[1;32m   1103\u001b[0m         (\n\u001b[1;32m   1104\u001b[0m             \u001b[38;5;124m\"\u001b[39m\u001b[38;5;124m'\u001b[39m\u001b[38;5;124msample_weight\u001b[39m\u001b[38;5;124m'\u001b[39m\u001b[38;5;124m was deprecated in version 1.3 and \u001b[39m\u001b[38;5;124m\"\u001b[39m\n\u001b[0;32m   (...)\u001b[0m\n\u001b[1;32m   1107\u001b[0m         \u001b[38;5;167;01mFutureWarning\u001b[39;00m,\n\u001b[1;32m   1108\u001b[0m     )\n",
      "File \u001b[0;32m/opt/homebrew/lib/python3.11/site-packages/sklearn/cluster/_kmeans.py:952\u001b[0m, in \u001b[0;36m_BaseKMeans._check_test_data\u001b[0;34m(self, X)\u001b[0m\n\u001b[1;32m    951\u001b[0m \u001b[38;5;28;01mdef\u001b[39;00m \u001b[38;5;21m_check_test_data\u001b[39m(\u001b[38;5;28mself\u001b[39m, X):\n\u001b[0;32m--> 952\u001b[0m     X \u001b[38;5;241m=\u001b[39m \u001b[38;5;28;43mself\u001b[39;49m\u001b[38;5;241;43m.\u001b[39;49m\u001b[43m_validate_data\u001b[49m\u001b[43m(\u001b[49m\n\u001b[1;32m    953\u001b[0m \u001b[43m        \u001b[49m\u001b[43mX\u001b[49m\u001b[43m,\u001b[49m\n\u001b[1;32m    954\u001b[0m \u001b[43m        \u001b[49m\u001b[43maccept_sparse\u001b[49m\u001b[38;5;241;43m=\u001b[39;49m\u001b[38;5;124;43m\"\u001b[39;49m\u001b[38;5;124;43mcsr\u001b[39;49m\u001b[38;5;124;43m\"\u001b[39;49m\u001b[43m,\u001b[49m\n\u001b[1;32m    955\u001b[0m \u001b[43m        \u001b[49m\u001b[43mreset\u001b[49m\u001b[38;5;241;43m=\u001b[39;49m\u001b[38;5;28;43;01mFalse\u001b[39;49;00m\u001b[43m,\u001b[49m\n\u001b[1;32m    956\u001b[0m \u001b[43m        \u001b[49m\u001b[43mdtype\u001b[49m\u001b[38;5;241;43m=\u001b[39;49m\u001b[43m[\u001b[49m\u001b[43mnp\u001b[49m\u001b[38;5;241;43m.\u001b[39;49m\u001b[43mfloat64\u001b[49m\u001b[43m,\u001b[49m\u001b[43m \u001b[49m\u001b[43mnp\u001b[49m\u001b[38;5;241;43m.\u001b[39;49m\u001b[43mfloat32\u001b[49m\u001b[43m]\u001b[49m\u001b[43m,\u001b[49m\n\u001b[1;32m    957\u001b[0m \u001b[43m        \u001b[49m\u001b[43morder\u001b[49m\u001b[38;5;241;43m=\u001b[39;49m\u001b[38;5;124;43m\"\u001b[39;49m\u001b[38;5;124;43mC\u001b[39;49m\u001b[38;5;124;43m\"\u001b[39;49m\u001b[43m,\u001b[49m\n\u001b[1;32m    958\u001b[0m \u001b[43m        \u001b[49m\u001b[43maccept_large_sparse\u001b[49m\u001b[38;5;241;43m=\u001b[39;49m\u001b[38;5;28;43;01mFalse\u001b[39;49;00m\u001b[43m,\u001b[49m\n\u001b[1;32m    959\u001b[0m \u001b[43m    \u001b[49m\u001b[43m)\u001b[49m\n\u001b[1;32m    960\u001b[0m     \u001b[38;5;28;01mreturn\u001b[39;00m X\n",
      "File \u001b[0;32m/opt/homebrew/lib/python3.11/site-packages/sklearn/base.py:608\u001b[0m, in \u001b[0;36mBaseEstimator._validate_data\u001b[0;34m(self, X, y, reset, validate_separately, cast_to_ndarray, **check_params)\u001b[0m\n\u001b[1;32m    537\u001b[0m \u001b[38;5;28;01mdef\u001b[39;00m \u001b[38;5;21m_validate_data\u001b[39m(\n\u001b[1;32m    538\u001b[0m     \u001b[38;5;28mself\u001b[39m,\n\u001b[1;32m    539\u001b[0m     X\u001b[38;5;241m=\u001b[39m\u001b[38;5;124m\"\u001b[39m\u001b[38;5;124mno_validation\u001b[39m\u001b[38;5;124m\"\u001b[39m,\n\u001b[0;32m   (...)\u001b[0m\n\u001b[1;32m    544\u001b[0m     \u001b[38;5;241m*\u001b[39m\u001b[38;5;241m*\u001b[39mcheck_params,\n\u001b[1;32m    545\u001b[0m ):\n\u001b[1;32m    546\u001b[0m \u001b[38;5;250m    \u001b[39m\u001b[38;5;124;03m\"\"\"Validate input data and set or check the `n_features_in_` attribute.\u001b[39;00m\n\u001b[1;32m    547\u001b[0m \n\u001b[1;32m    548\u001b[0m \u001b[38;5;124;03m    Parameters\u001b[39;00m\n\u001b[0;32m   (...)\u001b[0m\n\u001b[1;32m    606\u001b[0m \u001b[38;5;124;03m        validated.\u001b[39;00m\n\u001b[1;32m    607\u001b[0m \u001b[38;5;124;03m    \"\"\"\u001b[39;00m\n\u001b[0;32m--> 608\u001b[0m     \u001b[38;5;28;43mself\u001b[39;49m\u001b[38;5;241;43m.\u001b[39;49m\u001b[43m_check_feature_names\u001b[49m\u001b[43m(\u001b[49m\u001b[43mX\u001b[49m\u001b[43m,\u001b[49m\u001b[43m \u001b[49m\u001b[43mreset\u001b[49m\u001b[38;5;241;43m=\u001b[39;49m\u001b[43mreset\u001b[49m\u001b[43m)\u001b[49m\n\u001b[1;32m    610\u001b[0m     \u001b[38;5;28;01mif\u001b[39;00m y \u001b[38;5;129;01mis\u001b[39;00m \u001b[38;5;28;01mNone\u001b[39;00m \u001b[38;5;129;01mand\u001b[39;00m \u001b[38;5;28mself\u001b[39m\u001b[38;5;241m.\u001b[39m_get_tags()[\u001b[38;5;124m\"\u001b[39m\u001b[38;5;124mrequires_y\u001b[39m\u001b[38;5;124m\"\u001b[39m]:\n\u001b[1;32m    611\u001b[0m         \u001b[38;5;28;01mraise\u001b[39;00m \u001b[38;5;167;01mValueError\u001b[39;00m(\n\u001b[1;32m    612\u001b[0m             \u001b[38;5;124mf\u001b[39m\u001b[38;5;124m\"\u001b[39m\u001b[38;5;124mThis \u001b[39m\u001b[38;5;132;01m{\u001b[39;00m\u001b[38;5;28mself\u001b[39m\u001b[38;5;241m.\u001b[39m\u001b[38;5;18m__class__\u001b[39m\u001b[38;5;241m.\u001b[39m\u001b[38;5;18m__name__\u001b[39m\u001b[38;5;132;01m}\u001b[39;00m\u001b[38;5;124m estimator \u001b[39m\u001b[38;5;124m\"\u001b[39m\n\u001b[1;32m    613\u001b[0m             \u001b[38;5;124m\"\u001b[39m\u001b[38;5;124mrequires y to be passed, but the target y is None.\u001b[39m\u001b[38;5;124m\"\u001b[39m\n\u001b[1;32m    614\u001b[0m         )\n",
      "File \u001b[0;32m/opt/homebrew/lib/python3.11/site-packages/sklearn/base.py:535\u001b[0m, in \u001b[0;36mBaseEstimator._check_feature_names\u001b[0;34m(self, X, reset)\u001b[0m\n\u001b[1;32m    530\u001b[0m \u001b[38;5;28;01mif\u001b[39;00m \u001b[38;5;129;01mnot\u001b[39;00m missing_names \u001b[38;5;129;01mand\u001b[39;00m \u001b[38;5;129;01mnot\u001b[39;00m unexpected_names:\n\u001b[1;32m    531\u001b[0m     message \u001b[38;5;241m+\u001b[39m\u001b[38;5;241m=\u001b[39m (\n\u001b[1;32m    532\u001b[0m         \u001b[38;5;124m\"\u001b[39m\u001b[38;5;124mFeature names must be in the same order as they were in fit.\u001b[39m\u001b[38;5;130;01m\\n\u001b[39;00m\u001b[38;5;124m\"\u001b[39m\n\u001b[1;32m    533\u001b[0m     )\n\u001b[0;32m--> 535\u001b[0m \u001b[38;5;28;01mraise\u001b[39;00m \u001b[38;5;167;01mValueError\u001b[39;00m(message)\n",
      "\u001b[0;31mValueError\u001b[0m: The feature names should match those that were passed during fit.\nFeature names unseen at fit time:\n- avg_price\n- max_price\n- min_price\n- num_steps\n- price_range\nFeature names seen at fit time, yet now missing:\n- PC1\n- PC2\n- PC3\n"
     ]
    }
   ],
   "source": [
    "validation_labels = kmeans.predict(df_valid_feat_scaled)\n",
    "df_valid_feat_scaled['cluster_label'] = validation_labels\n",
    "\n",
    "cluster_labels_valid = df_valid_feat_scaled[['cluster_label']].copy()\n",
    "\n",
    "from draw_bid_curve import draw_bid_curves_for_multiple_days_2d\n",
    "draw_bid_curves_for_multiple_days_2d(df_valid, HOUR, cluster_labels_valid)"
   ]
  }
 ],
 "metadata": {
  "kernelspec": {
   "display_name": "Python 3",
   "language": "python",
   "name": "python3"
  },
  "language_info": {
   "codemirror_mode": {
    "name": "ipython",
    "version": 3
   },
   "file_extension": ".py",
   "mimetype": "text/x-python",
   "name": "python",
   "nbconvert_exporter": "python",
   "pygments_lexer": "ipython3",
   "version": "3.11.8"
  }
 },
 "nbformat": 4,
 "nbformat_minor": 2
}
